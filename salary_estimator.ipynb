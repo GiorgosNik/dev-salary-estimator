{
  "nbformat": 4,
  "nbformat_minor": 0,
  "metadata": {
    "colab": {
      "provenance": [],
      "authorship_tag": "ABX9TyMcV9FnVi3puGfBdAKjZ8Go",
      "include_colab_link": true
    },
    "kernelspec": {
      "name": "python3",
      "display_name": "Python 3"
    },
    "language_info": {
      "name": "python"
    }
  },
  "cells": [
    {
      "cell_type": "markdown",
      "metadata": {
        "id": "view-in-github",
        "colab_type": "text"
      },
      "source": [
        "<a href=\"https://colab.research.google.com/github/GiorgosNik/dev-salary-estimator/blob/main/salary_estimator.ipynb\" target=\"_parent\"><img src=\"https://colab.research.google.com/assets/colab-badge.svg\" alt=\"Open In Colab\"/></a>"
      ]
    },
    {
      "cell_type": "markdown",
      "source": [
        "# Imports"
      ],
      "metadata": {
        "id": "_K12Bkun-T0Z"
      }
    },
    {
      "cell_type": "code",
      "source": [
        "!pip install -U -q PyDrive\n",
        "!pip install -U -q geocoder\n",
        "!pip install -U -q tqdm\n",
        "!pip install -U -q tensorflow"
      ],
      "metadata": {
        "id": "ZSFaceekf-a6"
      },
      "execution_count": 236,
      "outputs": []
    },
    {
      "cell_type": "code",
      "execution_count": 237,
      "metadata": {
        "id": "apXdmT4L8GOD"
      },
      "outputs": [],
      "source": [
        "import tensorflow as tf\n",
        "import pandas as pd\n",
        "import numpy as np\n",
        "from collections import Counter\n",
        "from geopy.geocoders import Nominatim\n",
        "from tqdm import tqdm\n",
        "from tensorflow import feature_column\n",
        "from tensorflow.keras import layers\n",
        "from sklearn.model_selection import train_test_split\n",
        "\n",
        "# CSV import from Google Drive\n",
        "from pydrive.auth import GoogleAuth\n",
        "from pydrive.drive import GoogleDrive\n",
        "from google.colab import auth\n",
        "from oauth2client.client import GoogleCredentials"
      ]
    },
    {
      "cell_type": "markdown",
      "source": [
        "# Import and Format Data"
      ],
      "metadata": {
        "id": "u6lmA34W-XqH"
      }
    },
    {
      "cell_type": "markdown",
      "source": [
        "## Data Import from Google Drive\n",
        "Authenticate with GoogleAuth to retrieve the data .csv from Google Drive.\n",
        "The retrieved .csv file is stored in a pandas dataframe."
      ],
      "metadata": {
        "id": "bb3MZdj5kHiy"
      }
    },
    {
      "cell_type": "code",
      "source": [
        "# Authenticate and create the PyDrive client.\n",
        "auth.authenticate_user()\n",
        "gauth = GoogleAuth()\n",
        "gauth.credentials = GoogleCredentials.get_application_default()\n",
        "drive = GoogleDrive(gauth)\n",
        "\n",
        "# ID of Google Drive .csv document\n",
        "id = \"1cPsSR9XfyqOl15KqGV3BEqaxmL1R7lqq\"\n",
        "downloaded = drive.CreateFile({'id':id}) \n",
        "downloaded.GetContentFile('Filename.csv')  \n",
        "dataframe = pd.read_csv('Filename.csv')"
      ],
      "metadata": {
        "id": "M_B51PCL9fiR"
      },
      "execution_count": 238,
      "outputs": []
    },
    {
      "cell_type": "code",
      "source": [
        "dataframe.columns = ['timestamp', 'devtype', 'languages', 'years_experience','personal_projects', 'sex', 'remote','city_residence', 'city_work', 'company_size',  'supervisor', 'education', 'relevant', 'salary']\n",
        "\n",
        "# Remove the timestamp as it is irelevant\n",
        "dataframe = dataframe.drop(columns=['timestamp'])\n",
        "\n",
        "print(\"The dataset contains {} salary entries\".format( len(dataframe)))\n",
        "dataframe.head(2)"
      ],
      "metadata": {
        "colab": {
          "base_uri": "https://localhost:8080/",
          "height": 130
        },
        "id": "q4PV5g-79-AY",
        "outputId": "8adfe113-9cef-4244-d3ed-760c523096ba"
      },
      "execution_count": 239,
      "outputs": [
        {
          "output_type": "stream",
          "name": "stdout",
          "text": [
            "The dataset contains 807 salary entries\n"
          ]
        },
        {
          "output_type": "execute_result",
          "data": {
            "text/plain": [
              "             devtype        languages  years_experience personal_projects  \\\n",
              "0  Backend, Frontend  JavaScript, PHP                13               Ναι   \n",
              "1  Backend, Frontend       JavaScript                 7               Ναι   \n",
              "\n",
              "      sex         remote city_residence city_work company_size supervisor  \\\n",
              "0  Άντρας     Και τα δύο          Αθήνα     Αθήνα         501+        Όχι   \n",
              "1  Άντρας  Απομακρυσμένα          Αθήνα     Αθήνα    201 - 500        Όχι   \n",
              "\n",
              "    education relevant   salary  \n",
              "0  Bachelor's      Ναι  39361.0  \n",
              "1  Bachelor's      Ναι  30142.0  "
            ],
            "text/html": [
              "\n",
              "  <div id=\"df-8ed1c06b-d3a7-4777-a045-24a15d31c6aa\">\n",
              "    <div class=\"colab-df-container\">\n",
              "      <div>\n",
              "<style scoped>\n",
              "    .dataframe tbody tr th:only-of-type {\n",
              "        vertical-align: middle;\n",
              "    }\n",
              "\n",
              "    .dataframe tbody tr th {\n",
              "        vertical-align: top;\n",
              "    }\n",
              "\n",
              "    .dataframe thead th {\n",
              "        text-align: right;\n",
              "    }\n",
              "</style>\n",
              "<table border=\"1\" class=\"dataframe\">\n",
              "  <thead>\n",
              "    <tr style=\"text-align: right;\">\n",
              "      <th></th>\n",
              "      <th>devtype</th>\n",
              "      <th>languages</th>\n",
              "      <th>years_experience</th>\n",
              "      <th>personal_projects</th>\n",
              "      <th>sex</th>\n",
              "      <th>remote</th>\n",
              "      <th>city_residence</th>\n",
              "      <th>city_work</th>\n",
              "      <th>company_size</th>\n",
              "      <th>supervisor</th>\n",
              "      <th>education</th>\n",
              "      <th>relevant</th>\n",
              "      <th>salary</th>\n",
              "    </tr>\n",
              "  </thead>\n",
              "  <tbody>\n",
              "    <tr>\n",
              "      <th>0</th>\n",
              "      <td>Backend, Frontend</td>\n",
              "      <td>JavaScript, PHP</td>\n",
              "      <td>13</td>\n",
              "      <td>Ναι</td>\n",
              "      <td>Άντρας</td>\n",
              "      <td>Και τα δύο</td>\n",
              "      <td>Αθήνα</td>\n",
              "      <td>Αθήνα</td>\n",
              "      <td>501+</td>\n",
              "      <td>Όχι</td>\n",
              "      <td>Bachelor's</td>\n",
              "      <td>Ναι</td>\n",
              "      <td>39361.0</td>\n",
              "    </tr>\n",
              "    <tr>\n",
              "      <th>1</th>\n",
              "      <td>Backend, Frontend</td>\n",
              "      <td>JavaScript</td>\n",
              "      <td>7</td>\n",
              "      <td>Ναι</td>\n",
              "      <td>Άντρας</td>\n",
              "      <td>Απομακρυσμένα</td>\n",
              "      <td>Αθήνα</td>\n",
              "      <td>Αθήνα</td>\n",
              "      <td>201 - 500</td>\n",
              "      <td>Όχι</td>\n",
              "      <td>Bachelor's</td>\n",
              "      <td>Ναι</td>\n",
              "      <td>30142.0</td>\n",
              "    </tr>\n",
              "  </tbody>\n",
              "</table>\n",
              "</div>\n",
              "      <button class=\"colab-df-convert\" onclick=\"convertToInteractive('df-8ed1c06b-d3a7-4777-a045-24a15d31c6aa')\"\n",
              "              title=\"Convert this dataframe to an interactive table.\"\n",
              "              style=\"display:none;\">\n",
              "        \n",
              "  <svg xmlns=\"http://www.w3.org/2000/svg\" height=\"24px\"viewBox=\"0 0 24 24\"\n",
              "       width=\"24px\">\n",
              "    <path d=\"M0 0h24v24H0V0z\" fill=\"none\"/>\n",
              "    <path d=\"M18.56 5.44l.94 2.06.94-2.06 2.06-.94-2.06-.94-.94-2.06-.94 2.06-2.06.94zm-11 1L8.5 8.5l.94-2.06 2.06-.94-2.06-.94L8.5 2.5l-.94 2.06-2.06.94zm10 10l.94 2.06.94-2.06 2.06-.94-2.06-.94-.94-2.06-.94 2.06-2.06.94z\"/><path d=\"M17.41 7.96l-1.37-1.37c-.4-.4-.92-.59-1.43-.59-.52 0-1.04.2-1.43.59L10.3 9.45l-7.72 7.72c-.78.78-.78 2.05 0 2.83L4 21.41c.39.39.9.59 1.41.59.51 0 1.02-.2 1.41-.59l7.78-7.78 2.81-2.81c.8-.78.8-2.07 0-2.86zM5.41 20L4 18.59l7.72-7.72 1.47 1.35L5.41 20z\"/>\n",
              "  </svg>\n",
              "      </button>\n",
              "      \n",
              "  <style>\n",
              "    .colab-df-container {\n",
              "      display:flex;\n",
              "      flex-wrap:wrap;\n",
              "      gap: 12px;\n",
              "    }\n",
              "\n",
              "    .colab-df-convert {\n",
              "      background-color: #E8F0FE;\n",
              "      border: none;\n",
              "      border-radius: 50%;\n",
              "      cursor: pointer;\n",
              "      display: none;\n",
              "      fill: #1967D2;\n",
              "      height: 32px;\n",
              "      padding: 0 0 0 0;\n",
              "      width: 32px;\n",
              "    }\n",
              "\n",
              "    .colab-df-convert:hover {\n",
              "      background-color: #E2EBFA;\n",
              "      box-shadow: 0px 1px 2px rgba(60, 64, 67, 0.3), 0px 1px 3px 1px rgba(60, 64, 67, 0.15);\n",
              "      fill: #174EA6;\n",
              "    }\n",
              "\n",
              "    [theme=dark] .colab-df-convert {\n",
              "      background-color: #3B4455;\n",
              "      fill: #D2E3FC;\n",
              "    }\n",
              "\n",
              "    [theme=dark] .colab-df-convert:hover {\n",
              "      background-color: #434B5C;\n",
              "      box-shadow: 0px 1px 3px 1px rgba(0, 0, 0, 0.15);\n",
              "      filter: drop-shadow(0px 1px 2px rgba(0, 0, 0, 0.3));\n",
              "      fill: #FFFFFF;\n",
              "    }\n",
              "  </style>\n",
              "\n",
              "      <script>\n",
              "        const buttonEl =\n",
              "          document.querySelector('#df-8ed1c06b-d3a7-4777-a045-24a15d31c6aa button.colab-df-convert');\n",
              "        buttonEl.style.display =\n",
              "          google.colab.kernel.accessAllowed ? 'block' : 'none';\n",
              "\n",
              "        async function convertToInteractive(key) {\n",
              "          const element = document.querySelector('#df-8ed1c06b-d3a7-4777-a045-24a15d31c6aa');\n",
              "          const dataTable =\n",
              "            await google.colab.kernel.invokeFunction('convertToInteractive',\n",
              "                                                     [key], {});\n",
              "          if (!dataTable) return;\n",
              "\n",
              "          const docLinkHtml = 'Like what you see? Visit the ' +\n",
              "            '<a target=\"_blank\" href=https://colab.research.google.com/notebooks/data_table.ipynb>data table notebook</a>'\n",
              "            + ' to learn more about interactive tables.';\n",
              "          element.innerHTML = '';\n",
              "          dataTable['output_type'] = 'display_data';\n",
              "          await google.colab.output.renderOutput(dataTable, element);\n",
              "          const docLink = document.createElement('div');\n",
              "          docLink.innerHTML = docLinkHtml;\n",
              "          element.appendChild(docLink);\n",
              "        }\n",
              "      </script>\n",
              "    </div>\n",
              "  </div>\n",
              "  "
            ]
          },
          "metadata": {},
          "execution_count": 239
        }
      ]
    },
    {
      "cell_type": "markdown",
      "source": [
        "## Remove entries that contain very rare developer types\n",
        "Entries that occur under 5 times are considered rare."
      ],
      "metadata": {
        "id": "BasxDZwQmEhS"
      }
    },
    {
      "cell_type": "code",
      "source": [
        "UNK = 'unk'\n",
        "\n",
        "def categorize_clean_columns(df, colname, threshold):\n",
        "    df[colname] = df[colname].map(lambda x: x.replace(' ', '').split(','))\n",
        "    c = Counter([item for sublist in df[colname].values for item in sublist])\n",
        "\n",
        "    map_to_unk = set([el for el in c.elements() if c[el] <= threshold])\n",
        "\n",
        "    def map_devtype_unk(arr):\n",
        "      def x_or_unk(x):\n",
        "        if x in map_to_unk:\n",
        "          return UNK\n",
        "        return x\n",
        "\n",
        "      return [x_or_unk(x) for x in arr]\n",
        "\n",
        "    df[colname] = df[colname].map(lambda x: map_devtype_unk(x))\n",
        "\n",
        "    def is_sole_uknown(arr):\n",
        "      return arr[0] == UNK and len(arr) == 1\n",
        "\n",
        "    return df[df[colname].map(is_sole_uknown) == False]"
      ],
      "metadata": {
        "id": "3Oqupvawe4Mo"
      },
      "execution_count": 240,
      "outputs": []
    },
    {
      "cell_type": "code",
      "source": [
        "dataframe = categorize_clean_columns(dataframe, 'devtype', 5)\n",
        "dataframe = categorize_clean_columns(dataframe, 'languages', 5)\n",
        "\n",
        "len(dataframe) # ~ 20 rows with few entries"
      ],
      "metadata": {
        "id": "8g-DYWIni0y2",
        "outputId": "e7ce52b4-a366-4f50-85cb-07f4c41665a5",
        "colab": {
          "base_uri": "https://localhost:8080/"
        }
      },
      "execution_count": 241,
      "outputs": [
        {
          "output_type": "execute_result",
          "data": {
            "text/plain": [
              "738"
            ]
          },
          "metadata": {},
          "execution_count": 241
        }
      ]
    },
    {
      "cell_type": "code",
      "source": [
        "def fix_salary(salary):\n",
        "    salary = salary.replace('.', '')\n",
        "    salary = salary.replace(',', '')\n",
        "    salary = salary.replace('€', '')\n",
        "    salary = int(salary)\n",
        "    if salary < 4000:\n",
        "      return salary * 14\n",
        "    \n",
        "    return salary\n",
        "\n",
        "dataframe['salary'] = dataframe['salary'].map(lambda x: fix_salary(str(x))).astype('float32')\n",
        "dataframe.head(2)"
      ],
      "metadata": {
        "id": "pE5kbqqzmhLC",
        "outputId": "2a5548f2-6fbe-42a7-e9b0-b390726044b0",
        "colab": {
          "base_uri": "https://localhost:8080/",
          "height": 112
        }
      },
      "execution_count": 242,
      "outputs": [
        {
          "output_type": "execute_result",
          "data": {
            "text/plain": [
              "               devtype          languages  years_experience personal_projects  \\\n",
              "0  [Backend, Frontend]  [JavaScript, PHP]                13               Ναι   \n",
              "1  [Backend, Frontend]       [JavaScript]                 7               Ναι   \n",
              "\n",
              "      sex         remote city_residence city_work company_size supervisor  \\\n",
              "0  Άντρας     Και τα δύο          Αθήνα     Αθήνα         501+        Όχι   \n",
              "1  Άντρας  Απομακρυσμένα          Αθήνα     Αθήνα    201 - 500        Όχι   \n",
              "\n",
              "    education relevant    salary  \n",
              "0  Bachelor's      Ναι  393610.0  \n",
              "1  Bachelor's      Ναι  301420.0  "
            ],
            "text/html": [
              "\n",
              "  <div id=\"df-d7a64b00-6a24-410e-9cfe-1196970af8aa\">\n",
              "    <div class=\"colab-df-container\">\n",
              "      <div>\n",
              "<style scoped>\n",
              "    .dataframe tbody tr th:only-of-type {\n",
              "        vertical-align: middle;\n",
              "    }\n",
              "\n",
              "    .dataframe tbody tr th {\n",
              "        vertical-align: top;\n",
              "    }\n",
              "\n",
              "    .dataframe thead th {\n",
              "        text-align: right;\n",
              "    }\n",
              "</style>\n",
              "<table border=\"1\" class=\"dataframe\">\n",
              "  <thead>\n",
              "    <tr style=\"text-align: right;\">\n",
              "      <th></th>\n",
              "      <th>devtype</th>\n",
              "      <th>languages</th>\n",
              "      <th>years_experience</th>\n",
              "      <th>personal_projects</th>\n",
              "      <th>sex</th>\n",
              "      <th>remote</th>\n",
              "      <th>city_residence</th>\n",
              "      <th>city_work</th>\n",
              "      <th>company_size</th>\n",
              "      <th>supervisor</th>\n",
              "      <th>education</th>\n",
              "      <th>relevant</th>\n",
              "      <th>salary</th>\n",
              "    </tr>\n",
              "  </thead>\n",
              "  <tbody>\n",
              "    <tr>\n",
              "      <th>0</th>\n",
              "      <td>[Backend, Frontend]</td>\n",
              "      <td>[JavaScript, PHP]</td>\n",
              "      <td>13</td>\n",
              "      <td>Ναι</td>\n",
              "      <td>Άντρας</td>\n",
              "      <td>Και τα δύο</td>\n",
              "      <td>Αθήνα</td>\n",
              "      <td>Αθήνα</td>\n",
              "      <td>501+</td>\n",
              "      <td>Όχι</td>\n",
              "      <td>Bachelor's</td>\n",
              "      <td>Ναι</td>\n",
              "      <td>393610.0</td>\n",
              "    </tr>\n",
              "    <tr>\n",
              "      <th>1</th>\n",
              "      <td>[Backend, Frontend]</td>\n",
              "      <td>[JavaScript]</td>\n",
              "      <td>7</td>\n",
              "      <td>Ναι</td>\n",
              "      <td>Άντρας</td>\n",
              "      <td>Απομακρυσμένα</td>\n",
              "      <td>Αθήνα</td>\n",
              "      <td>Αθήνα</td>\n",
              "      <td>201 - 500</td>\n",
              "      <td>Όχι</td>\n",
              "      <td>Bachelor's</td>\n",
              "      <td>Ναι</td>\n",
              "      <td>301420.0</td>\n",
              "    </tr>\n",
              "  </tbody>\n",
              "</table>\n",
              "</div>\n",
              "      <button class=\"colab-df-convert\" onclick=\"convertToInteractive('df-d7a64b00-6a24-410e-9cfe-1196970af8aa')\"\n",
              "              title=\"Convert this dataframe to an interactive table.\"\n",
              "              style=\"display:none;\">\n",
              "        \n",
              "  <svg xmlns=\"http://www.w3.org/2000/svg\" height=\"24px\"viewBox=\"0 0 24 24\"\n",
              "       width=\"24px\">\n",
              "    <path d=\"M0 0h24v24H0V0z\" fill=\"none\"/>\n",
              "    <path d=\"M18.56 5.44l.94 2.06.94-2.06 2.06-.94-2.06-.94-.94-2.06-.94 2.06-2.06.94zm-11 1L8.5 8.5l.94-2.06 2.06-.94-2.06-.94L8.5 2.5l-.94 2.06-2.06.94zm10 10l.94 2.06.94-2.06 2.06-.94-2.06-.94-.94-2.06-.94 2.06-2.06.94z\"/><path d=\"M17.41 7.96l-1.37-1.37c-.4-.4-.92-.59-1.43-.59-.52 0-1.04.2-1.43.59L10.3 9.45l-7.72 7.72c-.78.78-.78 2.05 0 2.83L4 21.41c.39.39.9.59 1.41.59.51 0 1.02-.2 1.41-.59l7.78-7.78 2.81-2.81c.8-.78.8-2.07 0-2.86zM5.41 20L4 18.59l7.72-7.72 1.47 1.35L5.41 20z\"/>\n",
              "  </svg>\n",
              "      </button>\n",
              "      \n",
              "  <style>\n",
              "    .colab-df-container {\n",
              "      display:flex;\n",
              "      flex-wrap:wrap;\n",
              "      gap: 12px;\n",
              "    }\n",
              "\n",
              "    .colab-df-convert {\n",
              "      background-color: #E8F0FE;\n",
              "      border: none;\n",
              "      border-radius: 50%;\n",
              "      cursor: pointer;\n",
              "      display: none;\n",
              "      fill: #1967D2;\n",
              "      height: 32px;\n",
              "      padding: 0 0 0 0;\n",
              "      width: 32px;\n",
              "    }\n",
              "\n",
              "    .colab-df-convert:hover {\n",
              "      background-color: #E2EBFA;\n",
              "      box-shadow: 0px 1px 2px rgba(60, 64, 67, 0.3), 0px 1px 3px 1px rgba(60, 64, 67, 0.15);\n",
              "      fill: #174EA6;\n",
              "    }\n",
              "\n",
              "    [theme=dark] .colab-df-convert {\n",
              "      background-color: #3B4455;\n",
              "      fill: #D2E3FC;\n",
              "    }\n",
              "\n",
              "    [theme=dark] .colab-df-convert:hover {\n",
              "      background-color: #434B5C;\n",
              "      box-shadow: 0px 1px 3px 1px rgba(0, 0, 0, 0.15);\n",
              "      filter: drop-shadow(0px 1px 2px rgba(0, 0, 0, 0.3));\n",
              "      fill: #FFFFFF;\n",
              "    }\n",
              "  </style>\n",
              "\n",
              "      <script>\n",
              "        const buttonEl =\n",
              "          document.querySelector('#df-d7a64b00-6a24-410e-9cfe-1196970af8aa button.colab-df-convert');\n",
              "        buttonEl.style.display =\n",
              "          google.colab.kernel.accessAllowed ? 'block' : 'none';\n",
              "\n",
              "        async function convertToInteractive(key) {\n",
              "          const element = document.querySelector('#df-d7a64b00-6a24-410e-9cfe-1196970af8aa');\n",
              "          const dataTable =\n",
              "            await google.colab.kernel.invokeFunction('convertToInteractive',\n",
              "                                                     [key], {});\n",
              "          if (!dataTable) return;\n",
              "\n",
              "          const docLinkHtml = 'Like what you see? Visit the ' +\n",
              "            '<a target=\"_blank\" href=https://colab.research.google.com/notebooks/data_table.ipynb>data table notebook</a>'\n",
              "            + ' to learn more about interactive tables.';\n",
              "          element.innerHTML = '';\n",
              "          dataTable['output_type'] = 'display_data';\n",
              "          await google.colab.output.renderOutput(dataTable, element);\n",
              "          const docLink = document.createElement('div');\n",
              "          docLink.innerHTML = docLinkHtml;\n",
              "          element.appendChild(docLink);\n",
              "        }\n",
              "      </script>\n",
              "    </div>\n",
              "  </div>\n",
              "  "
            ]
          },
          "metadata": {},
          "execution_count": 242
        }
      ]
    },
    {
      "cell_type": "code",
      "source": [
        "cities_residence, cities_work = pd.unique(dataframe['city_residence'].values), pd.unique(dataframe['city_work'].values)"
      ],
      "metadata": {
        "id": "U-Ig4LOLomoX"
      },
      "execution_count": 243,
      "outputs": []
    },
    {
      "cell_type": "code",
      "source": [
        "geolocator = Nominatim(user_agent=\"test\")\n",
        "\n",
        "# TODO: experiment with country\n",
        "with tqdm(total=len(cities_residence), desc='Formatting City Names') as city_progressbar:\n",
        "  for city in cities_residence:\n",
        "    try:\n",
        "      area = geolocator.geocode(city).address.split(\",\")[0]\n",
        "      country = geolocator.geocode(city).address.split(\",\")[-1]\n",
        "      print(country)\n",
        "      dataframe['city_residence'] = dataframe['city_residence'].replace(city,area)\n",
        "\n",
        "    except AttributeError:\n",
        "      dataframe['city_residence'] = dataframe['city_residence'].replace(city,\"UNK\")\n",
        "    city_progressbar.update(1)\n",
        "\n",
        "dataframe = dataframe[dataframe.years_experience != \"UNK\"]\n",
        "dataframe = dataframe[dataframe.city_residence == \"Αθήνα\"]\n",
        "print(\"##### Unique Cities #####\")\n",
        "pd.unique(dataframe['city_residence'].values)\n",
        "\n",
        "dataframe = dataframe.drop(columns=['city_residence', 'city_work'])\n",
        "dataframe.head(2)"
      ],
      "metadata": {
        "id": "oUCaylBYotjf",
        "outputId": "ff77049a-edb6-4d73-b2e7-fe207297f713",
        "colab": {
          "base_uri": "https://localhost:8080/",
          "height": 1000
        }
      },
      "execution_count": 244,
      "outputs": [
        {
          "output_type": "stream",
          "name": "stderr",
          "text": [
            "Formatting City Names:   1%|          | 1/83 [00:00<01:13,  1.12it/s]"
          ]
        },
        {
          "output_type": "stream",
          "name": "stdout",
          "text": [
            " Ελλάς\n"
          ]
        },
        {
          "output_type": "stream",
          "name": "stderr",
          "text": [
            "\rFormatting City Names:   2%|▏         | 2/83 [00:01<01:15,  1.08it/s]"
          ]
        },
        {
          "output_type": "stream",
          "name": "stdout",
          "text": [
            " Ελλάς\n"
          ]
        },
        {
          "output_type": "stream",
          "name": "stderr",
          "text": [
            "\rFormatting City Names:   4%|▎         | 3/83 [00:02<01:17,  1.04it/s]"
          ]
        },
        {
          "output_type": "stream",
          "name": "stdout",
          "text": [
            " United Kingdom\n"
          ]
        },
        {
          "output_type": "stream",
          "name": "stderr",
          "text": [
            "\rFormatting City Names:   5%|▍         | 4/83 [00:03<01:17,  1.03it/s]"
          ]
        },
        {
          "output_type": "stream",
          "name": "stdout",
          "text": [
            " Ελλάς\n"
          ]
        },
        {
          "output_type": "stream",
          "name": "stderr",
          "text": [
            "\rFormatting City Names:   6%|▌         | 5/83 [00:04<01:17,  1.01it/s]"
          ]
        },
        {
          "output_type": "stream",
          "name": "stdout",
          "text": [
            " Ελλάς\n"
          ]
        },
        {
          "output_type": "stream",
          "name": "stderr",
          "text": [
            "\rFormatting City Names:   7%|▋         | 6/83 [00:05<01:16,  1.01it/s]"
          ]
        },
        {
          "output_type": "stream",
          "name": "stdout",
          "text": [
            " Ελλάς\n"
          ]
        },
        {
          "output_type": "stream",
          "name": "stderr",
          "text": [
            "\rFormatting City Names:   8%|▊         | 7/83 [00:06<01:15,  1.01it/s]"
          ]
        },
        {
          "output_type": "stream",
          "name": "stdout",
          "text": [
            " Ελλάς\n"
          ]
        },
        {
          "output_type": "stream",
          "name": "stderr",
          "text": [
            "\rFormatting City Names:  10%|▉         | 8/83 [00:07<01:15,  1.01s/it]"
          ]
        },
        {
          "output_type": "stream",
          "name": "stdout",
          "text": [
            " Deutschland\n"
          ]
        },
        {
          "output_type": "stream",
          "name": "stderr",
          "text": [
            "\rFormatting City Names:  11%|█         | 9/83 [00:08<01:13,  1.01it/s]"
          ]
        },
        {
          "output_type": "stream",
          "name": "stdout",
          "text": [
            " Ελλάς\n"
          ]
        },
        {
          "output_type": "stream",
          "name": "stderr",
          "text": [
            "\rFormatting City Names:  12%|█▏        | 10/83 [00:09<01:13,  1.00s/it]"
          ]
        },
        {
          "output_type": "stream",
          "name": "stdout",
          "text": [
            " France\n"
          ]
        },
        {
          "output_type": "stream",
          "name": "stderr",
          "text": [
            "\rFormatting City Names:  13%|█▎        | 11/83 [00:10<01:11,  1.00it/s]"
          ]
        },
        {
          "output_type": "stream",
          "name": "stdout",
          "text": [
            " Ελλάς\n"
          ]
        },
        {
          "output_type": "stream",
          "name": "stderr",
          "text": [
            "\rFormatting City Names:  14%|█▍        | 12/83 [00:11<01:11,  1.00s/it]"
          ]
        },
        {
          "output_type": "stream",
          "name": "stdout",
          "text": [
            " Ελλάς\n"
          ]
        },
        {
          "output_type": "stream",
          "name": "stderr",
          "text": [
            "\rFormatting City Names:  16%|█▌        | 13/83 [00:12<01:09,  1.00it/s]"
          ]
        },
        {
          "output_type": "stream",
          "name": "stdout",
          "text": [
            " Ελλάς\n"
          ]
        },
        {
          "output_type": "stream",
          "name": "stderr",
          "text": [
            "\rFormatting City Names:  17%|█▋        | 14/83 [00:13<01:08,  1.00it/s]"
          ]
        },
        {
          "output_type": "stream",
          "name": "stdout",
          "text": [
            " Ελλάς\n"
          ]
        },
        {
          "output_type": "stream",
          "name": "stderr",
          "text": [
            "\rFormatting City Names:  18%|█▊        | 15/83 [00:14<01:07,  1.00it/s]"
          ]
        },
        {
          "output_type": "stream",
          "name": "stdout",
          "text": [
            " Ελλάς\n"
          ]
        },
        {
          "output_type": "stream",
          "name": "stderr",
          "text": [
            "\rFormatting City Names:  19%|█▉        | 16/83 [00:15<01:07,  1.00s/it]"
          ]
        },
        {
          "output_type": "stream",
          "name": "stdout",
          "text": [
            " Indonesia\n"
          ]
        },
        {
          "output_type": "stream",
          "name": "stderr",
          "text": [
            "\rFormatting City Names:  20%|██        | 17/83 [00:16<01:06,  1.00s/it]"
          ]
        },
        {
          "output_type": "stream",
          "name": "stdout",
          "text": [
            " Slovensko\n"
          ]
        },
        {
          "output_type": "stream",
          "name": "stderr",
          "text": [
            "\rFormatting City Names:  22%|██▏       | 18/83 [00:17<01:05,  1.00s/it]"
          ]
        },
        {
          "output_type": "stream",
          "name": "stdout",
          "text": [
            " Ελλάς\n"
          ]
        },
        {
          "output_type": "stream",
          "name": "stderr",
          "text": [
            "\rFormatting City Names:  23%|██▎       | 19/83 [00:18<01:03,  1.00it/s]"
          ]
        },
        {
          "output_type": "stream",
          "name": "stdout",
          "text": [
            " Ελλάς\n"
          ]
        },
        {
          "output_type": "stream",
          "name": "stderr",
          "text": [
            "\rFormatting City Names:  24%|██▍       | 20/83 [00:19<01:02,  1.00it/s]"
          ]
        },
        {
          "output_type": "stream",
          "name": "stdout",
          "text": [
            " Ελλάς\n"
          ]
        },
        {
          "output_type": "stream",
          "name": "stderr",
          "text": [
            "\rFormatting City Names:  25%|██▌       | 21/83 [00:20<01:02,  1.02s/it]"
          ]
        },
        {
          "output_type": "stream",
          "name": "stdout",
          "text": [
            " Nederland\n"
          ]
        },
        {
          "output_type": "stream",
          "name": "stderr",
          "text": [
            "\rFormatting City Names:  27%|██▋       | 22/83 [00:21<01:00,  1.00it/s]"
          ]
        },
        {
          "output_type": "stream",
          "name": "stdout",
          "text": [
            " Ελλάς\n"
          ]
        },
        {
          "output_type": "stream",
          "name": "stderr",
          "text": [
            "\rFormatting City Names:  28%|██▊       | 23/83 [00:22<01:00,  1.00s/it]"
          ]
        },
        {
          "output_type": "stream",
          "name": "stdout",
          "text": [
            " Deutschland\n"
          ]
        },
        {
          "output_type": "stream",
          "name": "stderr",
          "text": [
            "\rFormatting City Names:  29%|██▉       | 24/83 [00:23<00:59,  1.00s/it]"
          ]
        },
        {
          "output_type": "stream",
          "name": "stdout",
          "text": [
            " Ελλάς\n"
          ]
        },
        {
          "output_type": "stream",
          "name": "stderr",
          "text": [
            "\rFormatting City Names:  30%|███       | 25/83 [00:24<00:58,  1.00s/it]"
          ]
        },
        {
          "output_type": "stream",
          "name": "stdout",
          "text": [
            " Ελλάς\n"
          ]
        },
        {
          "output_type": "stream",
          "name": "stderr",
          "text": [
            "\rFormatting City Names:  31%|███▏      | 26/83 [00:25<00:57,  1.01s/it]"
          ]
        },
        {
          "output_type": "stream",
          "name": "stdout",
          "text": [
            " Österreich\n"
          ]
        },
        {
          "output_type": "stream",
          "name": "stderr",
          "text": [
            "\rFormatting City Names:  33%|███▎      | 27/83 [00:26<00:55,  1.00it/s]"
          ]
        },
        {
          "output_type": "stream",
          "name": "stdout",
          "text": [
            "Italia\n"
          ]
        },
        {
          "output_type": "stream",
          "name": "stderr",
          "text": [
            "\rFormatting City Names:  34%|███▎      | 28/83 [00:27<00:54,  1.01it/s]"
          ]
        },
        {
          "output_type": "stream",
          "name": "stdout",
          "text": [
            " United Kingdom\n"
          ]
        },
        {
          "output_type": "stream",
          "name": "stderr",
          "text": [
            "\rFormatting City Names:  35%|███▍      | 29/83 [00:28<00:53,  1.00it/s]"
          ]
        },
        {
          "output_type": "stream",
          "name": "stdout",
          "text": [
            " Κύπρος - Kıbrıs\n"
          ]
        },
        {
          "output_type": "stream",
          "name": "stderr",
          "text": [
            "\rFormatting City Names:  36%|███▌      | 30/83 [00:29<00:53,  1.01s/it]"
          ]
        },
        {
          "output_type": "stream",
          "name": "stdout",
          "text": [
            " افغانستان\n"
          ]
        },
        {
          "output_type": "stream",
          "name": "stderr",
          "text": [
            "\rFormatting City Names:  37%|███▋      | 31/83 [00:30<00:51,  1.00it/s]"
          ]
        },
        {
          "output_type": "stream",
          "name": "stdout",
          "text": [
            " Sverige\n"
          ]
        },
        {
          "output_type": "stream",
          "name": "stderr",
          "text": [
            "\rFormatting City Names:  39%|███▊      | 32/83 [00:31<00:50,  1.01it/s]"
          ]
        },
        {
          "output_type": "stream",
          "name": "stdout",
          "text": [
            " Nederland\n"
          ]
        },
        {
          "output_type": "stream",
          "name": "stderr",
          "text": [
            "\rFormatting City Names:  40%|███▉      | 33/83 [00:32<00:50,  1.00s/it]"
          ]
        },
        {
          "output_type": "stream",
          "name": "stdout",
          "text": [
            " Ελλάς\n"
          ]
        },
        {
          "output_type": "stream",
          "name": "stderr",
          "text": [
            "\rFormatting City Names:  41%|████      | 34/83 [00:33<00:48,  1.00it/s]"
          ]
        },
        {
          "output_type": "stream",
          "name": "stdout",
          "text": [
            " United Kingdom\n"
          ]
        },
        {
          "output_type": "stream",
          "name": "stderr",
          "text": [
            "\rFormatting City Names:  42%|████▏     | 35/83 [00:34<00:48,  1.00s/it]"
          ]
        },
        {
          "output_type": "stream",
          "name": "stdout",
          "text": [
            " Ελλάς\n"
          ]
        },
        {
          "output_type": "stream",
          "name": "stderr",
          "text": [
            "\rFormatting City Names:  43%|████▎     | 36/83 [00:35<00:46,  1.00it/s]"
          ]
        },
        {
          "output_type": "stream",
          "name": "stdout",
          "text": [
            " Ελλάς\n"
          ]
        },
        {
          "output_type": "stream",
          "name": "stderr",
          "text": [
            "\rFormatting City Names:  45%|████▍     | 37/83 [00:36<00:45,  1.00it/s]"
          ]
        },
        {
          "output_type": "stream",
          "name": "stdout",
          "text": [
            " Ελλάς\n"
          ]
        },
        {
          "output_type": "stream",
          "name": "stderr",
          "text": [
            "\rFormatting City Names:  46%|████▌     | 38/83 [00:37<00:44,  1.00it/s]"
          ]
        },
        {
          "output_type": "stream",
          "name": "stdout",
          "text": [
            " Ελλάς\n"
          ]
        },
        {
          "output_type": "stream",
          "name": "stderr",
          "text": [
            "\rFormatting City Names:  47%|████▋     | 39/83 [00:38<00:43,  1.00it/s]"
          ]
        },
        {
          "output_type": "stream",
          "name": "stdout",
          "text": [
            " Schweiz/Suisse/Svizzera/Svizra\n"
          ]
        },
        {
          "output_type": "stream",
          "name": "stderr",
          "text": [
            "\rFormatting City Names:  48%|████▊     | 40/83 [00:39<00:43,  1.00s/it]"
          ]
        },
        {
          "output_type": "stream",
          "name": "stdout",
          "text": [
            " Ελλάς\n"
          ]
        },
        {
          "output_type": "stream",
          "name": "stderr",
          "text": [
            "\rFormatting City Names:  49%|████▉     | 41/83 [00:40<00:41,  1.01it/s]"
          ]
        },
        {
          "output_type": "stream",
          "name": "stdout",
          "text": [
            " Κύπρος - Kıbrıs\n"
          ]
        },
        {
          "output_type": "stream",
          "name": "stderr",
          "text": [
            "\rFormatting City Names:  51%|█████     | 42/83 [00:41<00:41,  1.00s/it]"
          ]
        },
        {
          "output_type": "stream",
          "name": "stdout",
          "text": [
            " Ελλάς\n"
          ]
        },
        {
          "output_type": "stream",
          "name": "stderr",
          "text": [
            "\rFormatting City Names:  52%|█████▏    | 43/83 [00:42<00:39,  1.00it/s]"
          ]
        },
        {
          "output_type": "stream",
          "name": "stdout",
          "text": [
            " Česko\n"
          ]
        },
        {
          "output_type": "stream",
          "name": "stderr",
          "text": [
            "\rFormatting City Names:  53%|█████▎    | 44/83 [00:43<00:38,  1.00it/s]"
          ]
        },
        {
          "output_type": "stream",
          "name": "stdout",
          "text": [
            " Danmark\n"
          ]
        },
        {
          "output_type": "stream",
          "name": "stderr",
          "text": [
            "\rFormatting City Names:  54%|█████▍    | 45/83 [00:44<00:37,  1.00it/s]"
          ]
        },
        {
          "output_type": "stream",
          "name": "stdout",
          "text": [
            " Ελλάς\n"
          ]
        },
        {
          "output_type": "stream",
          "name": "stderr",
          "text": [
            "\rFormatting City Names:  55%|█████▌    | 46/83 [00:45<00:36,  1.00it/s]"
          ]
        },
        {
          "output_type": "stream",
          "name": "stdout",
          "text": [
            " Ελλάς\n"
          ]
        },
        {
          "output_type": "stream",
          "name": "stderr",
          "text": [
            "\rFormatting City Names:  57%|█████▋    | 47/83 [00:46<00:35,  1.00it/s]"
          ]
        },
        {
          "output_type": "stream",
          "name": "stdout",
          "text": [
            " Ελλάς\n"
          ]
        },
        {
          "output_type": "stream",
          "name": "stderr",
          "text": [
            "\rFormatting City Names:  58%|█████▊    | 48/83 [00:47<00:35,  1.01s/it]"
          ]
        },
        {
          "output_type": "stream",
          "name": "stdout",
          "text": [
            " United Kingdom\n"
          ]
        },
        {
          "output_type": "stream",
          "name": "stderr",
          "text": [
            "\rFormatting City Names:  59%|█████▉    | 49/83 [00:48<00:33,  1.00it/s]"
          ]
        },
        {
          "output_type": "stream",
          "name": "stdout",
          "text": [
            " Κύπρος - Kıbrıs\n"
          ]
        },
        {
          "output_type": "stream",
          "name": "stderr",
          "text": [
            "\rFormatting City Names:  60%|██████    | 50/83 [00:49<00:32,  1.00it/s]"
          ]
        },
        {
          "output_type": "stream",
          "name": "stdout",
          "text": [
            " België / Belgique / Belgien\n"
          ]
        },
        {
          "output_type": "stream",
          "name": "stderr",
          "text": [
            "\rFormatting City Names:  61%|██████▏   | 51/83 [00:50<00:32,  1.00s/it]"
          ]
        },
        {
          "output_type": "stream",
          "name": "stdout",
          "text": [
            " Ελλάς\n"
          ]
        },
        {
          "output_type": "stream",
          "name": "stderr",
          "text": [
            "\rFormatting City Names:  63%|██████▎   | 52/83 [00:51<00:31,  1.00s/it]"
          ]
        },
        {
          "output_type": "stream",
          "name": "stdout",
          "text": [
            " Ελλάς\n"
          ]
        },
        {
          "output_type": "stream",
          "name": "stderr",
          "text": [
            "\rFormatting City Names:  64%|██████▍   | 53/83 [00:53<00:33,  1.13s/it]"
          ]
        },
        {
          "output_type": "stream",
          "name": "stdout",
          "text": [
            " United Kingdom\n"
          ]
        },
        {
          "output_type": "stream",
          "name": "stderr",
          "text": [
            "\rFormatting City Names:  65%|██████▌   | 54/83 [00:54<00:33,  1.16s/it]"
          ]
        },
        {
          "output_type": "stream",
          "name": "stdout",
          "text": [
            " Ελλάς\n"
          ]
        },
        {
          "output_type": "stream",
          "name": "stderr",
          "text": [
            "\rFormatting City Names:  66%|██████▋   | 55/83 [00:55<00:28,  1.00s/it]"
          ]
        },
        {
          "output_type": "stream",
          "name": "stdout",
          "text": [
            " Ελλάς\n"
          ]
        },
        {
          "output_type": "stream",
          "name": "stderr",
          "text": [
            "\rFormatting City Names:  67%|██████▋   | 56/83 [00:56<00:27,  1.02s/it]"
          ]
        },
        {
          "output_type": "stream",
          "name": "stdout",
          "text": [
            " Schweiz/Suisse/Svizzera/Svizra\n"
          ]
        },
        {
          "output_type": "stream",
          "name": "stderr",
          "text": [
            "\rFormatting City Names:  69%|██████▊   | 57/83 [00:57<00:25,  1.01it/s]"
          ]
        },
        {
          "output_type": "stream",
          "name": "stdout",
          "text": [
            " Ελλάς\n"
          ]
        },
        {
          "output_type": "stream",
          "name": "stderr",
          "text": [
            "\rFormatting City Names:  70%|██████▉   | 58/83 [00:58<00:25,  1.01s/it]"
          ]
        },
        {
          "output_type": "stream",
          "name": "stdout",
          "text": [
            " Ελλάς\n"
          ]
        },
        {
          "output_type": "stream",
          "name": "stderr",
          "text": [
            "\rFormatting City Names:  71%|███████   | 59/83 [00:59<00:23,  1.00it/s]"
          ]
        },
        {
          "output_type": "stream",
          "name": "stdout",
          "text": [
            " Κύπρος - Kıbrıs\n"
          ]
        },
        {
          "output_type": "stream",
          "name": "stderr",
          "text": [
            "\rFormatting City Names:  72%|███████▏  | 60/83 [01:00<00:22,  1.00it/s]"
          ]
        },
        {
          "output_type": "stream",
          "name": "stdout",
          "text": [
            " Ελλάς\n"
          ]
        },
        {
          "output_type": "stream",
          "name": "stderr",
          "text": [
            "\rFormatting City Names:  73%|███████▎  | 61/83 [01:01<00:21,  1.00it/s]"
          ]
        },
        {
          "output_type": "stream",
          "name": "stdout",
          "text": [
            " Österreich\n"
          ]
        },
        {
          "output_type": "stream",
          "name": "stderr",
          "text": [
            "\rFormatting City Names:  75%|███████▍  | 62/83 [01:02<00:21,  1.01s/it]"
          ]
        },
        {
          "output_type": "stream",
          "name": "stdout",
          "text": [
            " Ελλάς\n"
          ]
        },
        {
          "output_type": "stream",
          "name": "stderr",
          "text": [
            "\rFormatting City Names:  76%|███████▌  | 63/83 [01:03<00:19,  1.00it/s]"
          ]
        },
        {
          "output_type": "stream",
          "name": "stdout",
          "text": [
            " Ελλάς\n"
          ]
        },
        {
          "output_type": "stream",
          "name": "stderr",
          "text": [
            "\rFormatting City Names:  77%|███████▋  | 64/83 [01:04<00:18,  1.02it/s]"
          ]
        },
        {
          "output_type": "stream",
          "name": "stdout",
          "text": [
            " Κύπρος - Kıbrıs\n"
          ]
        },
        {
          "output_type": "stream",
          "name": "stderr",
          "text": [
            "\rFormatting City Names:  78%|███████▊  | 65/83 [01:05<00:17,  1.01it/s]"
          ]
        },
        {
          "output_type": "stream",
          "name": "stdout",
          "text": [
            " Ελλάς\n"
          ]
        },
        {
          "output_type": "stream",
          "name": "stderr",
          "text": [
            "\rFormatting City Names:  80%|███████▉  | 66/83 [01:06<00:16,  1.01it/s]"
          ]
        },
        {
          "output_type": "stream",
          "name": "stdout",
          "text": [
            " United Kingdom\n"
          ]
        },
        {
          "output_type": "stream",
          "name": "stderr",
          "text": [
            "\rFormatting City Names:  81%|████████  | 67/83 [01:07<00:16,  1.00s/it]"
          ]
        },
        {
          "output_type": "stream",
          "name": "stdout",
          "text": [
            " Ελλάς\n"
          ]
        },
        {
          "output_type": "stream",
          "name": "stderr",
          "text": [
            "Formatting City Names:  84%|████████▍ | 70/83 [01:09<00:10,  1.19it/s]"
          ]
        },
        {
          "output_type": "stream",
          "name": "stdout",
          "text": [
            " ایران\n"
          ]
        },
        {
          "output_type": "stream",
          "name": "stderr",
          "text": [
            "\rFormatting City Names:  86%|████████▌ | 71/83 [01:10<00:10,  1.15it/s]"
          ]
        },
        {
          "output_type": "stream",
          "name": "stdout",
          "text": [
            " Italia\n"
          ]
        },
        {
          "output_type": "stream",
          "name": "stderr",
          "text": [
            "\rFormatting City Names:  87%|████████▋ | 72/83 [01:11<00:10,  1.09it/s]"
          ]
        },
        {
          "output_type": "stream",
          "name": "stdout",
          "text": [
            " 中国\n"
          ]
        },
        {
          "output_type": "stream",
          "name": "stderr",
          "text": [
            "\rFormatting City Names:  88%|████████▊ | 73/83 [01:12<00:09,  1.07it/s]"
          ]
        },
        {
          "output_type": "stream",
          "name": "stdout",
          "text": [
            " Ελλάς\n"
          ]
        },
        {
          "output_type": "stream",
          "name": "stderr",
          "text": [
            "\rFormatting City Names:  89%|████████▉ | 74/83 [01:13<00:08,  1.05it/s]"
          ]
        },
        {
          "output_type": "stream",
          "name": "stdout",
          "text": [
            " Ελλάς\n"
          ]
        },
        {
          "output_type": "stream",
          "name": "stderr",
          "text": [
            "\rFormatting City Names:  90%|█████████ | 75/83 [01:14<00:07,  1.03it/s]"
          ]
        },
        {
          "output_type": "stream",
          "name": "stdout",
          "text": [
            "Κύπρος - Kıbrıs\n"
          ]
        },
        {
          "output_type": "stream",
          "name": "stderr",
          "text": [
            "\rFormatting City Names:  92%|█████████▏| 76/83 [01:15<00:06,  1.03it/s]"
          ]
        },
        {
          "output_type": "stream",
          "name": "stdout",
          "text": [
            " Sverige\n"
          ]
        },
        {
          "output_type": "stream",
          "name": "stderr",
          "text": [
            "\rFormatting City Names:  93%|█████████▎| 77/83 [01:16<00:05,  1.02it/s]"
          ]
        },
        {
          "output_type": "stream",
          "name": "stdout",
          "text": [
            " United Kingdom\n"
          ]
        },
        {
          "output_type": "stream",
          "name": "stderr",
          "text": [
            "\rFormatting City Names:  94%|█████████▍| 78/83 [01:17<00:04,  1.01it/s]"
          ]
        },
        {
          "output_type": "stream",
          "name": "stdout",
          "text": [
            " Ελλάς\n"
          ]
        },
        {
          "output_type": "stream",
          "name": "stderr",
          "text": [
            "\rFormatting City Names:  95%|█████████▌| 79/83 [01:18<00:03,  1.00it/s]"
          ]
        },
        {
          "output_type": "stream",
          "name": "stdout",
          "text": [
            " Česko\n"
          ]
        },
        {
          "output_type": "stream",
          "name": "stderr",
          "text": [
            "\rFormatting City Names:  96%|█████████▋| 80/83 [01:19<00:03,  1.01s/it]"
          ]
        },
        {
          "output_type": "stream",
          "name": "stdout",
          "text": [
            " Éire / Ireland\n"
          ]
        },
        {
          "output_type": "stream",
          "name": "stderr",
          "text": [
            "\rFormatting City Names:  98%|█████████▊| 81/83 [01:20<00:01,  1.01it/s]"
          ]
        },
        {
          "output_type": "stream",
          "name": "stdout",
          "text": [
            " Ελλάς\n"
          ]
        },
        {
          "output_type": "stream",
          "name": "stderr",
          "text": [
            "\rFormatting City Names:  99%|█████████▉| 82/83 [01:21<00:01,  1.00s/it]"
          ]
        },
        {
          "output_type": "stream",
          "name": "stdout",
          "text": [
            " Shqipëria\n"
          ]
        },
        {
          "output_type": "stream",
          "name": "stderr",
          "text": [
            "Formatting City Names: 100%|██████████| 83/83 [01:22<00:00,  1.01it/s]"
          ]
        },
        {
          "output_type": "stream",
          "name": "stdout",
          "text": [
            " Ελλάς\n",
            "##### Unique Cities #####\n"
          ]
        },
        {
          "output_type": "stream",
          "name": "stderr",
          "text": [
            "\n"
          ]
        },
        {
          "output_type": "execute_result",
          "data": {
            "text/plain": [
              "               devtype          languages  years_experience personal_projects  \\\n",
              "0  [Backend, Frontend]  [JavaScript, PHP]                13               Ναι   \n",
              "1  [Backend, Frontend]       [JavaScript]                 7               Ναι   \n",
              "\n",
              "      sex         remote company_size supervisor   education relevant  \\\n",
              "0  Άντρας     Και τα δύο         501+        Όχι  Bachelor's      Ναι   \n",
              "1  Άντρας  Απομακρυσμένα    201 - 500        Όχι  Bachelor's      Ναι   \n",
              "\n",
              "     salary  \n",
              "0  393610.0  \n",
              "1  301420.0  "
            ],
            "text/html": [
              "\n",
              "  <div id=\"df-828f7f74-cdbb-49bd-9a07-2a8d50e4b8a8\">\n",
              "    <div class=\"colab-df-container\">\n",
              "      <div>\n",
              "<style scoped>\n",
              "    .dataframe tbody tr th:only-of-type {\n",
              "        vertical-align: middle;\n",
              "    }\n",
              "\n",
              "    .dataframe tbody tr th {\n",
              "        vertical-align: top;\n",
              "    }\n",
              "\n",
              "    .dataframe thead th {\n",
              "        text-align: right;\n",
              "    }\n",
              "</style>\n",
              "<table border=\"1\" class=\"dataframe\">\n",
              "  <thead>\n",
              "    <tr style=\"text-align: right;\">\n",
              "      <th></th>\n",
              "      <th>devtype</th>\n",
              "      <th>languages</th>\n",
              "      <th>years_experience</th>\n",
              "      <th>personal_projects</th>\n",
              "      <th>sex</th>\n",
              "      <th>remote</th>\n",
              "      <th>company_size</th>\n",
              "      <th>supervisor</th>\n",
              "      <th>education</th>\n",
              "      <th>relevant</th>\n",
              "      <th>salary</th>\n",
              "    </tr>\n",
              "  </thead>\n",
              "  <tbody>\n",
              "    <tr>\n",
              "      <th>0</th>\n",
              "      <td>[Backend, Frontend]</td>\n",
              "      <td>[JavaScript, PHP]</td>\n",
              "      <td>13</td>\n",
              "      <td>Ναι</td>\n",
              "      <td>Άντρας</td>\n",
              "      <td>Και τα δύο</td>\n",
              "      <td>501+</td>\n",
              "      <td>Όχι</td>\n",
              "      <td>Bachelor's</td>\n",
              "      <td>Ναι</td>\n",
              "      <td>393610.0</td>\n",
              "    </tr>\n",
              "    <tr>\n",
              "      <th>1</th>\n",
              "      <td>[Backend, Frontend]</td>\n",
              "      <td>[JavaScript]</td>\n",
              "      <td>7</td>\n",
              "      <td>Ναι</td>\n",
              "      <td>Άντρας</td>\n",
              "      <td>Απομακρυσμένα</td>\n",
              "      <td>201 - 500</td>\n",
              "      <td>Όχι</td>\n",
              "      <td>Bachelor's</td>\n",
              "      <td>Ναι</td>\n",
              "      <td>301420.0</td>\n",
              "    </tr>\n",
              "  </tbody>\n",
              "</table>\n",
              "</div>\n",
              "      <button class=\"colab-df-convert\" onclick=\"convertToInteractive('df-828f7f74-cdbb-49bd-9a07-2a8d50e4b8a8')\"\n",
              "              title=\"Convert this dataframe to an interactive table.\"\n",
              "              style=\"display:none;\">\n",
              "        \n",
              "  <svg xmlns=\"http://www.w3.org/2000/svg\" height=\"24px\"viewBox=\"0 0 24 24\"\n",
              "       width=\"24px\">\n",
              "    <path d=\"M0 0h24v24H0V0z\" fill=\"none\"/>\n",
              "    <path d=\"M18.56 5.44l.94 2.06.94-2.06 2.06-.94-2.06-.94-.94-2.06-.94 2.06-2.06.94zm-11 1L8.5 8.5l.94-2.06 2.06-.94-2.06-.94L8.5 2.5l-.94 2.06-2.06.94zm10 10l.94 2.06.94-2.06 2.06-.94-2.06-.94-.94-2.06-.94 2.06-2.06.94z\"/><path d=\"M17.41 7.96l-1.37-1.37c-.4-.4-.92-.59-1.43-.59-.52 0-1.04.2-1.43.59L10.3 9.45l-7.72 7.72c-.78.78-.78 2.05 0 2.83L4 21.41c.39.39.9.59 1.41.59.51 0 1.02-.2 1.41-.59l7.78-7.78 2.81-2.81c.8-.78.8-2.07 0-2.86zM5.41 20L4 18.59l7.72-7.72 1.47 1.35L5.41 20z\"/>\n",
              "  </svg>\n",
              "      </button>\n",
              "      \n",
              "  <style>\n",
              "    .colab-df-container {\n",
              "      display:flex;\n",
              "      flex-wrap:wrap;\n",
              "      gap: 12px;\n",
              "    }\n",
              "\n",
              "    .colab-df-convert {\n",
              "      background-color: #E8F0FE;\n",
              "      border: none;\n",
              "      border-radius: 50%;\n",
              "      cursor: pointer;\n",
              "      display: none;\n",
              "      fill: #1967D2;\n",
              "      height: 32px;\n",
              "      padding: 0 0 0 0;\n",
              "      width: 32px;\n",
              "    }\n",
              "\n",
              "    .colab-df-convert:hover {\n",
              "      background-color: #E2EBFA;\n",
              "      box-shadow: 0px 1px 2px rgba(60, 64, 67, 0.3), 0px 1px 3px 1px rgba(60, 64, 67, 0.15);\n",
              "      fill: #174EA6;\n",
              "    }\n",
              "\n",
              "    [theme=dark] .colab-df-convert {\n",
              "      background-color: #3B4455;\n",
              "      fill: #D2E3FC;\n",
              "    }\n",
              "\n",
              "    [theme=dark] .colab-df-convert:hover {\n",
              "      background-color: #434B5C;\n",
              "      box-shadow: 0px 1px 3px 1px rgba(0, 0, 0, 0.15);\n",
              "      filter: drop-shadow(0px 1px 2px rgba(0, 0, 0, 0.3));\n",
              "      fill: #FFFFFF;\n",
              "    }\n",
              "  </style>\n",
              "\n",
              "      <script>\n",
              "        const buttonEl =\n",
              "          document.querySelector('#df-828f7f74-cdbb-49bd-9a07-2a8d50e4b8a8 button.colab-df-convert');\n",
              "        buttonEl.style.display =\n",
              "          google.colab.kernel.accessAllowed ? 'block' : 'none';\n",
              "\n",
              "        async function convertToInteractive(key) {\n",
              "          const element = document.querySelector('#df-828f7f74-cdbb-49bd-9a07-2a8d50e4b8a8');\n",
              "          const dataTable =\n",
              "            await google.colab.kernel.invokeFunction('convertToInteractive',\n",
              "                                                     [key], {});\n",
              "          if (!dataTable) return;\n",
              "\n",
              "          const docLinkHtml = 'Like what you see? Visit the ' +\n",
              "            '<a target=\"_blank\" href=https://colab.research.google.com/notebooks/data_table.ipynb>data table notebook</a>'\n",
              "            + ' to learn more about interactive tables.';\n",
              "          element.innerHTML = '';\n",
              "          dataTable['output_type'] = 'display_data';\n",
              "          await google.colab.output.renderOutput(dataTable, element);\n",
              "          const docLink = document.createElement('div');\n",
              "          docLink.innerHTML = docLinkHtml;\n",
              "          element.appendChild(docLink);\n",
              "        }\n",
              "      </script>\n",
              "    </div>\n",
              "  </div>\n",
              "  "
            ]
          },
          "metadata": {},
          "execution_count": 244
        }
      ]
    },
    {
      "cell_type": "code",
      "source": [
        "dataframe['relevant'] = dataframe['relevant'].fillna('Όχι')\n",
        "# dataframe['city_work'] = dataframe['city_work'].fillna(dataframe['city_residence'])"
      ],
      "metadata": {
        "id": "7tTAeQUGeE5X"
      },
      "execution_count": 245,
      "outputs": []
    },
    {
      "cell_type": "code",
      "source": [
        "category_columns = ['company_size', 'remote', 'supervisor', 'personal_projects', 'sex','education','relevant']\n",
        "\n",
        "for col in category_columns:\n",
        "    dataframe[f'{col}_xf'] = dataframe[col].astype('category')\n",
        "\n",
        "dataframe = dataframe.drop(columns=category_columns)"
      ],
      "metadata": {
        "id": "ZMfzC-xtfj7I"
      },
      "execution_count": 246,
      "outputs": []
    },
    {
      "cell_type": "code",
      "source": [
        "multi_category_columns = ['devtype', 'languages']\n",
        "\n",
        "def coltitle(col, word):\n",
        "    return f'{col}_{word}'\n",
        "\n",
        "for col in multi_category_columns:\n",
        "    vocab = set([item for sublist in dataframe[col].values for item in sublist])\n",
        "    for word in vocab:\n",
        "        dataframe[coltitle(col, word)] = 0\n",
        "        dataframe[coltitle(col, word)] = dataframe[coltitle(col, word)].astype('int32')\n",
        "    print(vocab)\n",
        "\n",
        "for index, row in dataframe.iterrows():\n",
        "    for col in multi_category_columns:\n",
        "        words = row[col]\n",
        "        for word in words:\n",
        "            dataframe.loc[index, coltitle(col, word)] = 1\n",
        "\n",
        "bad_tf_scope_names = [('languages_C#', 'languages_Csharp'), ('languages_C++', 'languages_Cpp')]\n",
        "for before, after in bad_tf_scope_names:\n",
        "    dataframe[after] = dataframe[before]\n",
        "    dataframe = dataframe.drop(columns=[before])\n",
        "\n",
        "dataframe = dataframe.drop(columns=multi_category_columns)"
      ],
      "metadata": {
        "id": "_e7GFD_hgY89",
        "outputId": "021ce19c-5b27-4761-bb60-737b63f715ec",
        "colab": {
          "base_uri": "https://localhost:8080/"
        }
      },
      "execution_count": 247,
      "outputs": [
        {
          "output_type": "stream",
          "name": "stdout",
          "text": [
            "{'unk', 'Desktopapps', 'Gaming', 'DevOps', 'BI', 'Frontend', 'Embedded', 'Mobileapps', 'Cybersecurity', 'AI/ML', 'Backend'}\n",
            "{'unk', 'Java', 'Swift', 'Python', 'TypeScript', 'JavaScript', 'Kotlin', 'SQL', 'Typescript', 'PHP', 'Go', 'Bash', 'Ruby', 'C', 'C++', 'C#'}\n"
          ]
        }
      ]
    },
    {
      "cell_type": "code",
      "source": [
        "train, val = train_test_split(dataframe, test_size=0.2)\n",
        "print(len(train), 'train examples')\n",
        "print(len(val), 'validation examples')"
      ],
      "metadata": {
        "id": "CL8C644Pgs2X",
        "outputId": "27c44297-7253-465b-93c9-7400d2e5ab70",
        "colab": {
          "base_uri": "https://localhost:8080/"
        }
      },
      "execution_count": 248,
      "outputs": [
        {
          "output_type": "stream",
          "name": "stdout",
          "text": [
            "362 train examples\n",
            "91 validation examples\n"
          ]
        }
      ]
    },
    {
      "cell_type": "code",
      "source": [
        "def df_to_dataset(dataframe, shuffle=True, batch_size=32):\n",
        "    dataframe = dataframe.copy()\n",
        "    labels = dataframe.pop('salary')\n",
        "    ds = tf.data.Dataset.from_tensor_slices((dict(dataframe), labels))\n",
        "    if shuffle:\n",
        "      ds = ds.shuffle(buffer_size=len(dataframe))\n",
        "    ds = ds.batch(batch_size)\n",
        "    return ds\n",
        "\n",
        "train_ds = df_to_dataset(train, batch_size=32)\n",
        "eval_ds = df_to_dataset(train, batch_size=32, shuffle=True)"
      ],
      "metadata": {
        "id": "FbjuD0nGg2lz"
      },
      "execution_count": 249,
      "outputs": []
    },
    {
      "cell_type": "code",
      "source": [
        "for feature_batch, label_batch in train_ds.take(1):\n",
        "  feature_column_keys = list(feature_batch.keys())\n",
        "  print('Every feature:', feature_column_keys)"
      ],
      "metadata": {
        "id": "ky-qm-mwg9Vg",
        "outputId": "eaf3e547-777a-4ee5-e556-76fdde2cd259",
        "colab": {
          "base_uri": "https://localhost:8080/"
        }
      },
      "execution_count": 250,
      "outputs": [
        {
          "output_type": "stream",
          "name": "stdout",
          "text": [
            "Every feature: ['years_experience', 'company_size_xf', 'remote_xf', 'supervisor_xf', 'personal_projects_xf', 'sex_xf', 'education_xf', 'relevant_xf', 'devtype_unk', 'devtype_Desktopapps', 'devtype_Gaming', 'devtype_DevOps', 'devtype_BI', 'devtype_Frontend', 'devtype_Embedded', 'devtype_Mobileapps', 'devtype_Cybersecurity', 'devtype_AI/ML', 'devtype_Backend', 'languages_unk', 'languages_Java', 'languages_Swift', 'languages_Python', 'languages_TypeScript', 'languages_JavaScript', 'languages_Kotlin', 'languages_SQL', 'languages_Typescript', 'languages_PHP', 'languages_Go', 'languages_Bash', 'languages_Ruby', 'languages_C', 'languages_Csharp', 'languages_Cpp']\n"
          ]
        }
      ]
    },
    {
      "cell_type": "code",
      "source": [
        "feature_columns = []\n",
        "\n",
        "numeric_features = [x for x in feature_column_keys if ('devtype_' in x or 'languages_' in x)]\n",
        "categorical_features = [x for x in feature_column_keys if '_xf' in x]\n",
        "\n",
        "for feature in numeric_features:\n",
        "    feature_columns.append(feature_column.numeric_column(feature))\n",
        "\n",
        "for feature in categorical_features:\n",
        "    categorical_column = feature_column.categorical_column_with_vocabulary_list(\n",
        "      feature, pd.unique(dataframe[feature].values))\n",
        "\n",
        "    feature_columns.append(feature_column.indicator_column(categorical_column))"
      ],
      "metadata": {
        "id": "oTKmYnRuhALW"
      },
      "execution_count": 251,
      "outputs": []
    },
    {
      "cell_type": "code",
      "source": [
        "feature_layer = tf.keras.layers.DenseFeatures(feature_columns)\n",
        "\n",
        "model = tf.keras.Sequential([\n",
        "  feature_layer,\n",
        "  layers.Dense(8, activation='relu'),  \n",
        "  layers.Dense(1)\n",
        "])\n",
        "\n",
        "model.compile(optimizer=tf.keras.optimizers.SGD(momentum=0.9),\n",
        "              loss='mae',\n",
        "              metrics=['mae'])\n",
        "\n",
        "callbacks = [\n",
        "    tf.keras.callbacks.EarlyStopping(patience=2),\n",
        "    tf.keras.callbacks.ModelCheckpoint(filepath='model.{epoch:02d}-{val_loss:.2f}.h5'),\n",
        "    tf.keras.callbacks.TensorBoard(log_dir='./logs'),\n",
        "]\n",
        "print(train_ds)\n",
        "model.fit(train_ds,\n",
        "          validation_data=eval_ds,\n",
        "          epochs=100,\n",
        "          callbacks=callbacks)"
      ],
      "metadata": {
        "id": "AcKwFaXjhB8M",
        "outputId": "970998e1-fe4c-4f85-fa15-2674c97de467",
        "colab": {
          "base_uri": "https://localhost:8080/"
        }
      },
      "execution_count": 252,
      "outputs": [
        {
          "output_type": "stream",
          "name": "stdout",
          "text": [
            "<_BatchDataset element_spec=({'years_experience': TensorSpec(shape=(None,), dtype=tf.int64, name=None), 'company_size_xf': TensorSpec(shape=(None,), dtype=tf.string, name=None), 'remote_xf': TensorSpec(shape=(None,), dtype=tf.string, name=None), 'supervisor_xf': TensorSpec(shape=(None,), dtype=tf.string, name=None), 'personal_projects_xf': TensorSpec(shape=(None,), dtype=tf.string, name=None), 'sex_xf': TensorSpec(shape=(None,), dtype=tf.string, name=None), 'education_xf': TensorSpec(shape=(None,), dtype=tf.string, name=None), 'relevant_xf': TensorSpec(shape=(None,), dtype=tf.string, name=None), 'devtype_unk': TensorSpec(shape=(None,), dtype=tf.int32, name=None), 'devtype_Desktopapps': TensorSpec(shape=(None,), dtype=tf.int32, name=None), 'devtype_Gaming': TensorSpec(shape=(None,), dtype=tf.int32, name=None), 'devtype_DevOps': TensorSpec(shape=(None,), dtype=tf.int32, name=None), 'devtype_BI': TensorSpec(shape=(None,), dtype=tf.int32, name=None), 'devtype_Frontend': TensorSpec(shape=(None,), dtype=tf.int32, name=None), 'devtype_Embedded': TensorSpec(shape=(None,), dtype=tf.int32, name=None), 'devtype_Mobileapps': TensorSpec(shape=(None,), dtype=tf.int32, name=None), 'devtype_Cybersecurity': TensorSpec(shape=(None,), dtype=tf.int32, name=None), 'devtype_AI/ML': TensorSpec(shape=(None,), dtype=tf.int32, name=None), 'devtype_Backend': TensorSpec(shape=(None,), dtype=tf.int32, name=None), 'languages_unk': TensorSpec(shape=(None,), dtype=tf.int32, name=None), 'languages_Java': TensorSpec(shape=(None,), dtype=tf.int32, name=None), 'languages_Swift': TensorSpec(shape=(None,), dtype=tf.int32, name=None), 'languages_Python': TensorSpec(shape=(None,), dtype=tf.int32, name=None), 'languages_TypeScript': TensorSpec(shape=(None,), dtype=tf.int32, name=None), 'languages_JavaScript': TensorSpec(shape=(None,), dtype=tf.int32, name=None), 'languages_Kotlin': TensorSpec(shape=(None,), dtype=tf.int32, name=None), 'languages_SQL': TensorSpec(shape=(None,), dtype=tf.int32, name=None), 'languages_Typescript': TensorSpec(shape=(None,), dtype=tf.int32, name=None), 'languages_PHP': TensorSpec(shape=(None,), dtype=tf.int32, name=None), 'languages_Go': TensorSpec(shape=(None,), dtype=tf.int32, name=None), 'languages_Bash': TensorSpec(shape=(None,), dtype=tf.int32, name=None), 'languages_Ruby': TensorSpec(shape=(None,), dtype=tf.int32, name=None), 'languages_C': TensorSpec(shape=(None,), dtype=tf.int32, name=None), 'languages_Csharp': TensorSpec(shape=(None,), dtype=tf.int32, name=None), 'languages_Cpp': TensorSpec(shape=(None,), dtype=tf.int32, name=None)}, TensorSpec(shape=(None,), dtype=tf.float32, name=None))>\n",
            "Epoch 1/100\n"
          ]
        },
        {
          "output_type": "stream",
          "name": "stderr",
          "text": [
            "WARNING:tensorflow:Layers in a Sequential model should only have a single input tensor. Received: inputs={'years_experience': <tf.Tensor 'IteratorGetNext:34' shape=(None,) dtype=int64>, 'company_size_xf': <tf.Tensor 'IteratorGetNext:0' shape=(None,) dtype=string>, 'remote_xf': <tf.Tensor 'IteratorGetNext:31' shape=(None,) dtype=string>, 'supervisor_xf': <tf.Tensor 'IteratorGetNext:33' shape=(None,) dtype=string>, 'personal_projects_xf': <tf.Tensor 'IteratorGetNext:29' shape=(None,) dtype=string>, 'sex_xf': <tf.Tensor 'IteratorGetNext:32' shape=(None,) dtype=string>, 'education_xf': <tf.Tensor 'IteratorGetNext:12' shape=(None,) dtype=string>, 'relevant_xf': <tf.Tensor 'IteratorGetNext:30' shape=(None,) dtype=string>, 'devtype_unk': <tf.Tensor 'IteratorGetNext:11' shape=(None,) dtype=int32>, 'devtype_Desktopapps': <tf.Tensor 'IteratorGetNext:5' shape=(None,) dtype=int32>, 'devtype_Gaming': <tf.Tensor 'IteratorGetNext:9' shape=(None,) dtype=int32>, 'devtype_DevOps': <tf.Tensor 'IteratorGetNext:6' shape=(None,) dtype=int32>, 'devtype_BI': <tf.Tensor 'IteratorGetNext:2' shape=(None,) dtype=int32>, 'devtype_Frontend': <tf.Tensor 'IteratorGetNext:8' shape=(None,) dtype=int32>, 'devtype_Embedded': <tf.Tensor 'IteratorGetNext:7' shape=(None,) dtype=int32>, 'devtype_Mobileapps': <tf.Tensor 'IteratorGetNext:10' shape=(None,) dtype=int32>, 'devtype_Cybersecurity': <tf.Tensor 'IteratorGetNext:4' shape=(None,) dtype=int32>, 'devtype_AI/ML': <tf.Tensor 'IteratorGetNext:1' shape=(None,) dtype=int32>, 'devtype_Backend': <tf.Tensor 'IteratorGetNext:3' shape=(None,) dtype=int32>, 'languages_unk': <tf.Tensor 'IteratorGetNext:28' shape=(None,) dtype=int32>, 'languages_Java': <tf.Tensor 'IteratorGetNext:18' shape=(None,) dtype=int32>, 'languages_Swift': <tf.Tensor 'IteratorGetNext:25' shape=(None,) dtype=int32>, 'languages_Python': <tf.Tensor 'IteratorGetNext:22' shape=(None,) dtype=int32>, 'languages_TypeScript': <tf.Tensor 'IteratorGetNext:26' shape=(None,) dtype=int32>, 'languages_JavaScript': <tf.Tensor 'IteratorGetNext:19' shape=(None,) dtype=int32>, 'languages_Kotlin': <tf.Tensor 'IteratorGetNext:20' shape=(None,) dtype=int32>, 'languages_SQL': <tf.Tensor 'IteratorGetNext:24' shape=(None,) dtype=int32>, 'languages_Typescript': <tf.Tensor 'IteratorGetNext:27' shape=(None,) dtype=int32>, 'languages_PHP': <tf.Tensor 'IteratorGetNext:21' shape=(None,) dtype=int32>, 'languages_Go': <tf.Tensor 'IteratorGetNext:17' shape=(None,) dtype=int32>, 'languages_Bash': <tf.Tensor 'IteratorGetNext:13' shape=(None,) dtype=int32>, 'languages_Ruby': <tf.Tensor 'IteratorGetNext:23' shape=(None,) dtype=int32>, 'languages_C': <tf.Tensor 'IteratorGetNext:14' shape=(None,) dtype=int32>, 'languages_Csharp': <tf.Tensor 'IteratorGetNext:16' shape=(None,) dtype=int32>, 'languages_Cpp': <tf.Tensor 'IteratorGetNext:15' shape=(None,) dtype=int32>}. Consider rewriting this model with the Functional API.\n",
            "WARNING:tensorflow:Layers in a Sequential model should only have a single input tensor. Received: inputs={'years_experience': <tf.Tensor 'IteratorGetNext:34' shape=(None,) dtype=int64>, 'company_size_xf': <tf.Tensor 'IteratorGetNext:0' shape=(None,) dtype=string>, 'remote_xf': <tf.Tensor 'IteratorGetNext:31' shape=(None,) dtype=string>, 'supervisor_xf': <tf.Tensor 'IteratorGetNext:33' shape=(None,) dtype=string>, 'personal_projects_xf': <tf.Tensor 'IteratorGetNext:29' shape=(None,) dtype=string>, 'sex_xf': <tf.Tensor 'IteratorGetNext:32' shape=(None,) dtype=string>, 'education_xf': <tf.Tensor 'IteratorGetNext:12' shape=(None,) dtype=string>, 'relevant_xf': <tf.Tensor 'IteratorGetNext:30' shape=(None,) dtype=string>, 'devtype_unk': <tf.Tensor 'IteratorGetNext:11' shape=(None,) dtype=int32>, 'devtype_Desktopapps': <tf.Tensor 'IteratorGetNext:5' shape=(None,) dtype=int32>, 'devtype_Gaming': <tf.Tensor 'IteratorGetNext:9' shape=(None,) dtype=int32>, 'devtype_DevOps': <tf.Tensor 'IteratorGetNext:6' shape=(None,) dtype=int32>, 'devtype_BI': <tf.Tensor 'IteratorGetNext:2' shape=(None,) dtype=int32>, 'devtype_Frontend': <tf.Tensor 'IteratorGetNext:8' shape=(None,) dtype=int32>, 'devtype_Embedded': <tf.Tensor 'IteratorGetNext:7' shape=(None,) dtype=int32>, 'devtype_Mobileapps': <tf.Tensor 'IteratorGetNext:10' shape=(None,) dtype=int32>, 'devtype_Cybersecurity': <tf.Tensor 'IteratorGetNext:4' shape=(None,) dtype=int32>, 'devtype_AI/ML': <tf.Tensor 'IteratorGetNext:1' shape=(None,) dtype=int32>, 'devtype_Backend': <tf.Tensor 'IteratorGetNext:3' shape=(None,) dtype=int32>, 'languages_unk': <tf.Tensor 'IteratorGetNext:28' shape=(None,) dtype=int32>, 'languages_Java': <tf.Tensor 'IteratorGetNext:18' shape=(None,) dtype=int32>, 'languages_Swift': <tf.Tensor 'IteratorGetNext:25' shape=(None,) dtype=int32>, 'languages_Python': <tf.Tensor 'IteratorGetNext:22' shape=(None,) dtype=int32>, 'languages_TypeScript': <tf.Tensor 'IteratorGetNext:26' shape=(None,) dtype=int32>, 'languages_JavaScript': <tf.Tensor 'IteratorGetNext:19' shape=(None,) dtype=int32>, 'languages_Kotlin': <tf.Tensor 'IteratorGetNext:20' shape=(None,) dtype=int32>, 'languages_SQL': <tf.Tensor 'IteratorGetNext:24' shape=(None,) dtype=int32>, 'languages_Typescript': <tf.Tensor 'IteratorGetNext:27' shape=(None,) dtype=int32>, 'languages_PHP': <tf.Tensor 'IteratorGetNext:21' shape=(None,) dtype=int32>, 'languages_Go': <tf.Tensor 'IteratorGetNext:17' shape=(None,) dtype=int32>, 'languages_Bash': <tf.Tensor 'IteratorGetNext:13' shape=(None,) dtype=int32>, 'languages_Ruby': <tf.Tensor 'IteratorGetNext:23' shape=(None,) dtype=int32>, 'languages_C': <tf.Tensor 'IteratorGetNext:14' shape=(None,) dtype=int32>, 'languages_Csharp': <tf.Tensor 'IteratorGetNext:16' shape=(None,) dtype=int32>, 'languages_Cpp': <tf.Tensor 'IteratorGetNext:15' shape=(None,) dtype=int32>}. Consider rewriting this model with the Functional API.\n"
          ]
        },
        {
          "output_type": "stream",
          "name": "stdout",
          "text": [
            "11/12 [==========================>...] - ETA: 0s - loss: 190414.7969 - mae: 190414.7969 "
          ]
        },
        {
          "output_type": "stream",
          "name": "stderr",
          "text": [
            "WARNING:tensorflow:Layers in a Sequential model should only have a single input tensor. Received: inputs={'years_experience': <tf.Tensor 'IteratorGetNext:34' shape=(None,) dtype=int64>, 'company_size_xf': <tf.Tensor 'IteratorGetNext:0' shape=(None,) dtype=string>, 'remote_xf': <tf.Tensor 'IteratorGetNext:31' shape=(None,) dtype=string>, 'supervisor_xf': <tf.Tensor 'IteratorGetNext:33' shape=(None,) dtype=string>, 'personal_projects_xf': <tf.Tensor 'IteratorGetNext:29' shape=(None,) dtype=string>, 'sex_xf': <tf.Tensor 'IteratorGetNext:32' shape=(None,) dtype=string>, 'education_xf': <tf.Tensor 'IteratorGetNext:12' shape=(None,) dtype=string>, 'relevant_xf': <tf.Tensor 'IteratorGetNext:30' shape=(None,) dtype=string>, 'devtype_unk': <tf.Tensor 'IteratorGetNext:11' shape=(None,) dtype=int32>, 'devtype_Desktopapps': <tf.Tensor 'IteratorGetNext:5' shape=(None,) dtype=int32>, 'devtype_Gaming': <tf.Tensor 'IteratorGetNext:9' shape=(None,) dtype=int32>, 'devtype_DevOps': <tf.Tensor 'IteratorGetNext:6' shape=(None,) dtype=int32>, 'devtype_BI': <tf.Tensor 'IteratorGetNext:2' shape=(None,) dtype=int32>, 'devtype_Frontend': <tf.Tensor 'IteratorGetNext:8' shape=(None,) dtype=int32>, 'devtype_Embedded': <tf.Tensor 'IteratorGetNext:7' shape=(None,) dtype=int32>, 'devtype_Mobileapps': <tf.Tensor 'IteratorGetNext:10' shape=(None,) dtype=int32>, 'devtype_Cybersecurity': <tf.Tensor 'IteratorGetNext:4' shape=(None,) dtype=int32>, 'devtype_AI/ML': <tf.Tensor 'IteratorGetNext:1' shape=(None,) dtype=int32>, 'devtype_Backend': <tf.Tensor 'IteratorGetNext:3' shape=(None,) dtype=int32>, 'languages_unk': <tf.Tensor 'IteratorGetNext:28' shape=(None,) dtype=int32>, 'languages_Java': <tf.Tensor 'IteratorGetNext:18' shape=(None,) dtype=int32>, 'languages_Swift': <tf.Tensor 'IteratorGetNext:25' shape=(None,) dtype=int32>, 'languages_Python': <tf.Tensor 'IteratorGetNext:22' shape=(None,) dtype=int32>, 'languages_TypeScript': <tf.Tensor 'IteratorGetNext:26' shape=(None,) dtype=int32>, 'languages_JavaScript': <tf.Tensor 'IteratorGetNext:19' shape=(None,) dtype=int32>, 'languages_Kotlin': <tf.Tensor 'IteratorGetNext:20' shape=(None,) dtype=int32>, 'languages_SQL': <tf.Tensor 'IteratorGetNext:24' shape=(None,) dtype=int32>, 'languages_Typescript': <tf.Tensor 'IteratorGetNext:27' shape=(None,) dtype=int32>, 'languages_PHP': <tf.Tensor 'IteratorGetNext:21' shape=(None,) dtype=int32>, 'languages_Go': <tf.Tensor 'IteratorGetNext:17' shape=(None,) dtype=int32>, 'languages_Bash': <tf.Tensor 'IteratorGetNext:13' shape=(None,) dtype=int32>, 'languages_Ruby': <tf.Tensor 'IteratorGetNext:23' shape=(None,) dtype=int32>, 'languages_C': <tf.Tensor 'IteratorGetNext:14' shape=(None,) dtype=int32>, 'languages_Csharp': <tf.Tensor 'IteratorGetNext:16' shape=(None,) dtype=int32>, 'languages_Cpp': <tf.Tensor 'IteratorGetNext:15' shape=(None,) dtype=int32>}. Consider rewriting this model with the Functional API.\n"
          ]
        },
        {
          "output_type": "stream",
          "name": "stdout",
          "text": [
            "\b\b\b\b\b\b\b\b\b\b\b\b\b\b\b\b\b\b\b\b\b\b\b\b\b\b\b\b\b\b\b\b\b\b\b\b\b\b\b\b\b\b\b\b\b\b\b\b\b\b\b\b\b\b\b\b\b\b\b\b\b\b\b\b\b\b\b\b\b\b\b\b\b\b\b\b\b\b\b\b\b\b\b\b\b\b\b\r12/12 [==============================] - 4s 147ms/step - loss: 189084.8594 - mae: 189084.8594 - val_loss: 189081.5312 - val_mae: 189081.5312\n",
            "Epoch 2/100\n",
            "12/12 [==============================] - 0s 25ms/step - loss: 189068.0000 - mae: 189068.0000 - val_loss: 189021.3750 - val_mae: 189021.3750\n",
            "Epoch 3/100\n",
            "12/12 [==============================] - 0s 22ms/step - loss: 188812.6562 - mae: 188812.6562 - val_loss: 188092.0156 - val_mae: 188092.0156\n",
            "Epoch 4/100\n",
            "12/12 [==============================] - 0s 14ms/step - loss: 185039.3125 - mae: 185039.3125 - val_loss: 175570.7188 - val_mae: 175570.7188\n",
            "Epoch 5/100\n",
            "12/12 [==============================] - 0s 11ms/step - loss: 150545.2656 - mae: 150545.2656 - val_loss: 91021.8828 - val_mae: 91021.8828\n",
            "Epoch 6/100\n",
            "12/12 [==============================] - 0s 11ms/step - loss: 109433.9453 - mae: 109433.9453 - val_loss: 90994.0469 - val_mae: 90994.0469\n",
            "Epoch 7/100\n",
            "12/12 [==============================] - 0s 11ms/step - loss: 98189.2188 - mae: 98189.2188 - val_loss: 86824.9141 - val_mae: 86824.9141\n",
            "Epoch 8/100\n",
            "12/12 [==============================] - 0s 11ms/step - loss: 87501.7656 - mae: 87501.7656 - val_loss: 86475.3750 - val_mae: 86475.3750\n",
            "Epoch 9/100\n",
            "12/12 [==============================] - 0s 11ms/step - loss: 86305.6328 - mae: 86305.6328 - val_loss: 84554.4141 - val_mae: 84554.4141\n",
            "Epoch 10/100\n",
            "12/12 [==============================] - 0s 8ms/step - loss: 84128.5312 - mae: 84128.5312 - val_loss: 83357.0938 - val_mae: 83357.0938\n",
            "Epoch 11/100\n",
            "12/12 [==============================] - 0s 11ms/step - loss: 83708.7969 - mae: 83708.7969 - val_loss: 83548.4297 - val_mae: 83548.4297\n",
            "Epoch 12/100\n",
            "12/12 [==============================] - 0s 11ms/step - loss: 84015.7109 - mae: 84015.7109 - val_loss: 82825.9844 - val_mae: 82825.9844\n",
            "Epoch 13/100\n",
            "12/12 [==============================] - 0s 9ms/step - loss: 82710.4219 - mae: 82710.4219 - val_loss: 81907.7422 - val_mae: 81907.7422\n",
            "Epoch 14/100\n",
            "12/12 [==============================] - 0s 11ms/step - loss: 82540.7266 - mae: 82540.7266 - val_loss: 82171.8750 - val_mae: 82171.8750\n",
            "Epoch 15/100\n",
            "12/12 [==============================] - 0s 11ms/step - loss: 83103.3125 - mae: 83103.3125 - val_loss: 81964.6484 - val_mae: 81964.6484\n"
          ]
        },
        {
          "output_type": "execute_result",
          "data": {
            "text/plain": [
              "<keras.callbacks.History at 0x7f882feec970>"
            ]
          },
          "metadata": {},
          "execution_count": 252
        }
      ]
    },
    {
      "cell_type": "code",
      "source": [
        "input = {\n",
        "    'years_experience_xf': 1,\n",
        "    'company_size_xf': '11-50',\n",
        "    'remote_xf': 'Και τα δύο',\n",
        "    'supervisor_xf': 'Ναι',\n",
        "    'personal_projects_xf': 'Ναι',\n",
        "    'sex_xf': 'Άντρας',\n",
        "    'devtype_Backend': 1 ,              \n",
        "    'devtype_Desktopapps': 0,         \n",
        "    'devtype_DevOps': 1 ,            \n",
        "    'devtype_AI/ML': 0 ,       \n",
        "    'devtype_BI': 0 ,\n",
        "    'devtype_Cybersecurity': 0,\n",
        "    'devtype_Embedded': 0,\n",
        "    'devtype_Gaming': 0,                      \n",
        "    'devtype_unk': 0 , # any devtype work that is not included above?       \n",
        "    'devtype_Frontend': 1 ,        \n",
        "    'devtype_Mobileapps': 0 ,           \n",
        "    'languages_C': 0 ,\n",
        "    'languages_SQL': 1,              \n",
        "    'languages_PHP': 0 ,             \n",
        "    'languages_JavaScript': 1 ,         \n",
        "    'languages_Kotlin' : 0 ,\n",
        "    'languages_Typescript' : 0,\n",
        "    'languages_TypeScript' : 0,              \n",
        "    'languages_Python': 1 ,            \n",
        "    'languages_Ruby': 0 ,               \n",
        "    'languages_Bash': 1 ,             \n",
        "    'languages_Go': 0 ,             \n",
        "    'languages_Java': 0 ,            \n",
        "    'languages_Swift': 0 ,            \n",
        "    'languages_R': 0 ,\n",
        "    'education_xf': \"Bachelor's\",\n",
        "    'relevant_xf': \"Ναι\",\n",
        "    'languages_Csharp': 0 ,         \n",
        "    'languages_Cpp': 0 , \n",
        "    'languages_unk': 0 # any language that is not used above ?                \n",
        "}\n",
        "\n",
        "input = {k: [v] for k, v in input.items()}\n",
        "\n",
        "prediction = model(input).numpy()[0][0]\n",
        "f'Βγάζεις: {prediction} ευρώ το χρόνο'"
      ],
      "metadata": {
        "id": "sOCTrzYphmL8",
        "outputId": "86f22e3e-835a-4626-fee6-c858c95d87f6",
        "colab": {
          "base_uri": "https://localhost:8080/",
          "height": 74
        }
      },
      "execution_count": 253,
      "outputs": [
        {
          "output_type": "stream",
          "name": "stderr",
          "text": [
            "WARNING:tensorflow:Layers in a Sequential model should only have a single input tensor. Received: inputs={'years_experience_xf': [<tf.Tensor: shape=(), dtype=int32, numpy=1>], 'company_size_xf': ['11-50'], 'remote_xf': ['Και τα δύο'], 'supervisor_xf': ['Ναι'], 'personal_projects_xf': ['Ναι'], 'sex_xf': ['Άντρας'], 'devtype_Backend': [<tf.Tensor: shape=(), dtype=int32, numpy=1>], 'devtype_Desktopapps': [<tf.Tensor: shape=(), dtype=int32, numpy=0>], 'devtype_DevOps': [<tf.Tensor: shape=(), dtype=int32, numpy=1>], 'devtype_AI/ML': [<tf.Tensor: shape=(), dtype=int32, numpy=0>], 'devtype_BI': [<tf.Tensor: shape=(), dtype=int32, numpy=0>], 'devtype_Cybersecurity': [<tf.Tensor: shape=(), dtype=int32, numpy=0>], 'devtype_Embedded': [<tf.Tensor: shape=(), dtype=int32, numpy=0>], 'devtype_Gaming': [<tf.Tensor: shape=(), dtype=int32, numpy=0>], 'devtype_unk': [<tf.Tensor: shape=(), dtype=int32, numpy=0>], 'devtype_Frontend': [<tf.Tensor: shape=(), dtype=int32, numpy=1>], 'devtype_Mobileapps': [<tf.Tensor: shape=(), dtype=int32, numpy=0>], 'languages_C': [<tf.Tensor: shape=(), dtype=int32, numpy=0>], 'languages_SQL': [<tf.Tensor: shape=(), dtype=int32, numpy=1>], 'languages_PHP': [<tf.Tensor: shape=(), dtype=int32, numpy=0>], 'languages_JavaScript': [<tf.Tensor: shape=(), dtype=int32, numpy=1>], 'languages_Kotlin': [<tf.Tensor: shape=(), dtype=int32, numpy=0>], 'languages_Typescript': [<tf.Tensor: shape=(), dtype=int32, numpy=0>], 'languages_TypeScript': [<tf.Tensor: shape=(), dtype=int32, numpy=0>], 'languages_Python': [<tf.Tensor: shape=(), dtype=int32, numpy=1>], 'languages_Ruby': [<tf.Tensor: shape=(), dtype=int32, numpy=0>], 'languages_Bash': [<tf.Tensor: shape=(), dtype=int32, numpy=1>], 'languages_Go': [<tf.Tensor: shape=(), dtype=int32, numpy=0>], 'languages_Java': [<tf.Tensor: shape=(), dtype=int32, numpy=0>], 'languages_Swift': [<tf.Tensor: shape=(), dtype=int32, numpy=0>], 'languages_R': [<tf.Tensor: shape=(), dtype=int32, numpy=0>], 'education_xf': [\"Bachelor's\"], 'relevant_xf': ['Ναι'], 'languages_Csharp': [<tf.Tensor: shape=(), dtype=int32, numpy=0>], 'languages_Cpp': [<tf.Tensor: shape=(), dtype=int32, numpy=0>], 'languages_unk': [<tf.Tensor: shape=(), dtype=int32, numpy=0>]}. Consider rewriting this model with the Functional API.\n"
          ]
        },
        {
          "output_type": "execute_result",
          "data": {
            "text/plain": [
              "'Βγάζεις: 244957.609375 ευρώ το χρόνο'"
            ],
            "application/vnd.google.colaboratory.intrinsic+json": {
              "type": "string"
            }
          },
          "metadata": {},
          "execution_count": 253
        }
      ]
    }
  ]
}