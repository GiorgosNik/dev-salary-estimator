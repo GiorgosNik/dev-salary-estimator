{
  "nbformat": 4,
  "nbformat_minor": 0,
  "metadata": {
    "colab": {
      "provenance": [],
      "authorship_tag": "ABX9TyOomNHyIq42GN8rvagTcoBt",
      "include_colab_link": true
    },
    "kernelspec": {
      "name": "python3",
      "display_name": "Python 3"
    },
    "language_info": {
      "name": "python"
    }
  },
  "cells": [
    {
      "cell_type": "markdown",
      "metadata": {
        "id": "view-in-github",
        "colab_type": "text"
      },
      "source": [
        "<a href=\"https://colab.research.google.com/github/GiorgosNik/dev-salary-estimator/blob/main/salary_estimator.ipynb\" target=\"_parent\"><img src=\"https://colab.research.google.com/assets/colab-badge.svg\" alt=\"Open In Colab\"/></a>"
      ]
    },
    {
      "cell_type": "markdown",
      "source": [
        "# Imports"
      ],
      "metadata": {
        "id": "_K12Bkun-T0Z"
      }
    },
    {
      "cell_type": "code",
      "source": [
        "!pip install -U -q PyDrive\n",
        "!pip install -U -q geocoder\n",
        "!pip install -U -q tqdm"
      ],
      "metadata": {
        "id": "ZSFaceekf-a6"
      },
      "execution_count": 166,
      "outputs": []
    },
    {
      "cell_type": "code",
      "execution_count": 167,
      "metadata": {
        "id": "apXdmT4L8GOD"
      },
      "outputs": [],
      "source": [
        "import tensorflow as tf\n",
        "import pandas as pd\n",
        "import numpy as np\n",
        "from collections import Counter\n",
        "from geopy.geocoders import Nominatim\n",
        "from tqdm import tqdm\n",
        "\n",
        "# CSV import from Google Drive\n",
        "from pydrive.auth import GoogleAuth\n",
        "from pydrive.drive import GoogleDrive\n",
        "from google.colab import auth\n",
        "from oauth2client.client import GoogleCredentials"
      ]
    },
    {
      "cell_type": "markdown",
      "source": [
        "# Import and Format Data"
      ],
      "metadata": {
        "id": "u6lmA34W-XqH"
      }
    },
    {
      "cell_type": "markdown",
      "source": [
        "## Data Import from Google Drive\n",
        "Authenticate with GoogleAuth to retrieve the data .csv from Google Drive.\n",
        "The retrieved .csv file is stored in a pandas dataframe."
      ],
      "metadata": {
        "id": "bb3MZdj5kHiy"
      }
    },
    {
      "cell_type": "code",
      "source": [
        "# Authenticate and create the PyDrive client.\n",
        "auth.authenticate_user()\n",
        "gauth = GoogleAuth()\n",
        "gauth.credentials = GoogleCredentials.get_application_default()\n",
        "drive = GoogleDrive(gauth)\n",
        "\n",
        "# ID of Google Drive .csv document\n",
        "id = \"1cPsSR9XfyqOl15KqGV3BEqaxmL1R7lqq\"\n",
        "downloaded = drive.CreateFile({'id':id}) \n",
        "downloaded.GetContentFile('Filename.csv')  \n",
        "dataframe = pd.read_csv('Filename.csv')"
      ],
      "metadata": {
        "id": "M_B51PCL9fiR"
      },
      "execution_count": 168,
      "outputs": []
    },
    {
      "cell_type": "code",
      "source": [
        "dataframe.columns = ['timestamp', 'devtype', 'languages', 'years_experience','personal_projects', 'sex', 'remote','city_residence', 'city_work', 'company_size',  'supervisor', 'education', 'relevant', 'salary']\n",
        "\n",
        "# Remove the timestamp as it is irelevant\n",
        "dataframe = dataframe.drop(columns=['timestamp'])\n",
        "\n",
        "print(\"The dataset contains {} salary entries\".format( len(dataframe)))\n",
        "dataframe.head(2)"
      ],
      "metadata": {
        "colab": {
          "base_uri": "https://localhost:8080/",
          "height": 130
        },
        "id": "q4PV5g-79-AY",
        "outputId": "57b852ee-696e-4f8b-c23e-a32047a31e36"
      },
      "execution_count": 169,
      "outputs": [
        {
          "output_type": "stream",
          "name": "stdout",
          "text": [
            "The dataset contains 807 salary entries\n"
          ]
        },
        {
          "output_type": "execute_result",
          "data": {
            "text/plain": [
              "             devtype        languages  years_experience personal_projects  \\\n",
              "0  Backend, Frontend  JavaScript, PHP                13               Ναι   \n",
              "1  Backend, Frontend       JavaScript                 7               Ναι   \n",
              "\n",
              "      sex         remote city_residence city_work company_size supervisor  \\\n",
              "0  Άντρας     Και τα δύο          Αθήνα     Αθήνα         501+        Όχι   \n",
              "1  Άντρας  Απομακρυσμένα          Αθήνα     Αθήνα    201 - 500        Όχι   \n",
              "\n",
              "    education relevant   salary  \n",
              "0  Bachelor's      Ναι  39361.0  \n",
              "1  Bachelor's      Ναι  30142.0  "
            ],
            "text/html": [
              "\n",
              "  <div id=\"df-dc812a2c-611f-4523-a6f2-a61e6a5ee3c0\">\n",
              "    <div class=\"colab-df-container\">\n",
              "      <div>\n",
              "<style scoped>\n",
              "    .dataframe tbody tr th:only-of-type {\n",
              "        vertical-align: middle;\n",
              "    }\n",
              "\n",
              "    .dataframe tbody tr th {\n",
              "        vertical-align: top;\n",
              "    }\n",
              "\n",
              "    .dataframe thead th {\n",
              "        text-align: right;\n",
              "    }\n",
              "</style>\n",
              "<table border=\"1\" class=\"dataframe\">\n",
              "  <thead>\n",
              "    <tr style=\"text-align: right;\">\n",
              "      <th></th>\n",
              "      <th>devtype</th>\n",
              "      <th>languages</th>\n",
              "      <th>years_experience</th>\n",
              "      <th>personal_projects</th>\n",
              "      <th>sex</th>\n",
              "      <th>remote</th>\n",
              "      <th>city_residence</th>\n",
              "      <th>city_work</th>\n",
              "      <th>company_size</th>\n",
              "      <th>supervisor</th>\n",
              "      <th>education</th>\n",
              "      <th>relevant</th>\n",
              "      <th>salary</th>\n",
              "    </tr>\n",
              "  </thead>\n",
              "  <tbody>\n",
              "    <tr>\n",
              "      <th>0</th>\n",
              "      <td>Backend, Frontend</td>\n",
              "      <td>JavaScript, PHP</td>\n",
              "      <td>13</td>\n",
              "      <td>Ναι</td>\n",
              "      <td>Άντρας</td>\n",
              "      <td>Και τα δύο</td>\n",
              "      <td>Αθήνα</td>\n",
              "      <td>Αθήνα</td>\n",
              "      <td>501+</td>\n",
              "      <td>Όχι</td>\n",
              "      <td>Bachelor's</td>\n",
              "      <td>Ναι</td>\n",
              "      <td>39361.0</td>\n",
              "    </tr>\n",
              "    <tr>\n",
              "      <th>1</th>\n",
              "      <td>Backend, Frontend</td>\n",
              "      <td>JavaScript</td>\n",
              "      <td>7</td>\n",
              "      <td>Ναι</td>\n",
              "      <td>Άντρας</td>\n",
              "      <td>Απομακρυσμένα</td>\n",
              "      <td>Αθήνα</td>\n",
              "      <td>Αθήνα</td>\n",
              "      <td>201 - 500</td>\n",
              "      <td>Όχι</td>\n",
              "      <td>Bachelor's</td>\n",
              "      <td>Ναι</td>\n",
              "      <td>30142.0</td>\n",
              "    </tr>\n",
              "  </tbody>\n",
              "</table>\n",
              "</div>\n",
              "      <button class=\"colab-df-convert\" onclick=\"convertToInteractive('df-dc812a2c-611f-4523-a6f2-a61e6a5ee3c0')\"\n",
              "              title=\"Convert this dataframe to an interactive table.\"\n",
              "              style=\"display:none;\">\n",
              "        \n",
              "  <svg xmlns=\"http://www.w3.org/2000/svg\" height=\"24px\"viewBox=\"0 0 24 24\"\n",
              "       width=\"24px\">\n",
              "    <path d=\"M0 0h24v24H0V0z\" fill=\"none\"/>\n",
              "    <path d=\"M18.56 5.44l.94 2.06.94-2.06 2.06-.94-2.06-.94-.94-2.06-.94 2.06-2.06.94zm-11 1L8.5 8.5l.94-2.06 2.06-.94-2.06-.94L8.5 2.5l-.94 2.06-2.06.94zm10 10l.94 2.06.94-2.06 2.06-.94-2.06-.94-.94-2.06-.94 2.06-2.06.94z\"/><path d=\"M17.41 7.96l-1.37-1.37c-.4-.4-.92-.59-1.43-.59-.52 0-1.04.2-1.43.59L10.3 9.45l-7.72 7.72c-.78.78-.78 2.05 0 2.83L4 21.41c.39.39.9.59 1.41.59.51 0 1.02-.2 1.41-.59l7.78-7.78 2.81-2.81c.8-.78.8-2.07 0-2.86zM5.41 20L4 18.59l7.72-7.72 1.47 1.35L5.41 20z\"/>\n",
              "  </svg>\n",
              "      </button>\n",
              "      \n",
              "  <style>\n",
              "    .colab-df-container {\n",
              "      display:flex;\n",
              "      flex-wrap:wrap;\n",
              "      gap: 12px;\n",
              "    }\n",
              "\n",
              "    .colab-df-convert {\n",
              "      background-color: #E8F0FE;\n",
              "      border: none;\n",
              "      border-radius: 50%;\n",
              "      cursor: pointer;\n",
              "      display: none;\n",
              "      fill: #1967D2;\n",
              "      height: 32px;\n",
              "      padding: 0 0 0 0;\n",
              "      width: 32px;\n",
              "    }\n",
              "\n",
              "    .colab-df-convert:hover {\n",
              "      background-color: #E2EBFA;\n",
              "      box-shadow: 0px 1px 2px rgba(60, 64, 67, 0.3), 0px 1px 3px 1px rgba(60, 64, 67, 0.15);\n",
              "      fill: #174EA6;\n",
              "    }\n",
              "\n",
              "    [theme=dark] .colab-df-convert {\n",
              "      background-color: #3B4455;\n",
              "      fill: #D2E3FC;\n",
              "    }\n",
              "\n",
              "    [theme=dark] .colab-df-convert:hover {\n",
              "      background-color: #434B5C;\n",
              "      box-shadow: 0px 1px 3px 1px rgba(0, 0, 0, 0.15);\n",
              "      filter: drop-shadow(0px 1px 2px rgba(0, 0, 0, 0.3));\n",
              "      fill: #FFFFFF;\n",
              "    }\n",
              "  </style>\n",
              "\n",
              "      <script>\n",
              "        const buttonEl =\n",
              "          document.querySelector('#df-dc812a2c-611f-4523-a6f2-a61e6a5ee3c0 button.colab-df-convert');\n",
              "        buttonEl.style.display =\n",
              "          google.colab.kernel.accessAllowed ? 'block' : 'none';\n",
              "\n",
              "        async function convertToInteractive(key) {\n",
              "          const element = document.querySelector('#df-dc812a2c-611f-4523-a6f2-a61e6a5ee3c0');\n",
              "          const dataTable =\n",
              "            await google.colab.kernel.invokeFunction('convertToInteractive',\n",
              "                                                     [key], {});\n",
              "          if (!dataTable) return;\n",
              "\n",
              "          const docLinkHtml = 'Like what you see? Visit the ' +\n",
              "            '<a target=\"_blank\" href=https://colab.research.google.com/notebooks/data_table.ipynb>data table notebook</a>'\n",
              "            + ' to learn more about interactive tables.';\n",
              "          element.innerHTML = '';\n",
              "          dataTable['output_type'] = 'display_data';\n",
              "          await google.colab.output.renderOutput(dataTable, element);\n",
              "          const docLink = document.createElement('div');\n",
              "          docLink.innerHTML = docLinkHtml;\n",
              "          element.appendChild(docLink);\n",
              "        }\n",
              "      </script>\n",
              "    </div>\n",
              "  </div>\n",
              "  "
            ]
          },
          "metadata": {},
          "execution_count": 169
        }
      ]
    },
    {
      "cell_type": "markdown",
      "source": [
        "## Remove entries that contain very rare developer types\n",
        "Entries that occur under 5 times are considered rare."
      ],
      "metadata": {
        "id": "BasxDZwQmEhS"
      }
    },
    {
      "cell_type": "code",
      "source": [
        "UNK = 'unk'\n",
        "\n",
        "def categorize_clean_columns(df, colname, threshold):\n",
        "    df[colname] = df[colname].map(lambda x: x.replace(' ', '').split(','))\n",
        "    c = Counter([item for sublist in df[colname].values for item in sublist])\n",
        "\n",
        "    map_to_unk = set([el for el in c.elements() if c[el] <= threshold])\n",
        "\n",
        "    def map_devtype_unk(arr):\n",
        "      def x_or_unk(x):\n",
        "        if x in map_to_unk:\n",
        "          return UNK\n",
        "        return x\n",
        "\n",
        "      return [x_or_unk(x) for x in arr]\n",
        "\n",
        "    df[colname] = df[colname].map(lambda x: map_devtype_unk(x))\n",
        "\n",
        "    def is_sole_uknown(arr):\n",
        "      return arr[0] == UNK and len(arr) == 1\n",
        "\n",
        "    return df[df[colname].map(is_sole_uknown) == False]"
      ],
      "metadata": {
        "id": "3Oqupvawe4Mo"
      },
      "execution_count": 170,
      "outputs": []
    },
    {
      "cell_type": "code",
      "source": [
        "dataframe = categorize_clean_columns(dataframe, 'devtype', 5)\n",
        "dataframe = categorize_clean_columns(dataframe, 'languages', 5)\n",
        "\n",
        "len(dataframe) # ~ 20 rows with few entries"
      ],
      "metadata": {
        "id": "8g-DYWIni0y2",
        "outputId": "0c33b0f8-e46e-4f95-e084-4d396ba6c5ad",
        "colab": {
          "base_uri": "https://localhost:8080/"
        }
      },
      "execution_count": 171,
      "outputs": [
        {
          "output_type": "execute_result",
          "data": {
            "text/plain": [
              "738"
            ]
          },
          "metadata": {},
          "execution_count": 171
        }
      ]
    },
    {
      "cell_type": "code",
      "source": [
        "def fix_salary(salary):\n",
        "    salary = salary.replace('.', '')\n",
        "    salary = salary.replace(',', '')\n",
        "    salary = salary.replace('€', '')\n",
        "    salary = int(salary)\n",
        "    if salary < 4000:\n",
        "      return salary * 14\n",
        "    \n",
        "    return salary\n",
        "\n",
        "dataframe['salary'] = dataframe['salary'].map(lambda x: fix_salary(str(x))).astype('float32')\n",
        "dataframe.head(2)"
      ],
      "metadata": {
        "id": "pE5kbqqzmhLC",
        "outputId": "2b4958ac-f26e-4f11-bf53-5b483f56b71b",
        "colab": {
          "base_uri": "https://localhost:8080/",
          "height": 112
        }
      },
      "execution_count": 172,
      "outputs": [
        {
          "output_type": "execute_result",
          "data": {
            "text/plain": [
              "               devtype          languages  years_experience personal_projects  \\\n",
              "0  [Backend, Frontend]  [JavaScript, PHP]                13               Ναι   \n",
              "1  [Backend, Frontend]       [JavaScript]                 7               Ναι   \n",
              "\n",
              "      sex         remote city_residence city_work company_size supervisor  \\\n",
              "0  Άντρας     Και τα δύο          Αθήνα     Αθήνα         501+        Όχι   \n",
              "1  Άντρας  Απομακρυσμένα          Αθήνα     Αθήνα    201 - 500        Όχι   \n",
              "\n",
              "    education relevant    salary  \n",
              "0  Bachelor's      Ναι  393610.0  \n",
              "1  Bachelor's      Ναι  301420.0  "
            ],
            "text/html": [
              "\n",
              "  <div id=\"df-526e3475-0160-40ad-8240-746554f2fa56\">\n",
              "    <div class=\"colab-df-container\">\n",
              "      <div>\n",
              "<style scoped>\n",
              "    .dataframe tbody tr th:only-of-type {\n",
              "        vertical-align: middle;\n",
              "    }\n",
              "\n",
              "    .dataframe tbody tr th {\n",
              "        vertical-align: top;\n",
              "    }\n",
              "\n",
              "    .dataframe thead th {\n",
              "        text-align: right;\n",
              "    }\n",
              "</style>\n",
              "<table border=\"1\" class=\"dataframe\">\n",
              "  <thead>\n",
              "    <tr style=\"text-align: right;\">\n",
              "      <th></th>\n",
              "      <th>devtype</th>\n",
              "      <th>languages</th>\n",
              "      <th>years_experience</th>\n",
              "      <th>personal_projects</th>\n",
              "      <th>sex</th>\n",
              "      <th>remote</th>\n",
              "      <th>city_residence</th>\n",
              "      <th>city_work</th>\n",
              "      <th>company_size</th>\n",
              "      <th>supervisor</th>\n",
              "      <th>education</th>\n",
              "      <th>relevant</th>\n",
              "      <th>salary</th>\n",
              "    </tr>\n",
              "  </thead>\n",
              "  <tbody>\n",
              "    <tr>\n",
              "      <th>0</th>\n",
              "      <td>[Backend, Frontend]</td>\n",
              "      <td>[JavaScript, PHP]</td>\n",
              "      <td>13</td>\n",
              "      <td>Ναι</td>\n",
              "      <td>Άντρας</td>\n",
              "      <td>Και τα δύο</td>\n",
              "      <td>Αθήνα</td>\n",
              "      <td>Αθήνα</td>\n",
              "      <td>501+</td>\n",
              "      <td>Όχι</td>\n",
              "      <td>Bachelor's</td>\n",
              "      <td>Ναι</td>\n",
              "      <td>393610.0</td>\n",
              "    </tr>\n",
              "    <tr>\n",
              "      <th>1</th>\n",
              "      <td>[Backend, Frontend]</td>\n",
              "      <td>[JavaScript]</td>\n",
              "      <td>7</td>\n",
              "      <td>Ναι</td>\n",
              "      <td>Άντρας</td>\n",
              "      <td>Απομακρυσμένα</td>\n",
              "      <td>Αθήνα</td>\n",
              "      <td>Αθήνα</td>\n",
              "      <td>201 - 500</td>\n",
              "      <td>Όχι</td>\n",
              "      <td>Bachelor's</td>\n",
              "      <td>Ναι</td>\n",
              "      <td>301420.0</td>\n",
              "    </tr>\n",
              "  </tbody>\n",
              "</table>\n",
              "</div>\n",
              "      <button class=\"colab-df-convert\" onclick=\"convertToInteractive('df-526e3475-0160-40ad-8240-746554f2fa56')\"\n",
              "              title=\"Convert this dataframe to an interactive table.\"\n",
              "              style=\"display:none;\">\n",
              "        \n",
              "  <svg xmlns=\"http://www.w3.org/2000/svg\" height=\"24px\"viewBox=\"0 0 24 24\"\n",
              "       width=\"24px\">\n",
              "    <path d=\"M0 0h24v24H0V0z\" fill=\"none\"/>\n",
              "    <path d=\"M18.56 5.44l.94 2.06.94-2.06 2.06-.94-2.06-.94-.94-2.06-.94 2.06-2.06.94zm-11 1L8.5 8.5l.94-2.06 2.06-.94-2.06-.94L8.5 2.5l-.94 2.06-2.06.94zm10 10l.94 2.06.94-2.06 2.06-.94-2.06-.94-.94-2.06-.94 2.06-2.06.94z\"/><path d=\"M17.41 7.96l-1.37-1.37c-.4-.4-.92-.59-1.43-.59-.52 0-1.04.2-1.43.59L10.3 9.45l-7.72 7.72c-.78.78-.78 2.05 0 2.83L4 21.41c.39.39.9.59 1.41.59.51 0 1.02-.2 1.41-.59l7.78-7.78 2.81-2.81c.8-.78.8-2.07 0-2.86zM5.41 20L4 18.59l7.72-7.72 1.47 1.35L5.41 20z\"/>\n",
              "  </svg>\n",
              "      </button>\n",
              "      \n",
              "  <style>\n",
              "    .colab-df-container {\n",
              "      display:flex;\n",
              "      flex-wrap:wrap;\n",
              "      gap: 12px;\n",
              "    }\n",
              "\n",
              "    .colab-df-convert {\n",
              "      background-color: #E8F0FE;\n",
              "      border: none;\n",
              "      border-radius: 50%;\n",
              "      cursor: pointer;\n",
              "      display: none;\n",
              "      fill: #1967D2;\n",
              "      height: 32px;\n",
              "      padding: 0 0 0 0;\n",
              "      width: 32px;\n",
              "    }\n",
              "\n",
              "    .colab-df-convert:hover {\n",
              "      background-color: #E2EBFA;\n",
              "      box-shadow: 0px 1px 2px rgba(60, 64, 67, 0.3), 0px 1px 3px 1px rgba(60, 64, 67, 0.15);\n",
              "      fill: #174EA6;\n",
              "    }\n",
              "\n",
              "    [theme=dark] .colab-df-convert {\n",
              "      background-color: #3B4455;\n",
              "      fill: #D2E3FC;\n",
              "    }\n",
              "\n",
              "    [theme=dark] .colab-df-convert:hover {\n",
              "      background-color: #434B5C;\n",
              "      box-shadow: 0px 1px 3px 1px rgba(0, 0, 0, 0.15);\n",
              "      filter: drop-shadow(0px 1px 2px rgba(0, 0, 0, 0.3));\n",
              "      fill: #FFFFFF;\n",
              "    }\n",
              "  </style>\n",
              "\n",
              "      <script>\n",
              "        const buttonEl =\n",
              "          document.querySelector('#df-526e3475-0160-40ad-8240-746554f2fa56 button.colab-df-convert');\n",
              "        buttonEl.style.display =\n",
              "          google.colab.kernel.accessAllowed ? 'block' : 'none';\n",
              "\n",
              "        async function convertToInteractive(key) {\n",
              "          const element = document.querySelector('#df-526e3475-0160-40ad-8240-746554f2fa56');\n",
              "          const dataTable =\n",
              "            await google.colab.kernel.invokeFunction('convertToInteractive',\n",
              "                                                     [key], {});\n",
              "          if (!dataTable) return;\n",
              "\n",
              "          const docLinkHtml = 'Like what you see? Visit the ' +\n",
              "            '<a target=\"_blank\" href=https://colab.research.google.com/notebooks/data_table.ipynb>data table notebook</a>'\n",
              "            + ' to learn more about interactive tables.';\n",
              "          element.innerHTML = '';\n",
              "          dataTable['output_type'] = 'display_data';\n",
              "          await google.colab.output.renderOutput(dataTable, element);\n",
              "          const docLink = document.createElement('div');\n",
              "          docLink.innerHTML = docLinkHtml;\n",
              "          element.appendChild(docLink);\n",
              "        }\n",
              "      </script>\n",
              "    </div>\n",
              "  </div>\n",
              "  "
            ]
          },
          "metadata": {},
          "execution_count": 172
        }
      ]
    },
    {
      "cell_type": "code",
      "source": [
        "cities_residence, cities_work = pd.unique(dataframe['city_residence'].values), pd.unique(dataframe['city_work'].values)"
      ],
      "metadata": {
        "id": "U-Ig4LOLomoX"
      },
      "execution_count": 173,
      "outputs": []
    },
    {
      "cell_type": "code",
      "source": [
        "geolocator = Nominatim(user_agent=\"test\")\n",
        "\n",
        "\n",
        "with tqdm(total=len(cities_residence), desc='Formatting City Names') as city_progressbar:\n",
        "  for city in cities_residence:\n",
        "    try:\n",
        "      area = geolocator.geocode(city).address.split(\",\")[0]\n",
        "      dataframe['city_residence'] = dataframe['city_residence'].replace(city,area)\n",
        "\n",
        "    except AttributeError:\n",
        "      dataframe['city_residence'] = dataframe['city_residence'].replace(city,\"UNK\")\n",
        "    city_progressbar.update(1)\n",
        "\n",
        "dataframe[dataframe.years_experience != \"UNK\"]\n",
        "print(\"##### Unique Cities #####\")\n",
        "pd.unique(dataframe['city_residence'].values)"
      ],
      "metadata": {
        "id": "oUCaylBYotjf",
        "outputId": "5d2898b0-0649-491e-9a27-39f45080fd63",
        "colab": {
          "base_uri": "https://localhost:8080/"
        }
      },
      "execution_count": 175,
      "outputs": [
        {
          "output_type": "stream",
          "name": "stderr",
          "text": [
            "Formatting City Names: 100%|██████████| 83/83 [00:41<00:00,  1.99it/s]"
          ]
        },
        {
          "output_type": "stream",
          "name": "stdout",
          "text": [
            "##### Unique Cities #####\n"
          ]
        },
        {
          "output_type": "stream",
          "name": "stderr",
          "text": [
            "\n"
          ]
        },
        {
          "output_type": "execute_result",
          "data": {
            "text/plain": [
              "array(['Αθήνα', 'Κέρκυρα', 'City of Edinburgh', 'Θεσσαλονίκη', 'Σέρρες',\n",
              "       'Μαυρομμάτι', 'Μύρινα', 'Berlin', 'Πτολεμαΐδα', 'Serres',\n",
              "       'Χαλκίδα', 'Χανιά', 'Κομοτηνή', 'Ιωάννινα', 'Ναύπλιο', 'Bolo',\n",
              "       'Bratislava', 'Δήμος Βόλου', 'Ξάνθη', 'Δήμος Τρικκαίων',\n",
              "       'Amsterdam', 'Κοζάνη', 'München', 'Δήμος Πατρέων', 'Graz',\n",
              "       'Italia', 'Reading', 'Λευκωσία - Lefkoşa', 'کابل', 'Stockholm',\n",
              "       'Utrecht', 'Oxford', 'Δήμος Καλαμάτας', 'Αγρίνιο', 'Κεφαλονιά',\n",
              "       'Ηράκλειο', 'Genève', 'Ρόδος', 'Brno', 'København', 'Αμαλιάδα',\n",
              "       'Πρέβεζα', 'London', 'Λεμεσός', 'LocalHost', 'Δράμα', 'Glasgow',\n",
              "       'Σχηματάρι', 'Αρχαία Πίσα', 'Zürich', 'Λευκάδα', 'Άρτα', 'Λάρισα',\n",
              "       'Wien', 'Λαμία', 'Δήμος Λάρνακας', 'Ζευγολατιό', 'Leeds', 'UNK',\n",
              "       'استان کردستان', 'Bologna', '贵州省', 'Ρέθυμνο', 'Κύπρος - Kıbrıs',\n",
              "       'Göteborg', 'Ηγουμενίτσα', 'Hlavní město Praha', 'Dublin',\n",
              "       'Καστοριά', 'Tiranë', 'Αρεόπολη'], dtype=object)"
            ]
          },
          "metadata": {},
          "execution_count": 175
        }
      ]
    }
  ]
}