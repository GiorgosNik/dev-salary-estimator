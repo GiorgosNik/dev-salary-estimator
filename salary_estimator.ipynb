{
  "nbformat": 4,
  "nbformat_minor": 0,
  "metadata": {
    "colab": {
      "provenance": [],
      "authorship_tag": "ABX9TyM53Y88aPti5El8GS5PVcYF",
      "include_colab_link": true
    },
    "kernelspec": {
      "name": "python3",
      "display_name": "Python 3"
    },
    "language_info": {
      "name": "python"
    }
  },
  "cells": [
    {
      "cell_type": "markdown",
      "metadata": {
        "id": "view-in-github",
        "colab_type": "text"
      },
      "source": [
        "<a href=\"https://colab.research.google.com/github/GiorgosNik/dev-salary-estimator/blob/main/salary_estimator.ipynb\" target=\"_parent\"><img src=\"https://colab.research.google.com/assets/colab-badge.svg\" alt=\"Open In Colab\"/></a>"
      ]
    },
    {
      "cell_type": "markdown",
      "source": [
        "# Imports"
      ],
      "metadata": {
        "id": "_K12Bkun-T0Z"
      }
    },
    {
      "cell_type": "code",
      "source": [
        "!pip install -U -q PyDrive\n",
        "!pip install -U -q geocoder\n",
        "!pip install -U -q tqdm\n",
        "!pip install -U -q tensorflow"
      ],
      "metadata": {
        "id": "ZSFaceekf-a6"
      },
      "execution_count": 318,
      "outputs": []
    },
    {
      "cell_type": "code",
      "execution_count": 319,
      "metadata": {
        "id": "apXdmT4L8GOD"
      },
      "outputs": [],
      "source": [
        "import tensorflow as tf\n",
        "import pandas as pd\n",
        "import numpy as np\n",
        "from collections import Counter\n",
        "from geopy.geocoders import Nominatim\n",
        "from tqdm import tqdm\n",
        "from tensorflow import feature_column\n",
        "from tensorflow.keras import layers\n",
        "from sklearn.model_selection import train_test_split\n",
        "\n",
        "# CSV import from Google Drive\n",
        "from pydrive.auth import GoogleAuth\n",
        "from pydrive.drive import GoogleDrive\n",
        "from google.colab import auth\n",
        "from oauth2client.client import GoogleCredentials"
      ]
    },
    {
      "cell_type": "markdown",
      "source": [
        "# Import and Format Data"
      ],
      "metadata": {
        "id": "u6lmA34W-XqH"
      }
    },
    {
      "cell_type": "markdown",
      "source": [
        "## Data Import from Google Drive\n",
        "Authenticate with GoogleAuth to retrieve the data .csv from Google Drive.\n",
        "The retrieved .csv file is stored in a pandas dataframe."
      ],
      "metadata": {
        "id": "bb3MZdj5kHiy"
      }
    },
    {
      "cell_type": "code",
      "source": [
        "# Authenticate and create the PyDrive client.\n",
        "auth.authenticate_user()\n",
        "gauth = GoogleAuth()\n",
        "gauth.credentials = GoogleCredentials.get_application_default()\n",
        "drive = GoogleDrive(gauth)\n",
        "\n",
        "# ID of Google Drive .csv document\n",
        "id = \"1cPsSR9XfyqOl15KqGV3BEqaxmL1R7lqq\"\n",
        "downloaded = drive.CreateFile({'id':id}) \n",
        "downloaded.GetContentFile('Filename.csv')  \n",
        "dataframe = pd.read_csv('Filename.csv')"
      ],
      "metadata": {
        "id": "M_B51PCL9fiR"
      },
      "execution_count": 320,
      "outputs": []
    },
    {
      "cell_type": "code",
      "source": [
        "dataframe.columns = ['timestamp', 'devtype', 'languages', 'years_experience','personal_projects', 'sex', 'remote','city_residence', 'city_work', 'company_size',  'supervisor', 'education', 'relevant', 'salary']\n",
        "\n",
        "# Remove the timestamp as it is irelevant\n",
        "dataframe = dataframe.drop(columns=['timestamp'])\n",
        "\n",
        "print(\"The dataset contains {} salary entries\".format( len(dataframe)))\n",
        "dataframe.head(2)"
      ],
      "metadata": {
        "colab": {
          "base_uri": "https://localhost:8080/",
          "height": 130
        },
        "id": "q4PV5g-79-AY",
        "outputId": "d82ad835-183e-42ba-9e51-2374f6bd0de2"
      },
      "execution_count": 321,
      "outputs": [
        {
          "output_type": "stream",
          "name": "stdout",
          "text": [
            "The dataset contains 807 salary entries\n"
          ]
        },
        {
          "output_type": "execute_result",
          "data": {
            "text/plain": [
              "             devtype        languages  years_experience personal_projects  \\\n",
              "0  Backend, Frontend  JavaScript, PHP                13               Ναι   \n",
              "1  Backend, Frontend       JavaScript                 7               Ναι   \n",
              "\n",
              "      sex         remote city_residence city_work company_size supervisor  \\\n",
              "0  Άντρας     Και τα δύο          Αθήνα     Αθήνα         501+        Όχι   \n",
              "1  Άντρας  Απομακρυσμένα          Αθήνα     Αθήνα    201 - 500        Όχι   \n",
              "\n",
              "    education relevant   salary  \n",
              "0  Bachelor's      Ναι  39361.0  \n",
              "1  Bachelor's      Ναι  30142.0  "
            ],
            "text/html": [
              "\n",
              "  <div id=\"df-23d53c14-78b9-4861-80a6-589d2e1d342e\">\n",
              "    <div class=\"colab-df-container\">\n",
              "      <div>\n",
              "<style scoped>\n",
              "    .dataframe tbody tr th:only-of-type {\n",
              "        vertical-align: middle;\n",
              "    }\n",
              "\n",
              "    .dataframe tbody tr th {\n",
              "        vertical-align: top;\n",
              "    }\n",
              "\n",
              "    .dataframe thead th {\n",
              "        text-align: right;\n",
              "    }\n",
              "</style>\n",
              "<table border=\"1\" class=\"dataframe\">\n",
              "  <thead>\n",
              "    <tr style=\"text-align: right;\">\n",
              "      <th></th>\n",
              "      <th>devtype</th>\n",
              "      <th>languages</th>\n",
              "      <th>years_experience</th>\n",
              "      <th>personal_projects</th>\n",
              "      <th>sex</th>\n",
              "      <th>remote</th>\n",
              "      <th>city_residence</th>\n",
              "      <th>city_work</th>\n",
              "      <th>company_size</th>\n",
              "      <th>supervisor</th>\n",
              "      <th>education</th>\n",
              "      <th>relevant</th>\n",
              "      <th>salary</th>\n",
              "    </tr>\n",
              "  </thead>\n",
              "  <tbody>\n",
              "    <tr>\n",
              "      <th>0</th>\n",
              "      <td>Backend, Frontend</td>\n",
              "      <td>JavaScript, PHP</td>\n",
              "      <td>13</td>\n",
              "      <td>Ναι</td>\n",
              "      <td>Άντρας</td>\n",
              "      <td>Και τα δύο</td>\n",
              "      <td>Αθήνα</td>\n",
              "      <td>Αθήνα</td>\n",
              "      <td>501+</td>\n",
              "      <td>Όχι</td>\n",
              "      <td>Bachelor's</td>\n",
              "      <td>Ναι</td>\n",
              "      <td>39361.0</td>\n",
              "    </tr>\n",
              "    <tr>\n",
              "      <th>1</th>\n",
              "      <td>Backend, Frontend</td>\n",
              "      <td>JavaScript</td>\n",
              "      <td>7</td>\n",
              "      <td>Ναι</td>\n",
              "      <td>Άντρας</td>\n",
              "      <td>Απομακρυσμένα</td>\n",
              "      <td>Αθήνα</td>\n",
              "      <td>Αθήνα</td>\n",
              "      <td>201 - 500</td>\n",
              "      <td>Όχι</td>\n",
              "      <td>Bachelor's</td>\n",
              "      <td>Ναι</td>\n",
              "      <td>30142.0</td>\n",
              "    </tr>\n",
              "  </tbody>\n",
              "</table>\n",
              "</div>\n",
              "      <button class=\"colab-df-convert\" onclick=\"convertToInteractive('df-23d53c14-78b9-4861-80a6-589d2e1d342e')\"\n",
              "              title=\"Convert this dataframe to an interactive table.\"\n",
              "              style=\"display:none;\">\n",
              "        \n",
              "  <svg xmlns=\"http://www.w3.org/2000/svg\" height=\"24px\"viewBox=\"0 0 24 24\"\n",
              "       width=\"24px\">\n",
              "    <path d=\"M0 0h24v24H0V0z\" fill=\"none\"/>\n",
              "    <path d=\"M18.56 5.44l.94 2.06.94-2.06 2.06-.94-2.06-.94-.94-2.06-.94 2.06-2.06.94zm-11 1L8.5 8.5l.94-2.06 2.06-.94-2.06-.94L8.5 2.5l-.94 2.06-2.06.94zm10 10l.94 2.06.94-2.06 2.06-.94-2.06-.94-.94-2.06-.94 2.06-2.06.94z\"/><path d=\"M17.41 7.96l-1.37-1.37c-.4-.4-.92-.59-1.43-.59-.52 0-1.04.2-1.43.59L10.3 9.45l-7.72 7.72c-.78.78-.78 2.05 0 2.83L4 21.41c.39.39.9.59 1.41.59.51 0 1.02-.2 1.41-.59l7.78-7.78 2.81-2.81c.8-.78.8-2.07 0-2.86zM5.41 20L4 18.59l7.72-7.72 1.47 1.35L5.41 20z\"/>\n",
              "  </svg>\n",
              "      </button>\n",
              "      \n",
              "  <style>\n",
              "    .colab-df-container {\n",
              "      display:flex;\n",
              "      flex-wrap:wrap;\n",
              "      gap: 12px;\n",
              "    }\n",
              "\n",
              "    .colab-df-convert {\n",
              "      background-color: #E8F0FE;\n",
              "      border: none;\n",
              "      border-radius: 50%;\n",
              "      cursor: pointer;\n",
              "      display: none;\n",
              "      fill: #1967D2;\n",
              "      height: 32px;\n",
              "      padding: 0 0 0 0;\n",
              "      width: 32px;\n",
              "    }\n",
              "\n",
              "    .colab-df-convert:hover {\n",
              "      background-color: #E2EBFA;\n",
              "      box-shadow: 0px 1px 2px rgba(60, 64, 67, 0.3), 0px 1px 3px 1px rgba(60, 64, 67, 0.15);\n",
              "      fill: #174EA6;\n",
              "    }\n",
              "\n",
              "    [theme=dark] .colab-df-convert {\n",
              "      background-color: #3B4455;\n",
              "      fill: #D2E3FC;\n",
              "    }\n",
              "\n",
              "    [theme=dark] .colab-df-convert:hover {\n",
              "      background-color: #434B5C;\n",
              "      box-shadow: 0px 1px 3px 1px rgba(0, 0, 0, 0.15);\n",
              "      filter: drop-shadow(0px 1px 2px rgba(0, 0, 0, 0.3));\n",
              "      fill: #FFFFFF;\n",
              "    }\n",
              "  </style>\n",
              "\n",
              "      <script>\n",
              "        const buttonEl =\n",
              "          document.querySelector('#df-23d53c14-78b9-4861-80a6-589d2e1d342e button.colab-df-convert');\n",
              "        buttonEl.style.display =\n",
              "          google.colab.kernel.accessAllowed ? 'block' : 'none';\n",
              "\n",
              "        async function convertToInteractive(key) {\n",
              "          const element = document.querySelector('#df-23d53c14-78b9-4861-80a6-589d2e1d342e');\n",
              "          const dataTable =\n",
              "            await google.colab.kernel.invokeFunction('convertToInteractive',\n",
              "                                                     [key], {});\n",
              "          if (!dataTable) return;\n",
              "\n",
              "          const docLinkHtml = 'Like what you see? Visit the ' +\n",
              "            '<a target=\"_blank\" href=https://colab.research.google.com/notebooks/data_table.ipynb>data table notebook</a>'\n",
              "            + ' to learn more about interactive tables.';\n",
              "          element.innerHTML = '';\n",
              "          dataTable['output_type'] = 'display_data';\n",
              "          await google.colab.output.renderOutput(dataTable, element);\n",
              "          const docLink = document.createElement('div');\n",
              "          docLink.innerHTML = docLinkHtml;\n",
              "          element.appendChild(docLink);\n",
              "        }\n",
              "      </script>\n",
              "    </div>\n",
              "  </div>\n",
              "  "
            ]
          },
          "metadata": {},
          "execution_count": 321
        }
      ]
    },
    {
      "cell_type": "markdown",
      "source": [
        "## Remove entries that contain very rare developer types\n",
        "Entries that occur under 5 times are considered rare."
      ],
      "metadata": {
        "id": "BasxDZwQmEhS"
      }
    },
    {
      "cell_type": "code",
      "source": [
        "UNK = 'unk'\n",
        "\n",
        "def categorize_clean_columns(df, colname, threshold):\n",
        "    df[colname] = df[colname].map(lambda x: x.replace(' ', '').split(','))\n",
        "    c = Counter([item for sublist in df[colname].values for item in sublist])\n",
        "\n",
        "    map_to_unk = set([el for el in c.elements() if c[el] <= threshold])\n",
        "\n",
        "    def map_devtype_unk(arr):\n",
        "      def x_or_unk(x):\n",
        "        if x in map_to_unk:\n",
        "          return UNK\n",
        "        return x\n",
        "\n",
        "      return [x_or_unk(x) for x in arr]\n",
        "\n",
        "    df[colname] = df[colname].map(lambda x: map_devtype_unk(x))\n",
        "\n",
        "    def is_sole_uknown(arr):\n",
        "      return arr[0] == UNK and len(arr) == 1\n",
        "\n",
        "    return df[df[colname].map(is_sole_uknown) == False]"
      ],
      "metadata": {
        "id": "3Oqupvawe4Mo"
      },
      "execution_count": 322,
      "outputs": []
    },
    {
      "cell_type": "code",
      "source": [
        "dataframe = categorize_clean_columns(dataframe, 'devtype', 5)\n",
        "dataframe = categorize_clean_columns(dataframe, 'languages', 5)\n",
        "\n",
        "len(dataframe) # ~ 20 rows with few entries"
      ],
      "metadata": {
        "id": "8g-DYWIni0y2",
        "outputId": "5def7cb3-6fc4-44d7-fb8d-756bae2e03bf",
        "colab": {
          "base_uri": "https://localhost:8080/"
        }
      },
      "execution_count": 323,
      "outputs": [
        {
          "output_type": "stream",
          "name": "stderr",
          "text": [
            "<ipython-input-322-a36b894efd5c>:4: SettingWithCopyWarning: \n",
            "A value is trying to be set on a copy of a slice from a DataFrame.\n",
            "Try using .loc[row_indexer,col_indexer] = value instead\n",
            "\n",
            "See the caveats in the documentation: https://pandas.pydata.org/pandas-docs/stable/user_guide/indexing.html#returning-a-view-versus-a-copy\n",
            "  df[colname] = df[colname].map(lambda x: x.replace(' ', '').split(','))\n",
            "<ipython-input-322-a36b894efd5c>:17: SettingWithCopyWarning: \n",
            "A value is trying to be set on a copy of a slice from a DataFrame.\n",
            "Try using .loc[row_indexer,col_indexer] = value instead\n",
            "\n",
            "See the caveats in the documentation: https://pandas.pydata.org/pandas-docs/stable/user_guide/indexing.html#returning-a-view-versus-a-copy\n",
            "  df[colname] = df[colname].map(lambda x: map_devtype_unk(x))\n"
          ]
        },
        {
          "output_type": "execute_result",
          "data": {
            "text/plain": [
              "738"
            ]
          },
          "metadata": {},
          "execution_count": 323
        }
      ]
    },
    {
      "cell_type": "code",
      "source": [
        "def fix_salary(salary):\n",
        "    salary = salary.replace('.', '')\n",
        "    salary = salary.replace(',', '')\n",
        "    salary = salary.replace('€', '')\n",
        "    salary = int(salary)\n",
        "    if salary < 4000:\n",
        "      salary = salary * 14\n",
        "    \n",
        "    return salary\n",
        "\n",
        "dataframe['salary'] = dataframe['salary'].map(lambda x: fix_salary(str(int(x)))).astype('int32')\n",
        "dataframe.head(2)"
      ],
      "metadata": {
        "id": "pE5kbqqzmhLC",
        "outputId": "88d9c480-76b2-4eac-8260-edb2f1b2685b",
        "colab": {
          "base_uri": "https://localhost:8080/",
          "height": 112
        }
      },
      "execution_count": 324,
      "outputs": [
        {
          "output_type": "execute_result",
          "data": {
            "text/plain": [
              "               devtype          languages  years_experience personal_projects  \\\n",
              "0  [Backend, Frontend]  [JavaScript, PHP]                13               Ναι   \n",
              "1  [Backend, Frontend]       [JavaScript]                 7               Ναι   \n",
              "\n",
              "      sex         remote city_residence city_work company_size supervisor  \\\n",
              "0  Άντρας     Και τα δύο          Αθήνα     Αθήνα         501+        Όχι   \n",
              "1  Άντρας  Απομακρυσμένα          Αθήνα     Αθήνα    201 - 500        Όχι   \n",
              "\n",
              "    education relevant  salary  \n",
              "0  Bachelor's      Ναι   39361  \n",
              "1  Bachelor's      Ναι   30142  "
            ],
            "text/html": [
              "\n",
              "  <div id=\"df-3d43342e-ddfe-4222-9729-d748e98a4afa\">\n",
              "    <div class=\"colab-df-container\">\n",
              "      <div>\n",
              "<style scoped>\n",
              "    .dataframe tbody tr th:only-of-type {\n",
              "        vertical-align: middle;\n",
              "    }\n",
              "\n",
              "    .dataframe tbody tr th {\n",
              "        vertical-align: top;\n",
              "    }\n",
              "\n",
              "    .dataframe thead th {\n",
              "        text-align: right;\n",
              "    }\n",
              "</style>\n",
              "<table border=\"1\" class=\"dataframe\">\n",
              "  <thead>\n",
              "    <tr style=\"text-align: right;\">\n",
              "      <th></th>\n",
              "      <th>devtype</th>\n",
              "      <th>languages</th>\n",
              "      <th>years_experience</th>\n",
              "      <th>personal_projects</th>\n",
              "      <th>sex</th>\n",
              "      <th>remote</th>\n",
              "      <th>city_residence</th>\n",
              "      <th>city_work</th>\n",
              "      <th>company_size</th>\n",
              "      <th>supervisor</th>\n",
              "      <th>education</th>\n",
              "      <th>relevant</th>\n",
              "      <th>salary</th>\n",
              "    </tr>\n",
              "  </thead>\n",
              "  <tbody>\n",
              "    <tr>\n",
              "      <th>0</th>\n",
              "      <td>[Backend, Frontend]</td>\n",
              "      <td>[JavaScript, PHP]</td>\n",
              "      <td>13</td>\n",
              "      <td>Ναι</td>\n",
              "      <td>Άντρας</td>\n",
              "      <td>Και τα δύο</td>\n",
              "      <td>Αθήνα</td>\n",
              "      <td>Αθήνα</td>\n",
              "      <td>501+</td>\n",
              "      <td>Όχι</td>\n",
              "      <td>Bachelor's</td>\n",
              "      <td>Ναι</td>\n",
              "      <td>39361</td>\n",
              "    </tr>\n",
              "    <tr>\n",
              "      <th>1</th>\n",
              "      <td>[Backend, Frontend]</td>\n",
              "      <td>[JavaScript]</td>\n",
              "      <td>7</td>\n",
              "      <td>Ναι</td>\n",
              "      <td>Άντρας</td>\n",
              "      <td>Απομακρυσμένα</td>\n",
              "      <td>Αθήνα</td>\n",
              "      <td>Αθήνα</td>\n",
              "      <td>201 - 500</td>\n",
              "      <td>Όχι</td>\n",
              "      <td>Bachelor's</td>\n",
              "      <td>Ναι</td>\n",
              "      <td>30142</td>\n",
              "    </tr>\n",
              "  </tbody>\n",
              "</table>\n",
              "</div>\n",
              "      <button class=\"colab-df-convert\" onclick=\"convertToInteractive('df-3d43342e-ddfe-4222-9729-d748e98a4afa')\"\n",
              "              title=\"Convert this dataframe to an interactive table.\"\n",
              "              style=\"display:none;\">\n",
              "        \n",
              "  <svg xmlns=\"http://www.w3.org/2000/svg\" height=\"24px\"viewBox=\"0 0 24 24\"\n",
              "       width=\"24px\">\n",
              "    <path d=\"M0 0h24v24H0V0z\" fill=\"none\"/>\n",
              "    <path d=\"M18.56 5.44l.94 2.06.94-2.06 2.06-.94-2.06-.94-.94-2.06-.94 2.06-2.06.94zm-11 1L8.5 8.5l.94-2.06 2.06-.94-2.06-.94L8.5 2.5l-.94 2.06-2.06.94zm10 10l.94 2.06.94-2.06 2.06-.94-2.06-.94-.94-2.06-.94 2.06-2.06.94z\"/><path d=\"M17.41 7.96l-1.37-1.37c-.4-.4-.92-.59-1.43-.59-.52 0-1.04.2-1.43.59L10.3 9.45l-7.72 7.72c-.78.78-.78 2.05 0 2.83L4 21.41c.39.39.9.59 1.41.59.51 0 1.02-.2 1.41-.59l7.78-7.78 2.81-2.81c.8-.78.8-2.07 0-2.86zM5.41 20L4 18.59l7.72-7.72 1.47 1.35L5.41 20z\"/>\n",
              "  </svg>\n",
              "      </button>\n",
              "      \n",
              "  <style>\n",
              "    .colab-df-container {\n",
              "      display:flex;\n",
              "      flex-wrap:wrap;\n",
              "      gap: 12px;\n",
              "    }\n",
              "\n",
              "    .colab-df-convert {\n",
              "      background-color: #E8F0FE;\n",
              "      border: none;\n",
              "      border-radius: 50%;\n",
              "      cursor: pointer;\n",
              "      display: none;\n",
              "      fill: #1967D2;\n",
              "      height: 32px;\n",
              "      padding: 0 0 0 0;\n",
              "      width: 32px;\n",
              "    }\n",
              "\n",
              "    .colab-df-convert:hover {\n",
              "      background-color: #E2EBFA;\n",
              "      box-shadow: 0px 1px 2px rgba(60, 64, 67, 0.3), 0px 1px 3px 1px rgba(60, 64, 67, 0.15);\n",
              "      fill: #174EA6;\n",
              "    }\n",
              "\n",
              "    [theme=dark] .colab-df-convert {\n",
              "      background-color: #3B4455;\n",
              "      fill: #D2E3FC;\n",
              "    }\n",
              "\n",
              "    [theme=dark] .colab-df-convert:hover {\n",
              "      background-color: #434B5C;\n",
              "      box-shadow: 0px 1px 3px 1px rgba(0, 0, 0, 0.15);\n",
              "      filter: drop-shadow(0px 1px 2px rgba(0, 0, 0, 0.3));\n",
              "      fill: #FFFFFF;\n",
              "    }\n",
              "  </style>\n",
              "\n",
              "      <script>\n",
              "        const buttonEl =\n",
              "          document.querySelector('#df-3d43342e-ddfe-4222-9729-d748e98a4afa button.colab-df-convert');\n",
              "        buttonEl.style.display =\n",
              "          google.colab.kernel.accessAllowed ? 'block' : 'none';\n",
              "\n",
              "        async function convertToInteractive(key) {\n",
              "          const element = document.querySelector('#df-3d43342e-ddfe-4222-9729-d748e98a4afa');\n",
              "          const dataTable =\n",
              "            await google.colab.kernel.invokeFunction('convertToInteractive',\n",
              "                                                     [key], {});\n",
              "          if (!dataTable) return;\n",
              "\n",
              "          const docLinkHtml = 'Like what you see? Visit the ' +\n",
              "            '<a target=\"_blank\" href=https://colab.research.google.com/notebooks/data_table.ipynb>data table notebook</a>'\n",
              "            + ' to learn more about interactive tables.';\n",
              "          element.innerHTML = '';\n",
              "          dataTable['output_type'] = 'display_data';\n",
              "          await google.colab.output.renderOutput(dataTable, element);\n",
              "          const docLink = document.createElement('div');\n",
              "          docLink.innerHTML = docLinkHtml;\n",
              "          element.appendChild(docLink);\n",
              "        }\n",
              "      </script>\n",
              "    </div>\n",
              "  </div>\n",
              "  "
            ]
          },
          "metadata": {},
          "execution_count": 324
        }
      ]
    },
    {
      "cell_type": "code",
      "source": [
        "cities_residence, cities_work = pd.unique(dataframe['city_residence'].values), pd.unique(dataframe['city_work'].values)"
      ],
      "metadata": {
        "id": "U-Ig4LOLomoX"
      },
      "execution_count": 325,
      "outputs": []
    },
    {
      "cell_type": "code",
      "source": [
        "geolocator = Nominatim(user_agent=\"test\")\n",
        "\n",
        "# TODO: experiment with country\n",
        "with tqdm(total=len(cities_residence), desc='Formatting City Names') as city_progressbar:\n",
        "  for city in cities_residence:\n",
        "    try:\n",
        "      area = geolocator.geocode(city).address.split(\",\")[0]\n",
        "      country = geolocator.geocode(city).address.split(\",\")[-1].strip()\n",
        "      dataframe['city_residence'] = dataframe['city_residence'].replace(city,country)\n",
        "\n",
        "    except AttributeError:\n",
        "      dataframe['city_residence'] = dataframe['city_residence'].replace(city,\"UNK\")\n",
        "    city_progressbar.update(1)\n",
        "\n",
        "dataframe = dataframe[dataframe.years_experience != \"UNK\"]\n",
        "dataframe = dataframe[dataframe.city_residence == \"Ελλάς\"]\n",
        "print(\"##### Unique Cities #####\")\n",
        "pd.unique(dataframe['city_residence'].values)\n",
        "\n",
        "dataframe = dataframe.drop(columns=['city_residence', 'city_work'])\n",
        "dataframe.head(2)"
      ],
      "metadata": {
        "id": "oUCaylBYotjf",
        "outputId": "1242b2e7-89ae-4342-bef7-d1555cb81c4f",
        "colab": {
          "base_uri": "https://localhost:8080/",
          "height": 148
        }
      },
      "execution_count": 326,
      "outputs": [
        {
          "output_type": "stream",
          "name": "stderr",
          "text": [
            "Formatting City Names: 100%|██████████| 83/83 [01:21<00:00,  1.01it/s]"
          ]
        },
        {
          "output_type": "stream",
          "name": "stdout",
          "text": [
            "##### Unique Cities #####\n"
          ]
        },
        {
          "output_type": "stream",
          "name": "stderr",
          "text": [
            "\n"
          ]
        },
        {
          "output_type": "execute_result",
          "data": {
            "text/plain": [
              "               devtype          languages  years_experience personal_projects  \\\n",
              "0  [Backend, Frontend]  [JavaScript, PHP]                13               Ναι   \n",
              "1  [Backend, Frontend]       [JavaScript]                 7               Ναι   \n",
              "\n",
              "      sex         remote company_size supervisor   education relevant  salary  \n",
              "0  Άντρας     Και τα δύο         501+        Όχι  Bachelor's      Ναι   39361  \n",
              "1  Άντρας  Απομακρυσμένα    201 - 500        Όχι  Bachelor's      Ναι   30142  "
            ],
            "text/html": [
              "\n",
              "  <div id=\"df-cca76e42-5196-4d47-922f-656eb2a6817f\">\n",
              "    <div class=\"colab-df-container\">\n",
              "      <div>\n",
              "<style scoped>\n",
              "    .dataframe tbody tr th:only-of-type {\n",
              "        vertical-align: middle;\n",
              "    }\n",
              "\n",
              "    .dataframe tbody tr th {\n",
              "        vertical-align: top;\n",
              "    }\n",
              "\n",
              "    .dataframe thead th {\n",
              "        text-align: right;\n",
              "    }\n",
              "</style>\n",
              "<table border=\"1\" class=\"dataframe\">\n",
              "  <thead>\n",
              "    <tr style=\"text-align: right;\">\n",
              "      <th></th>\n",
              "      <th>devtype</th>\n",
              "      <th>languages</th>\n",
              "      <th>years_experience</th>\n",
              "      <th>personal_projects</th>\n",
              "      <th>sex</th>\n",
              "      <th>remote</th>\n",
              "      <th>company_size</th>\n",
              "      <th>supervisor</th>\n",
              "      <th>education</th>\n",
              "      <th>relevant</th>\n",
              "      <th>salary</th>\n",
              "    </tr>\n",
              "  </thead>\n",
              "  <tbody>\n",
              "    <tr>\n",
              "      <th>0</th>\n",
              "      <td>[Backend, Frontend]</td>\n",
              "      <td>[JavaScript, PHP]</td>\n",
              "      <td>13</td>\n",
              "      <td>Ναι</td>\n",
              "      <td>Άντρας</td>\n",
              "      <td>Και τα δύο</td>\n",
              "      <td>501+</td>\n",
              "      <td>Όχι</td>\n",
              "      <td>Bachelor's</td>\n",
              "      <td>Ναι</td>\n",
              "      <td>39361</td>\n",
              "    </tr>\n",
              "    <tr>\n",
              "      <th>1</th>\n",
              "      <td>[Backend, Frontend]</td>\n",
              "      <td>[JavaScript]</td>\n",
              "      <td>7</td>\n",
              "      <td>Ναι</td>\n",
              "      <td>Άντρας</td>\n",
              "      <td>Απομακρυσμένα</td>\n",
              "      <td>201 - 500</td>\n",
              "      <td>Όχι</td>\n",
              "      <td>Bachelor's</td>\n",
              "      <td>Ναι</td>\n",
              "      <td>30142</td>\n",
              "    </tr>\n",
              "  </tbody>\n",
              "</table>\n",
              "</div>\n",
              "      <button class=\"colab-df-convert\" onclick=\"convertToInteractive('df-cca76e42-5196-4d47-922f-656eb2a6817f')\"\n",
              "              title=\"Convert this dataframe to an interactive table.\"\n",
              "              style=\"display:none;\">\n",
              "        \n",
              "  <svg xmlns=\"http://www.w3.org/2000/svg\" height=\"24px\"viewBox=\"0 0 24 24\"\n",
              "       width=\"24px\">\n",
              "    <path d=\"M0 0h24v24H0V0z\" fill=\"none\"/>\n",
              "    <path d=\"M18.56 5.44l.94 2.06.94-2.06 2.06-.94-2.06-.94-.94-2.06-.94 2.06-2.06.94zm-11 1L8.5 8.5l.94-2.06 2.06-.94-2.06-.94L8.5 2.5l-.94 2.06-2.06.94zm10 10l.94 2.06.94-2.06 2.06-.94-2.06-.94-.94-2.06-.94 2.06-2.06.94z\"/><path d=\"M17.41 7.96l-1.37-1.37c-.4-.4-.92-.59-1.43-.59-.52 0-1.04.2-1.43.59L10.3 9.45l-7.72 7.72c-.78.78-.78 2.05 0 2.83L4 21.41c.39.39.9.59 1.41.59.51 0 1.02-.2 1.41-.59l7.78-7.78 2.81-2.81c.8-.78.8-2.07 0-2.86zM5.41 20L4 18.59l7.72-7.72 1.47 1.35L5.41 20z\"/>\n",
              "  </svg>\n",
              "      </button>\n",
              "      \n",
              "  <style>\n",
              "    .colab-df-container {\n",
              "      display:flex;\n",
              "      flex-wrap:wrap;\n",
              "      gap: 12px;\n",
              "    }\n",
              "\n",
              "    .colab-df-convert {\n",
              "      background-color: #E8F0FE;\n",
              "      border: none;\n",
              "      border-radius: 50%;\n",
              "      cursor: pointer;\n",
              "      display: none;\n",
              "      fill: #1967D2;\n",
              "      height: 32px;\n",
              "      padding: 0 0 0 0;\n",
              "      width: 32px;\n",
              "    }\n",
              "\n",
              "    .colab-df-convert:hover {\n",
              "      background-color: #E2EBFA;\n",
              "      box-shadow: 0px 1px 2px rgba(60, 64, 67, 0.3), 0px 1px 3px 1px rgba(60, 64, 67, 0.15);\n",
              "      fill: #174EA6;\n",
              "    }\n",
              "\n",
              "    [theme=dark] .colab-df-convert {\n",
              "      background-color: #3B4455;\n",
              "      fill: #D2E3FC;\n",
              "    }\n",
              "\n",
              "    [theme=dark] .colab-df-convert:hover {\n",
              "      background-color: #434B5C;\n",
              "      box-shadow: 0px 1px 3px 1px rgba(0, 0, 0, 0.15);\n",
              "      filter: drop-shadow(0px 1px 2px rgba(0, 0, 0, 0.3));\n",
              "      fill: #FFFFFF;\n",
              "    }\n",
              "  </style>\n",
              "\n",
              "      <script>\n",
              "        const buttonEl =\n",
              "          document.querySelector('#df-cca76e42-5196-4d47-922f-656eb2a6817f button.colab-df-convert');\n",
              "        buttonEl.style.display =\n",
              "          google.colab.kernel.accessAllowed ? 'block' : 'none';\n",
              "\n",
              "        async function convertToInteractive(key) {\n",
              "          const element = document.querySelector('#df-cca76e42-5196-4d47-922f-656eb2a6817f');\n",
              "          const dataTable =\n",
              "            await google.colab.kernel.invokeFunction('convertToInteractive',\n",
              "                                                     [key], {});\n",
              "          if (!dataTable) return;\n",
              "\n",
              "          const docLinkHtml = 'Like what you see? Visit the ' +\n",
              "            '<a target=\"_blank\" href=https://colab.research.google.com/notebooks/data_table.ipynb>data table notebook</a>'\n",
              "            + ' to learn more about interactive tables.';\n",
              "          element.innerHTML = '';\n",
              "          dataTable['output_type'] = 'display_data';\n",
              "          await google.colab.output.renderOutput(dataTable, element);\n",
              "          const docLink = document.createElement('div');\n",
              "          docLink.innerHTML = docLinkHtml;\n",
              "          element.appendChild(docLink);\n",
              "        }\n",
              "      </script>\n",
              "    </div>\n",
              "  </div>\n",
              "  "
            ]
          },
          "metadata": {},
          "execution_count": 326
        }
      ]
    },
    {
      "cell_type": "code",
      "source": [
        "dataframe['relevant'] = dataframe['relevant'].fillna('Όχι')"
      ],
      "metadata": {
        "id": "7tTAeQUGeE5X"
      },
      "execution_count": 327,
      "outputs": []
    },
    {
      "cell_type": "code",
      "source": [
        "category_columns = ['company_size', 'remote', 'supervisor', 'personal_projects', 'sex','education','relevant']\n",
        "\n",
        "for col in category_columns:\n",
        "    dataframe[f'{col}_xf'] = dataframe[col].astype('category')\n",
        "\n",
        "dataframe = dataframe.drop(columns=category_columns)"
      ],
      "metadata": {
        "id": "ZMfzC-xtfj7I"
      },
      "execution_count": 328,
      "outputs": []
    },
    {
      "cell_type": "code",
      "source": [
        "dataframe['languages'] = dataframe['languages'].replace(\"Typescript\",\"TypeScript\")\n",
        "\n",
        "def fix_languages(languages):\n",
        "    for i in range(len(languages)):\n",
        "      if(languages[i] == \"Typescript\"):\n",
        "        languages[i] = \"TypeScript\"\n",
        "      languages[i] = languages[i].strip()\n",
        "    return languages\n",
        "    \n",
        "dataframe['languages'] = dataframe['languages'].map(lambda x: fix_languages(x))\n",
        "\n",
        "temp = dataframe[dataframe.languages == \"Typescript\"]\n",
        "temp.head(2)"
      ],
      "metadata": {
        "id": "mykX8UIJc6mO",
        "outputId": "92f90eae-235a-4c17-8c0a-162fa216b3cc",
        "colab": {
          "base_uri": "https://localhost:8080/",
          "height": 49
        }
      },
      "execution_count": 329,
      "outputs": [
        {
          "output_type": "execute_result",
          "data": {
            "text/plain": [
              "Empty DataFrame\n",
              "Columns: [devtype, languages, years_experience, salary, company_size_xf, remote_xf, supervisor_xf, personal_projects_xf, sex_xf, education_xf, relevant_xf]\n",
              "Index: []"
            ],
            "text/html": [
              "\n",
              "  <div id=\"df-a23af0be-cc68-4b7d-a2c4-c4575079e6ee\">\n",
              "    <div class=\"colab-df-container\">\n",
              "      <div>\n",
              "<style scoped>\n",
              "    .dataframe tbody tr th:only-of-type {\n",
              "        vertical-align: middle;\n",
              "    }\n",
              "\n",
              "    .dataframe tbody tr th {\n",
              "        vertical-align: top;\n",
              "    }\n",
              "\n",
              "    .dataframe thead th {\n",
              "        text-align: right;\n",
              "    }\n",
              "</style>\n",
              "<table border=\"1\" class=\"dataframe\">\n",
              "  <thead>\n",
              "    <tr style=\"text-align: right;\">\n",
              "      <th></th>\n",
              "      <th>devtype</th>\n",
              "      <th>languages</th>\n",
              "      <th>years_experience</th>\n",
              "      <th>salary</th>\n",
              "      <th>company_size_xf</th>\n",
              "      <th>remote_xf</th>\n",
              "      <th>supervisor_xf</th>\n",
              "      <th>personal_projects_xf</th>\n",
              "      <th>sex_xf</th>\n",
              "      <th>education_xf</th>\n",
              "      <th>relevant_xf</th>\n",
              "    </tr>\n",
              "  </thead>\n",
              "  <tbody>\n",
              "  </tbody>\n",
              "</table>\n",
              "</div>\n",
              "      <button class=\"colab-df-convert\" onclick=\"convertToInteractive('df-a23af0be-cc68-4b7d-a2c4-c4575079e6ee')\"\n",
              "              title=\"Convert this dataframe to an interactive table.\"\n",
              "              style=\"display:none;\">\n",
              "        \n",
              "  <svg xmlns=\"http://www.w3.org/2000/svg\" height=\"24px\"viewBox=\"0 0 24 24\"\n",
              "       width=\"24px\">\n",
              "    <path d=\"M0 0h24v24H0V0z\" fill=\"none\"/>\n",
              "    <path d=\"M18.56 5.44l.94 2.06.94-2.06 2.06-.94-2.06-.94-.94-2.06-.94 2.06-2.06.94zm-11 1L8.5 8.5l.94-2.06 2.06-.94-2.06-.94L8.5 2.5l-.94 2.06-2.06.94zm10 10l.94 2.06.94-2.06 2.06-.94-2.06-.94-.94-2.06-.94 2.06-2.06.94z\"/><path d=\"M17.41 7.96l-1.37-1.37c-.4-.4-.92-.59-1.43-.59-.52 0-1.04.2-1.43.59L10.3 9.45l-7.72 7.72c-.78.78-.78 2.05 0 2.83L4 21.41c.39.39.9.59 1.41.59.51 0 1.02-.2 1.41-.59l7.78-7.78 2.81-2.81c.8-.78.8-2.07 0-2.86zM5.41 20L4 18.59l7.72-7.72 1.47 1.35L5.41 20z\"/>\n",
              "  </svg>\n",
              "      </button>\n",
              "      \n",
              "  <style>\n",
              "    .colab-df-container {\n",
              "      display:flex;\n",
              "      flex-wrap:wrap;\n",
              "      gap: 12px;\n",
              "    }\n",
              "\n",
              "    .colab-df-convert {\n",
              "      background-color: #E8F0FE;\n",
              "      border: none;\n",
              "      border-radius: 50%;\n",
              "      cursor: pointer;\n",
              "      display: none;\n",
              "      fill: #1967D2;\n",
              "      height: 32px;\n",
              "      padding: 0 0 0 0;\n",
              "      width: 32px;\n",
              "    }\n",
              "\n",
              "    .colab-df-convert:hover {\n",
              "      background-color: #E2EBFA;\n",
              "      box-shadow: 0px 1px 2px rgba(60, 64, 67, 0.3), 0px 1px 3px 1px rgba(60, 64, 67, 0.15);\n",
              "      fill: #174EA6;\n",
              "    }\n",
              "\n",
              "    [theme=dark] .colab-df-convert {\n",
              "      background-color: #3B4455;\n",
              "      fill: #D2E3FC;\n",
              "    }\n",
              "\n",
              "    [theme=dark] .colab-df-convert:hover {\n",
              "      background-color: #434B5C;\n",
              "      box-shadow: 0px 1px 3px 1px rgba(0, 0, 0, 0.15);\n",
              "      filter: drop-shadow(0px 1px 2px rgba(0, 0, 0, 0.3));\n",
              "      fill: #FFFFFF;\n",
              "    }\n",
              "  </style>\n",
              "\n",
              "      <script>\n",
              "        const buttonEl =\n",
              "          document.querySelector('#df-a23af0be-cc68-4b7d-a2c4-c4575079e6ee button.colab-df-convert');\n",
              "        buttonEl.style.display =\n",
              "          google.colab.kernel.accessAllowed ? 'block' : 'none';\n",
              "\n",
              "        async function convertToInteractive(key) {\n",
              "          const element = document.querySelector('#df-a23af0be-cc68-4b7d-a2c4-c4575079e6ee');\n",
              "          const dataTable =\n",
              "            await google.colab.kernel.invokeFunction('convertToInteractive',\n",
              "                                                     [key], {});\n",
              "          if (!dataTable) return;\n",
              "\n",
              "          const docLinkHtml = 'Like what you see? Visit the ' +\n",
              "            '<a target=\"_blank\" href=https://colab.research.google.com/notebooks/data_table.ipynb>data table notebook</a>'\n",
              "            + ' to learn more about interactive tables.';\n",
              "          element.innerHTML = '';\n",
              "          dataTable['output_type'] = 'display_data';\n",
              "          await google.colab.output.renderOutput(dataTable, element);\n",
              "          const docLink = document.createElement('div');\n",
              "          docLink.innerHTML = docLinkHtml;\n",
              "          element.appendChild(docLink);\n",
              "        }\n",
              "      </script>\n",
              "    </div>\n",
              "  </div>\n",
              "  "
            ]
          },
          "metadata": {},
          "execution_count": 329
        }
      ]
    },
    {
      "cell_type": "code",
      "source": [
        "multi_category_columns = ['devtype', 'languages']\n",
        "\n",
        "def coltitle(col, word):\n",
        "    return f'{col}_{word}'\n",
        "\n",
        "for col in multi_category_columns:\n",
        "    vocab = set([item for sublist in dataframe[col].values for item in sublist])\n",
        "    for word in vocab:\n",
        "        dataframe[coltitle(col, word)] = 0\n",
        "        dataframe[coltitle(col, word)] = dataframe[coltitle(col, word)].astype('int32')\n",
        "    print(vocab)\n",
        "\n",
        "for index, row in dataframe.iterrows():\n",
        "    for col in multi_category_columns:\n",
        "        words = row[col]\n",
        "        for word in words:\n",
        "            dataframe.loc[index, coltitle(col, word)] = 1\n",
        "\n",
        "bad_tf_scope_names = [('languages_C#', 'languages_Csharp'), ('languages_C++', 'languages_Cpp')]\n",
        "for before, after in bad_tf_scope_names:\n",
        "    dataframe[after] = dataframe[before]\n",
        "    dataframe = dataframe.drop(columns=[before])\n"
      ],
      "metadata": {
        "id": "_e7GFD_hgY89",
        "outputId": "574e7674-b95e-4053-e28c-b6f8120e18d7",
        "colab": {
          "base_uri": "https://localhost:8080/"
        }
      },
      "execution_count": 330,
      "outputs": [
        {
          "output_type": "stream",
          "name": "stdout",
          "text": [
            "{'Gaming', 'Frontend', 'Cybersecurity', 'DevOps', 'Embedded', 'BI', 'unk', 'AI/ML', 'Desktopapps', 'Mobileapps', 'Backend'}\n",
            "{'JavaScript', 'Python', 'TypeScript', 'C#', 'C++', 'SQL', 'C', 'Swift', 'unk', 'Bash', 'Ruby', 'Go', 'PHP', 'Kotlin', 'Java'}\n"
          ]
        }
      ]
    },
    {
      "cell_type": "code",
      "source": [
        "dataframe = dataframe.drop(columns=multi_category_columns)"
      ],
      "metadata": {
        "id": "Ta0IboMOezwc"
      },
      "execution_count": 331,
      "outputs": []
    },
    {
      "cell_type": "code",
      "source": [
        "train, val = train_test_split(dataframe, test_size=0.2)\n",
        "print(len(train), 'train examples')\n",
        "print(len(val), 'validation examples')"
      ],
      "metadata": {
        "id": "CL8C644Pgs2X",
        "outputId": "09330b16-bcec-4687-94b8-80e9ef12e206",
        "colab": {
          "base_uri": "https://localhost:8080/"
        }
      },
      "execution_count": 332,
      "outputs": [
        {
          "output_type": "stream",
          "name": "stdout",
          "text": [
            "544 train examples\n",
            "137 validation examples\n"
          ]
        }
      ]
    },
    {
      "cell_type": "code",
      "source": [
        "def df_to_dataset(dataframe, shuffle=True, batch_size=32):\n",
        "    dataframe = dataframe.copy()\n",
        "    labels = dataframe.pop('salary')\n",
        "    ds = tf.data.Dataset.from_tensor_slices((dict(dataframe), labels))\n",
        "    if shuffle:\n",
        "      ds = ds.shuffle(buffer_size=len(dataframe))\n",
        "    ds = ds.batch(batch_size)\n",
        "    return ds\n",
        "\n",
        "train_ds = df_to_dataset(train, batch_size=32)\n",
        "eval_ds = df_to_dataset(train, batch_size=32, shuffle=True)"
      ],
      "metadata": {
        "id": "FbjuD0nGg2lz"
      },
      "execution_count": 333,
      "outputs": []
    },
    {
      "cell_type": "code",
      "source": [
        "for feature_batch, label_batch in train_ds.take(1):\n",
        "  feature_column_keys = list(feature_batch.keys())\n",
        "  print('Every feature:', feature_column_keys)"
      ],
      "metadata": {
        "id": "ky-qm-mwg9Vg",
        "outputId": "8dd1f61b-1a75-4d36-cfb5-b57b6630700d",
        "colab": {
          "base_uri": "https://localhost:8080/"
        }
      },
      "execution_count": 334,
      "outputs": [
        {
          "output_type": "stream",
          "name": "stdout",
          "text": [
            "Every feature: ['years_experience', 'company_size_xf', 'remote_xf', 'supervisor_xf', 'personal_projects_xf', 'sex_xf', 'education_xf', 'relevant_xf', 'devtype_Gaming', 'devtype_Frontend', 'devtype_Cybersecurity', 'devtype_DevOps', 'devtype_Embedded', 'devtype_BI', 'devtype_unk', 'devtype_AI/ML', 'devtype_Desktopapps', 'devtype_Mobileapps', 'devtype_Backend', 'languages_JavaScript', 'languages_Python', 'languages_TypeScript', 'languages_SQL', 'languages_C', 'languages_Swift', 'languages_unk', 'languages_Bash', 'languages_Ruby', 'languages_Go', 'languages_PHP', 'languages_Kotlin', 'languages_Java', 'languages_Csharp', 'languages_Cpp']\n"
          ]
        }
      ]
    },
    {
      "cell_type": "code",
      "source": [
        "feature_columns = []\n",
        "\n",
        "numeric_features = [x for x in feature_column_keys if ('devtype_' in x or 'languages_' in x or 'years_experience' in x)]\n",
        "categorical_features = [x for x in feature_column_keys if '_xf' in x]\n",
        "\n",
        "for feature in numeric_features:\n",
        "    feature_columns.append(feature_column.numeric_column(feature))\n",
        "\n",
        "for feature in categorical_features:\n",
        "    categorical_column = feature_column.categorical_column_with_vocabulary_list(\n",
        "      feature, pd.unique(dataframe[feature].values))\n",
        "\n",
        "    feature_columns.append(feature_column.indicator_column(categorical_column))\n",
        "\n",
        "print(feature_columns)"
      ],
      "metadata": {
        "id": "oTKmYnRuhALW",
        "outputId": "201baa0e-427f-484a-f4d5-3377fdfddabc",
        "colab": {
          "base_uri": "https://localhost:8080/"
        }
      },
      "execution_count": 335,
      "outputs": [
        {
          "output_type": "stream",
          "name": "stdout",
          "text": [
            "[NumericColumn(key='years_experience', shape=(1,), default_value=None, dtype=tf.float32, normalizer_fn=None), NumericColumn(key='devtype_Gaming', shape=(1,), default_value=None, dtype=tf.float32, normalizer_fn=None), NumericColumn(key='devtype_Frontend', shape=(1,), default_value=None, dtype=tf.float32, normalizer_fn=None), NumericColumn(key='devtype_Cybersecurity', shape=(1,), default_value=None, dtype=tf.float32, normalizer_fn=None), NumericColumn(key='devtype_DevOps', shape=(1,), default_value=None, dtype=tf.float32, normalizer_fn=None), NumericColumn(key='devtype_Embedded', shape=(1,), default_value=None, dtype=tf.float32, normalizer_fn=None), NumericColumn(key='devtype_BI', shape=(1,), default_value=None, dtype=tf.float32, normalizer_fn=None), NumericColumn(key='devtype_unk', shape=(1,), default_value=None, dtype=tf.float32, normalizer_fn=None), NumericColumn(key='devtype_AI/ML', shape=(1,), default_value=None, dtype=tf.float32, normalizer_fn=None), NumericColumn(key='devtype_Desktopapps', shape=(1,), default_value=None, dtype=tf.float32, normalizer_fn=None), NumericColumn(key='devtype_Mobileapps', shape=(1,), default_value=None, dtype=tf.float32, normalizer_fn=None), NumericColumn(key='devtype_Backend', shape=(1,), default_value=None, dtype=tf.float32, normalizer_fn=None), NumericColumn(key='languages_JavaScript', shape=(1,), default_value=None, dtype=tf.float32, normalizer_fn=None), NumericColumn(key='languages_Python', shape=(1,), default_value=None, dtype=tf.float32, normalizer_fn=None), NumericColumn(key='languages_TypeScript', shape=(1,), default_value=None, dtype=tf.float32, normalizer_fn=None), NumericColumn(key='languages_SQL', shape=(1,), default_value=None, dtype=tf.float32, normalizer_fn=None), NumericColumn(key='languages_C', shape=(1,), default_value=None, dtype=tf.float32, normalizer_fn=None), NumericColumn(key='languages_Swift', shape=(1,), default_value=None, dtype=tf.float32, normalizer_fn=None), NumericColumn(key='languages_unk', shape=(1,), default_value=None, dtype=tf.float32, normalizer_fn=None), NumericColumn(key='languages_Bash', shape=(1,), default_value=None, dtype=tf.float32, normalizer_fn=None), NumericColumn(key='languages_Ruby', shape=(1,), default_value=None, dtype=tf.float32, normalizer_fn=None), NumericColumn(key='languages_Go', shape=(1,), default_value=None, dtype=tf.float32, normalizer_fn=None), NumericColumn(key='languages_PHP', shape=(1,), default_value=None, dtype=tf.float32, normalizer_fn=None), NumericColumn(key='languages_Kotlin', shape=(1,), default_value=None, dtype=tf.float32, normalizer_fn=None), NumericColumn(key='languages_Java', shape=(1,), default_value=None, dtype=tf.float32, normalizer_fn=None), NumericColumn(key='languages_Csharp', shape=(1,), default_value=None, dtype=tf.float32, normalizer_fn=None), NumericColumn(key='languages_Cpp', shape=(1,), default_value=None, dtype=tf.float32, normalizer_fn=None), IndicatorColumn(categorical_column=VocabularyListCategoricalColumn(key='company_size_xf', vocabulary_list=('501+', '201 - 500', '1 - 10', '51 - 100', '11 - 50', '101 - 200'), dtype=tf.string, default_value=-1, num_oov_buckets=0)), IndicatorColumn(categorical_column=VocabularyListCategoricalColumn(key='remote_xf', vocabulary_list=('Και τα δύο', 'Απομακρυσμένα', 'Στον χώρο του εργοδότη'), dtype=tf.string, default_value=-1, num_oov_buckets=0)), IndicatorColumn(categorical_column=VocabularyListCategoricalColumn(key='supervisor_xf', vocabulary_list=('Όχι', 'Ναι'), dtype=tf.string, default_value=-1, num_oov_buckets=0)), IndicatorColumn(categorical_column=VocabularyListCategoricalColumn(key='personal_projects_xf', vocabulary_list=('Ναι', 'Όχι'), dtype=tf.string, default_value=-1, num_oov_buckets=0)), IndicatorColumn(categorical_column=VocabularyListCategoricalColumn(key='sex_xf', vocabulary_list=('Άντρας', 'Γυναίκα', 'Συκής :)'), dtype=tf.string, default_value=-1, num_oov_buckets=0)), IndicatorColumn(categorical_column=VocabularyListCategoricalColumn(key='education_xf', vocabulary_list=(\"Bachelor's\", 'Λύκειο', 'Master', 'ΙΕΚ', 'Χωρίς Δευτεροβάθμια Εκπαίδευση', 'PhD'), dtype=tf.string, default_value=-1, num_oov_buckets=0)), IndicatorColumn(categorical_column=VocabularyListCategoricalColumn(key='relevant_xf', vocabulary_list=('Ναι', 'Όχι', 'ΟΧΙ, σπούδασα Μηχανολόγος Μηχανικός', 'ΣΕΜΦΕ', 'Έμμεσα', 'Σπουδάζω Μηχανικος Βιομηχανικης Σχεδιασης και Παραγωγης, ειναι σχολη εφαρμοργων αρα εν μερη σχετιζεται.', 'Ηλεκτρονικός', 'Διοίκηση Επιχειρήσεων', 'Mathematics', 'ΧΗΜΕΙΑ', 'MATHEMATICS ', 'Φυσικής', 'Στατιστική', 'Economics', 'Παιδαγωγικά ', 'Μηχανολόγος Μηχανικός', 'Φυσική', 'Ηλεκτρολόγος Μηχανικός', 'Μηχανικών Παραγωγής και Διοικησης', 'civil engineering', 'Ηλεκτρολογία', 'History & Philosophy of Science', 'Οικονομικά', 'ΌΧΙ', 'Νευροεπιστήμη', 'ΗΛΕΚΤΡΟΝΙΚΟΣ ΜΗΧΑΝΙΚΟΣ', 'Επιστήμη και Τεχνολογία Υλικών', 'Αρχιτεκτονική', 'Χημικός Μηχανικός', 'Μαθηματικό', 'Business Administration', 'είμαι ακόμα φοιτητής', 'Διοίκηση επιχειρήσεων', 'Τεχνολογία Τροφίμων', 'Πολιτικός μηχανικός - Master πληροφορική ', 'Μηχανολόγων & Αεροναυπηγών Μηχανικών', 'Ηλεκτρονικός μηχανικός', 'Βιομηχανική Διοίκηση', 'ΟΙΚΟΝΟΜΙΚΉ ΚΑΙ ΠΕΡΙΦΕΡΕΙΑΚΗ ΑΝΆΠΤΥΞΗ ', 'Μεταπτυχιακο ναι', 'Chemical Engineering', 'Φυσικό', 'Physics (BS) / Business Analytics (MSc)', 'Μηχανολόγος μηχανικός ', 'Πολιτικος μηχανικος ΑΠΘ', 'Μαθηματικός', 'ΤΕΙ Αυτοματισμου', 'Διοίκηση επιχειρήσεων ', 'Φωτογραφία ', 'Hmmy', 'Ναι αλλά είμαι ακόμα φοιτητής', 'Ναυπηγός Μηχανολόγος Μηχανικός', 'Τεχνικός Υπολογιστών', 'Μαθηματικά', 'Παιδαγωγικο', 'Bioinformatics ', 'ΟΧΙ', 'Business administration', 'Music Technology', 'Στατιστική και Ασφαλιστική Επιστήμη ', 'οικονομικά ', 'Civil Engineering with Computing', 'Πολιτικός Μηχανικός', 'Agriculture engineering ', 'Non related', 'Business Administration, λίγα μαθήματα είχε για IT', 'OIKONOMIKA', 'BA OF FINE ARTS', 'Πολιτικός Μηχανικός ', 'Naval Architect'), dtype=tf.string, default_value=-1, num_oov_buckets=0))]\n"
          ]
        }
      ]
    },
    {
      "cell_type": "code",
      "source": [
        "feature_layer = tf.keras.layers.DenseFeatures(feature_columns)\n",
        "\n",
        "model = tf.keras.Sequential([\n",
        "  feature_layer,\n",
        "  layers.Dense(8, activation='relu'),  \n",
        "  layers.Dense(1)\n",
        "])\n",
        "\n",
        "model.compile(optimizer=tf.keras.optimizers.SGD(momentum=0.9),\n",
        "              loss='mae',\n",
        "              metrics=['mae'])\n",
        "\n",
        "callbacks = [\n",
        "    tf.keras.callbacks.EarlyStopping(patience=2),\n",
        "    tf.keras.callbacks.ModelCheckpoint(filepath='model.{epoch:02d}-{val_loss:.2f}.h5'),\n",
        "    tf.keras.callbacks.TensorBoard(log_dir='./logs'),\n",
        "]\n",
        "print(train_ds)\n",
        "model.fit(train_ds,\n",
        "          validation_data=eval_ds,\n",
        "          epochs=100,\n",
        "          callbacks=callbacks)"
      ],
      "metadata": {
        "id": "AcKwFaXjhB8M",
        "outputId": "cf44a854-3bc2-4ad3-fffb-236154f82fb1",
        "colab": {
          "base_uri": "https://localhost:8080/"
        }
      },
      "execution_count": 341,
      "outputs": [
        {
          "output_type": "stream",
          "name": "stdout",
          "text": [
            "<_BatchDataset element_spec=({'years_experience': TensorSpec(shape=(None,), dtype=tf.int64, name=None), 'company_size_xf': TensorSpec(shape=(None,), dtype=tf.string, name=None), 'remote_xf': TensorSpec(shape=(None,), dtype=tf.string, name=None), 'supervisor_xf': TensorSpec(shape=(None,), dtype=tf.string, name=None), 'personal_projects_xf': TensorSpec(shape=(None,), dtype=tf.string, name=None), 'sex_xf': TensorSpec(shape=(None,), dtype=tf.string, name=None), 'education_xf': TensorSpec(shape=(None,), dtype=tf.string, name=None), 'relevant_xf': TensorSpec(shape=(None,), dtype=tf.string, name=None), 'devtype_Gaming': TensorSpec(shape=(None,), dtype=tf.int32, name=None), 'devtype_Frontend': TensorSpec(shape=(None,), dtype=tf.int32, name=None), 'devtype_Cybersecurity': TensorSpec(shape=(None,), dtype=tf.int32, name=None), 'devtype_DevOps': TensorSpec(shape=(None,), dtype=tf.int32, name=None), 'devtype_Embedded': TensorSpec(shape=(None,), dtype=tf.int32, name=None), 'devtype_BI': TensorSpec(shape=(None,), dtype=tf.int32, name=None), 'devtype_unk': TensorSpec(shape=(None,), dtype=tf.int32, name=None), 'devtype_AI/ML': TensorSpec(shape=(None,), dtype=tf.int32, name=None), 'devtype_Desktopapps': TensorSpec(shape=(None,), dtype=tf.int32, name=None), 'devtype_Mobileapps': TensorSpec(shape=(None,), dtype=tf.int32, name=None), 'devtype_Backend': TensorSpec(shape=(None,), dtype=tf.int32, name=None), 'languages_JavaScript': TensorSpec(shape=(None,), dtype=tf.int32, name=None), 'languages_Python': TensorSpec(shape=(None,), dtype=tf.int32, name=None), 'languages_TypeScript': TensorSpec(shape=(None,), dtype=tf.int32, name=None), 'languages_SQL': TensorSpec(shape=(None,), dtype=tf.int32, name=None), 'languages_C': TensorSpec(shape=(None,), dtype=tf.int32, name=None), 'languages_Swift': TensorSpec(shape=(None,), dtype=tf.int32, name=None), 'languages_unk': TensorSpec(shape=(None,), dtype=tf.int32, name=None), 'languages_Bash': TensorSpec(shape=(None,), dtype=tf.int32, name=None), 'languages_Ruby': TensorSpec(shape=(None,), dtype=tf.int32, name=None), 'languages_Go': TensorSpec(shape=(None,), dtype=tf.int32, name=None), 'languages_PHP': TensorSpec(shape=(None,), dtype=tf.int32, name=None), 'languages_Kotlin': TensorSpec(shape=(None,), dtype=tf.int32, name=None), 'languages_Java': TensorSpec(shape=(None,), dtype=tf.int32, name=None), 'languages_Csharp': TensorSpec(shape=(None,), dtype=tf.int32, name=None), 'languages_Cpp': TensorSpec(shape=(None,), dtype=tf.int32, name=None)}, TensorSpec(shape=(None,), dtype=tf.int32, name=None))>\n",
            "Epoch 1/100\n"
          ]
        },
        {
          "output_type": "stream",
          "name": "stderr",
          "text": [
            "WARNING:tensorflow:Layers in a Sequential model should only have a single input tensor. Received: inputs={'years_experience': <tf.Tensor 'IteratorGetNext:33' shape=(None,) dtype=int64>, 'company_size_xf': <tf.Tensor 'IteratorGetNext:0' shape=(None,) dtype=string>, 'remote_xf': <tf.Tensor 'IteratorGetNext:30' shape=(None,) dtype=string>, 'supervisor_xf': <tf.Tensor 'IteratorGetNext:32' shape=(None,) dtype=string>, 'personal_projects_xf': <tf.Tensor 'IteratorGetNext:28' shape=(None,) dtype=string>, 'sex_xf': <tf.Tensor 'IteratorGetNext:31' shape=(None,) dtype=string>, 'education_xf': <tf.Tensor 'IteratorGetNext:12' shape=(None,) dtype=string>, 'relevant_xf': <tf.Tensor 'IteratorGetNext:29' shape=(None,) dtype=string>, 'devtype_Gaming': <tf.Tensor 'IteratorGetNext:9' shape=(None,) dtype=int32>, 'devtype_Frontend': <tf.Tensor 'IteratorGetNext:8' shape=(None,) dtype=int32>, 'devtype_Cybersecurity': <tf.Tensor 'IteratorGetNext:4' shape=(None,) dtype=int32>, 'devtype_DevOps': <tf.Tensor 'IteratorGetNext:6' shape=(None,) dtype=int32>, 'devtype_Embedded': <tf.Tensor 'IteratorGetNext:7' shape=(None,) dtype=int32>, 'devtype_BI': <tf.Tensor 'IteratorGetNext:2' shape=(None,) dtype=int32>, 'devtype_unk': <tf.Tensor 'IteratorGetNext:11' shape=(None,) dtype=int32>, 'devtype_AI/ML': <tf.Tensor 'IteratorGetNext:1' shape=(None,) dtype=int32>, 'devtype_Desktopapps': <tf.Tensor 'IteratorGetNext:5' shape=(None,) dtype=int32>, 'devtype_Mobileapps': <tf.Tensor 'IteratorGetNext:10' shape=(None,) dtype=int32>, 'devtype_Backend': <tf.Tensor 'IteratorGetNext:3' shape=(None,) dtype=int32>, 'languages_JavaScript': <tf.Tensor 'IteratorGetNext:19' shape=(None,) dtype=int32>, 'languages_Python': <tf.Tensor 'IteratorGetNext:22' shape=(None,) dtype=int32>, 'languages_TypeScript': <tf.Tensor 'IteratorGetNext:26' shape=(None,) dtype=int32>, 'languages_SQL': <tf.Tensor 'IteratorGetNext:24' shape=(None,) dtype=int32>, 'languages_C': <tf.Tensor 'IteratorGetNext:14' shape=(None,) dtype=int32>, 'languages_Swift': <tf.Tensor 'IteratorGetNext:25' shape=(None,) dtype=int32>, 'languages_unk': <tf.Tensor 'IteratorGetNext:27' shape=(None,) dtype=int32>, 'languages_Bash': <tf.Tensor 'IteratorGetNext:13' shape=(None,) dtype=int32>, 'languages_Ruby': <tf.Tensor 'IteratorGetNext:23' shape=(None,) dtype=int32>, 'languages_Go': <tf.Tensor 'IteratorGetNext:17' shape=(None,) dtype=int32>, 'languages_PHP': <tf.Tensor 'IteratorGetNext:21' shape=(None,) dtype=int32>, 'languages_Kotlin': <tf.Tensor 'IteratorGetNext:20' shape=(None,) dtype=int32>, 'languages_Java': <tf.Tensor 'IteratorGetNext:18' shape=(None,) dtype=int32>, 'languages_Csharp': <tf.Tensor 'IteratorGetNext:16' shape=(None,) dtype=int32>, 'languages_Cpp': <tf.Tensor 'IteratorGetNext:15' shape=(None,) dtype=int32>}. Consider rewriting this model with the Functional API.\n",
            "WARNING:tensorflow:Layers in a Sequential model should only have a single input tensor. Received: inputs={'years_experience': <tf.Tensor 'IteratorGetNext:33' shape=(None,) dtype=int64>, 'company_size_xf': <tf.Tensor 'IteratorGetNext:0' shape=(None,) dtype=string>, 'remote_xf': <tf.Tensor 'IteratorGetNext:30' shape=(None,) dtype=string>, 'supervisor_xf': <tf.Tensor 'IteratorGetNext:32' shape=(None,) dtype=string>, 'personal_projects_xf': <tf.Tensor 'IteratorGetNext:28' shape=(None,) dtype=string>, 'sex_xf': <tf.Tensor 'IteratorGetNext:31' shape=(None,) dtype=string>, 'education_xf': <tf.Tensor 'IteratorGetNext:12' shape=(None,) dtype=string>, 'relevant_xf': <tf.Tensor 'IteratorGetNext:29' shape=(None,) dtype=string>, 'devtype_Gaming': <tf.Tensor 'IteratorGetNext:9' shape=(None,) dtype=int32>, 'devtype_Frontend': <tf.Tensor 'IteratorGetNext:8' shape=(None,) dtype=int32>, 'devtype_Cybersecurity': <tf.Tensor 'IteratorGetNext:4' shape=(None,) dtype=int32>, 'devtype_DevOps': <tf.Tensor 'IteratorGetNext:6' shape=(None,) dtype=int32>, 'devtype_Embedded': <tf.Tensor 'IteratorGetNext:7' shape=(None,) dtype=int32>, 'devtype_BI': <tf.Tensor 'IteratorGetNext:2' shape=(None,) dtype=int32>, 'devtype_unk': <tf.Tensor 'IteratorGetNext:11' shape=(None,) dtype=int32>, 'devtype_AI/ML': <tf.Tensor 'IteratorGetNext:1' shape=(None,) dtype=int32>, 'devtype_Desktopapps': <tf.Tensor 'IteratorGetNext:5' shape=(None,) dtype=int32>, 'devtype_Mobileapps': <tf.Tensor 'IteratorGetNext:10' shape=(None,) dtype=int32>, 'devtype_Backend': <tf.Tensor 'IteratorGetNext:3' shape=(None,) dtype=int32>, 'languages_JavaScript': <tf.Tensor 'IteratorGetNext:19' shape=(None,) dtype=int32>, 'languages_Python': <tf.Tensor 'IteratorGetNext:22' shape=(None,) dtype=int32>, 'languages_TypeScript': <tf.Tensor 'IteratorGetNext:26' shape=(None,) dtype=int32>, 'languages_SQL': <tf.Tensor 'IteratorGetNext:24' shape=(None,) dtype=int32>, 'languages_C': <tf.Tensor 'IteratorGetNext:14' shape=(None,) dtype=int32>, 'languages_Swift': <tf.Tensor 'IteratorGetNext:25' shape=(None,) dtype=int32>, 'languages_unk': <tf.Tensor 'IteratorGetNext:27' shape=(None,) dtype=int32>, 'languages_Bash': <tf.Tensor 'IteratorGetNext:13' shape=(None,) dtype=int32>, 'languages_Ruby': <tf.Tensor 'IteratorGetNext:23' shape=(None,) dtype=int32>, 'languages_Go': <tf.Tensor 'IteratorGetNext:17' shape=(None,) dtype=int32>, 'languages_PHP': <tf.Tensor 'IteratorGetNext:21' shape=(None,) dtype=int32>, 'languages_Kotlin': <tf.Tensor 'IteratorGetNext:20' shape=(None,) dtype=int32>, 'languages_Java': <tf.Tensor 'IteratorGetNext:18' shape=(None,) dtype=int32>, 'languages_Csharp': <tf.Tensor 'IteratorGetNext:16' shape=(None,) dtype=int32>, 'languages_Cpp': <tf.Tensor 'IteratorGetNext:15' shape=(None,) dtype=int32>}. Consider rewriting this model with the Functional API.\n"
          ]
        },
        {
          "output_type": "stream",
          "name": "stdout",
          "text": [
            "\r 1/17 [>.............................] - ETA: 16s - loss: 17734.1445 - mae: 17734.1445"
          ]
        },
        {
          "output_type": "stream",
          "name": "stderr",
          "text": [
            "WARNING:tensorflow:Layers in a Sequential model should only have a single input tensor. Received: inputs={'years_experience': <tf.Tensor 'IteratorGetNext:33' shape=(None,) dtype=int64>, 'company_size_xf': <tf.Tensor 'IteratorGetNext:0' shape=(None,) dtype=string>, 'remote_xf': <tf.Tensor 'IteratorGetNext:30' shape=(None,) dtype=string>, 'supervisor_xf': <tf.Tensor 'IteratorGetNext:32' shape=(None,) dtype=string>, 'personal_projects_xf': <tf.Tensor 'IteratorGetNext:28' shape=(None,) dtype=string>, 'sex_xf': <tf.Tensor 'IteratorGetNext:31' shape=(None,) dtype=string>, 'education_xf': <tf.Tensor 'IteratorGetNext:12' shape=(None,) dtype=string>, 'relevant_xf': <tf.Tensor 'IteratorGetNext:29' shape=(None,) dtype=string>, 'devtype_Gaming': <tf.Tensor 'IteratorGetNext:9' shape=(None,) dtype=int32>, 'devtype_Frontend': <tf.Tensor 'IteratorGetNext:8' shape=(None,) dtype=int32>, 'devtype_Cybersecurity': <tf.Tensor 'IteratorGetNext:4' shape=(None,) dtype=int32>, 'devtype_DevOps': <tf.Tensor 'IteratorGetNext:6' shape=(None,) dtype=int32>, 'devtype_Embedded': <tf.Tensor 'IteratorGetNext:7' shape=(None,) dtype=int32>, 'devtype_BI': <tf.Tensor 'IteratorGetNext:2' shape=(None,) dtype=int32>, 'devtype_unk': <tf.Tensor 'IteratorGetNext:11' shape=(None,) dtype=int32>, 'devtype_AI/ML': <tf.Tensor 'IteratorGetNext:1' shape=(None,) dtype=int32>, 'devtype_Desktopapps': <tf.Tensor 'IteratorGetNext:5' shape=(None,) dtype=int32>, 'devtype_Mobileapps': <tf.Tensor 'IteratorGetNext:10' shape=(None,) dtype=int32>, 'devtype_Backend': <tf.Tensor 'IteratorGetNext:3' shape=(None,) dtype=int32>, 'languages_JavaScript': <tf.Tensor 'IteratorGetNext:19' shape=(None,) dtype=int32>, 'languages_Python': <tf.Tensor 'IteratorGetNext:22' shape=(None,) dtype=int32>, 'languages_TypeScript': <tf.Tensor 'IteratorGetNext:26' shape=(None,) dtype=int32>, 'languages_SQL': <tf.Tensor 'IteratorGetNext:24' shape=(None,) dtype=int32>, 'languages_C': <tf.Tensor 'IteratorGetNext:14' shape=(None,) dtype=int32>, 'languages_Swift': <tf.Tensor 'IteratorGetNext:25' shape=(None,) dtype=int32>, 'languages_unk': <tf.Tensor 'IteratorGetNext:27' shape=(None,) dtype=int32>, 'languages_Bash': <tf.Tensor 'IteratorGetNext:13' shape=(None,) dtype=int32>, 'languages_Ruby': <tf.Tensor 'IteratorGetNext:23' shape=(None,) dtype=int32>, 'languages_Go': <tf.Tensor 'IteratorGetNext:17' shape=(None,) dtype=int32>, 'languages_PHP': <tf.Tensor 'IteratorGetNext:21' shape=(None,) dtype=int32>, 'languages_Kotlin': <tf.Tensor 'IteratorGetNext:20' shape=(None,) dtype=int32>, 'languages_Java': <tf.Tensor 'IteratorGetNext:18' shape=(None,) dtype=int32>, 'languages_Csharp': <tf.Tensor 'IteratorGetNext:16' shape=(None,) dtype=int32>, 'languages_Cpp': <tf.Tensor 'IteratorGetNext:15' shape=(None,) dtype=int32>}. Consider rewriting this model with the Functional API.\n"
          ]
        },
        {
          "output_type": "stream",
          "name": "stdout",
          "text": [
            "\b\b\b\b\b\b\b\b\b\b\b\b\b\b\b\b\b\b\b\b\b\b\b\b\b\b\b\b\b\b\b\b\b\b\b\b\b\b\b\b\b\b\b\b\b\b\b\b\b\b\b\b\b\b\b\b\b\b\b\b\b\b\b\b\b\b\b\b\b\b\b\b\b\b\b\b\b\b\b\b\b\b\b\b\b\b\r17/17 [==============================] - 2s 33ms/step - loss: 22815.9902 - mae: 22815.9902 - val_loss: 22668.2617 - val_mae: 22668.2617\n",
            "Epoch 2/100\n",
            "17/17 [==============================] - 0s 6ms/step - loss: 18287.0234 - mae: 18287.0234 - val_loss: 15183.8438 - val_mae: 15183.8438\n",
            "Epoch 3/100\n",
            "17/17 [==============================] - 0s 7ms/step - loss: 12059.7793 - mae: 12059.7793 - val_loss: 13125.9062 - val_mae: 13125.9062\n",
            "Epoch 4/100\n",
            "17/17 [==============================] - 0s 9ms/step - loss: 10910.6816 - mae: 10910.6816 - val_loss: 9272.1357 - val_mae: 9272.1357\n",
            "Epoch 5/100\n",
            "17/17 [==============================] - 0s 8ms/step - loss: 9312.0713 - mae: 9312.0713 - val_loss: 9083.6494 - val_mae: 9083.6494\n",
            "Epoch 6/100\n",
            "17/17 [==============================] - 0s 7ms/step - loss: 8882.5303 - mae: 8882.5303 - val_loss: 8882.6221 - val_mae: 8882.6221\n",
            "Epoch 7/100\n",
            "17/17 [==============================] - 0s 7ms/step - loss: 8982.4336 - mae: 8982.4336 - val_loss: 8648.8975 - val_mae: 8648.8975\n",
            "Epoch 8/100\n",
            "17/17 [==============================] - 0s 8ms/step - loss: 8796.0195 - mae: 8796.0195 - val_loss: 8674.7793 - val_mae: 8674.7793\n",
            "Epoch 9/100\n",
            "17/17 [==============================] - 0s 8ms/step - loss: 8745.2920 - mae: 8745.2920 - val_loss: 8660.9707 - val_mae: 8660.9707\n"
          ]
        },
        {
          "output_type": "execute_result",
          "data": {
            "text/plain": [
              "<keras.callbacks.History at 0x7efec6fa0eb0>"
            ]
          },
          "metadata": {},
          "execution_count": 341
        }
      ]
    },
    {
      "cell_type": "code",
      "source": [
        "input = {\n",
        "    'years_experience': 1,\n",
        "    'company_size_xf': '11-50',\n",
        "    'education_xf': \"Bachelor's\",\n",
        "    'relevant_xf': \"Ναι\",\n",
        "    'personal_projects_xf': 'Ναι',\n",
        "    'remote_xf': 'Και τα δύο',\n",
        "    'supervisor_xf': 'Ναι',\n",
        "    'sex_xf': 'Άντρας',\n",
        "    'devtype_Backend': 1 ,              \n",
        "    'devtype_Desktopapps': 0,         \n",
        "    'devtype_DevOps': 1,            \n",
        "    'devtype_AI/ML': 0 ,       \n",
        "    'devtype_BI': 0 ,\n",
        "    'devtype_Cybersecurity': 0,\n",
        "    'devtype_Embedded': 0,\n",
        "    'devtype_Gaming': 0,                     \n",
        "    'devtype_unk': 0,   \n",
        "    'devtype_Frontend': 1,        \n",
        "    'devtype_Mobileapps': 0,           \n",
        "    'languages_C': 0 ,\n",
        "    'languages_SQL': 0,              \n",
        "    'languages_PHP': 0 ,             \n",
        "    'languages_JavaScript': 1 ,         \n",
        "    'languages_Kotlin' : 0 ,\n",
        "    'languages_TypeScript' : 0,              \n",
        "    'languages_Python': 1 ,            \n",
        "    'languages_Ruby': 0 ,               \n",
        "    'languages_Bash': 0,             \n",
        "    'languages_Go': 0 ,             \n",
        "    'languages_Java': 0 ,            \n",
        "    'languages_Swift': 0 ,            \n",
        "    'languages_Csharp': 0 ,         \n",
        "    'languages_Cpp': 0 , \n",
        "    'languages_unk': 0 # any language that is not used above ?                \n",
        "}\n",
        "\n",
        "input = {k: [v] for k, v in input.items()}\n",
        "\n",
        "prediction = model(input).numpy()[0][0]\n",
        "f'Βγάζεις: {prediction} ευρώ το χρόνο'"
      ],
      "metadata": {
        "id": "sOCTrzYphmL8",
        "outputId": "bb87a0f4-b7a0-4ba2-8965-50e4d7125ec5",
        "colab": {
          "base_uri": "https://localhost:8080/",
          "height": 74
        }
      },
      "execution_count": 345,
      "outputs": [
        {
          "output_type": "stream",
          "name": "stderr",
          "text": [
            "WARNING:tensorflow:Layers in a Sequential model should only have a single input tensor. Received: inputs={'years_experience': [<tf.Tensor: shape=(), dtype=int32, numpy=1>], 'company_size_xf': ['11-50'], 'education_xf': [\"Bachelor's\"], 'relevant_xf': ['Ναι'], 'personal_projects_xf': ['Ναι'], 'remote_xf': ['Και τα δύο'], 'supervisor_xf': ['Ναι'], 'sex_xf': ['Άντρας'], 'devtype_Backend': [<tf.Tensor: shape=(), dtype=int32, numpy=1>], 'devtype_Desktopapps': [<tf.Tensor: shape=(), dtype=int32, numpy=0>], 'devtype_DevOps': [<tf.Tensor: shape=(), dtype=int32, numpy=1>], 'devtype_AI/ML': [<tf.Tensor: shape=(), dtype=int32, numpy=0>], 'devtype_BI': [<tf.Tensor: shape=(), dtype=int32, numpy=0>], 'devtype_Cybersecurity': [<tf.Tensor: shape=(), dtype=int32, numpy=0>], 'devtype_Embedded': [<tf.Tensor: shape=(), dtype=int32, numpy=0>], 'devtype_Gaming': [<tf.Tensor: shape=(), dtype=int32, numpy=0>], 'devtype_unk': [<tf.Tensor: shape=(), dtype=int32, numpy=0>], 'devtype_Frontend': [<tf.Tensor: shape=(), dtype=int32, numpy=1>], 'devtype_Mobileapps': [<tf.Tensor: shape=(), dtype=int32, numpy=0>], 'languages_C': [<tf.Tensor: shape=(), dtype=int32, numpy=0>], 'languages_SQL': [<tf.Tensor: shape=(), dtype=int32, numpy=0>], 'languages_PHP': [<tf.Tensor: shape=(), dtype=int32, numpy=0>], 'languages_JavaScript': [<tf.Tensor: shape=(), dtype=int32, numpy=1>], 'languages_Kotlin': [<tf.Tensor: shape=(), dtype=int32, numpy=0>], 'languages_TypeScript': [<tf.Tensor: shape=(), dtype=int32, numpy=0>], 'languages_Python': [<tf.Tensor: shape=(), dtype=int32, numpy=1>], 'languages_Ruby': [<tf.Tensor: shape=(), dtype=int32, numpy=0>], 'languages_Bash': [<tf.Tensor: shape=(), dtype=int32, numpy=0>], 'languages_Go': [<tf.Tensor: shape=(), dtype=int32, numpy=0>], 'languages_Java': [<tf.Tensor: shape=(), dtype=int32, numpy=0>], 'languages_Swift': [<tf.Tensor: shape=(), dtype=int32, numpy=0>], 'languages_Csharp': [<tf.Tensor: shape=(), dtype=int32, numpy=0>], 'languages_Cpp': [<tf.Tensor: shape=(), dtype=int32, numpy=0>], 'languages_unk': [<tf.Tensor: shape=(), dtype=int32, numpy=0>]}. Consider rewriting this model with the Functional API.\n"
          ]
        },
        {
          "output_type": "execute_result",
          "data": {
            "text/plain": [
              "'Βγάζεις: 14720.2705078125 ευρώ το χρόνο'"
            ],
            "application/vnd.google.colaboratory.intrinsic+json": {
              "type": "string"
            }
          },
          "metadata": {},
          "execution_count": 345
        }
      ]
    }
  ]
}