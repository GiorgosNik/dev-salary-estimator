{
  "cells": [
    {
      "cell_type": "markdown",
      "metadata": {
        "colab_type": "text",
        "id": "view-in-github"
      },
      "source": [
        "<a href=\"https://colab.research.google.com/github/GiorgosNik/dev-salary-estimator/blob/main/salary_estimator.ipynb\" target=\"_parent\"><img src=\"https://colab.research.google.com/assets/colab-badge.svg\" alt=\"Open In Colab\"/></a>"
      ]
    },
    {
      "cell_type": "markdown",
      "metadata": {
        "id": "_K12Bkun-T0Z"
      },
      "source": [
        "# Imports"
      ]
    },
    {
      "cell_type": "code",
      "execution_count": 30,
      "metadata": {
        "id": "ZSFaceekf-a6"
      },
      "outputs": [
        {
          "name": "stdout",
          "output_type": "stream",
          "text": [
            "Note: you may need to restart the kernel to use updated packages.\n",
            "Note: you may need to restart the kernel to use updated packages.\n",
            "Note: you may need to restart the kernel to use updated packages.\n",
            "Note: you may need to restart the kernel to use updated packages.\n"
          ]
        }
      ],
      "source": [
        "%pip install -U -q PyDrive\n",
        "%pip install -U -q geocoder\n",
        "%pip install -U -q tqdm\n",
        "%pip install -U -q tensorflow"
      ]
    },
    {
      "cell_type": "code",
      "execution_count": 31,
      "metadata": {
        "id": "apXdmT4L8GOD"
      },
      "outputs": [],
      "source": [
        "import tensorflow as tf\n",
        "import pandas as pd\n",
        "import numpy as np\n",
        "from collections import Counter\n",
        "from geopy.geocoders import Nominatim\n",
        "from tqdm import tqdm\n",
        "from tensorflow import feature_column\n",
        "from tensorflow.keras import layers\n",
        "from sklearn.model_selection import train_test_split"
      ]
    },
    {
      "cell_type": "markdown",
      "metadata": {
        "id": "u6lmA34W-XqH"
      },
      "source": [
        "# Import and Format Data"
      ]
    },
    {
      "attachments": {},
      "cell_type": "markdown",
      "metadata": {
        "id": "bb3MZdj5kHiy"
      },
      "source": [
        "## Data Import from GitHub repo\n",
        "The retrieved .csv file is stored in a pandas df."
      ]
    },
    {
      "cell_type": "code",
      "execution_count": 32,
      "metadata": {
        "id": "M_B51PCL9fiR"
      },
      "outputs": [],
      "source": [
        "# Retrieve the dataset csv from GitHub\n",
        "csv_url = \"https://raw.githubusercontent.com/GiorgosNik/dev-salary-estimator/main/salary_data_2022.csv\"\n",
        "file_path = tf.keras.utils.get_file(\"salary_report\", csv_url)\n",
        "df = pd.read_csv(file_path)\n"
      ]
    },
    {
      "cell_type": "code",
      "execution_count": 33,
      "metadata": {
        "id": "q4PV5g-79-AY"
      },
      "outputs": [
        {
          "name": "stdout",
          "output_type": "stream",
          "text": [
            "The dataset contains 807 salary entries\n"
          ]
        },
        {
          "data": {
            "text/html": [
              "<div>\n",
              "<style scoped>\n",
              "    .dataframe tbody tr th:only-of-type {\n",
              "        vertical-align: middle;\n",
              "    }\n",
              "\n",
              "    .dataframe tbody tr th {\n",
              "        vertical-align: top;\n",
              "    }\n",
              "\n",
              "    .dataframe thead th {\n",
              "        text-align: right;\n",
              "    }\n",
              "</style>\n",
              "<table border=\"1\" class=\"dataframe\">\n",
              "  <thead>\n",
              "    <tr style=\"text-align: right;\">\n",
              "      <th></th>\n",
              "      <th>devtype</th>\n",
              "      <th>languages</th>\n",
              "      <th>years_experience</th>\n",
              "      <th>personal_projects</th>\n",
              "      <th>sex</th>\n",
              "      <th>remote</th>\n",
              "      <th>city_residence</th>\n",
              "      <th>city_work</th>\n",
              "      <th>company_size</th>\n",
              "      <th>supervisor</th>\n",
              "      <th>education</th>\n",
              "      <th>relevant</th>\n",
              "      <th>salary</th>\n",
              "    </tr>\n",
              "  </thead>\n",
              "  <tbody>\n",
              "    <tr>\n",
              "      <th>0</th>\n",
              "      <td>Backend, Frontend</td>\n",
              "      <td>JavaScript, PHP</td>\n",
              "      <td>13</td>\n",
              "      <td>Ναι</td>\n",
              "      <td>Άντρας</td>\n",
              "      <td>Και τα δύο</td>\n",
              "      <td>Αθήνα</td>\n",
              "      <td>Αθήνα</td>\n",
              "      <td>501+</td>\n",
              "      <td>Όχι</td>\n",
              "      <td>Bachelor's</td>\n",
              "      <td>Ναι</td>\n",
              "      <td>39361.0</td>\n",
              "    </tr>\n",
              "    <tr>\n",
              "      <th>1</th>\n",
              "      <td>Backend, Frontend</td>\n",
              "      <td>JavaScript</td>\n",
              "      <td>7</td>\n",
              "      <td>Ναι</td>\n",
              "      <td>Άντρας</td>\n",
              "      <td>Απομακρυσμένα</td>\n",
              "      <td>Αθήνα</td>\n",
              "      <td>Αθήνα</td>\n",
              "      <td>201 - 500</td>\n",
              "      <td>Όχι</td>\n",
              "      <td>Bachelor's</td>\n",
              "      <td>Ναι</td>\n",
              "      <td>30142.0</td>\n",
              "    </tr>\n",
              "  </tbody>\n",
              "</table>\n",
              "</div>"
            ],
            "text/plain": [
              "             devtype        languages  years_experience personal_projects   \n",
              "0  Backend, Frontend  JavaScript, PHP                13               Ναι  \\\n",
              "1  Backend, Frontend       JavaScript                 7               Ναι   \n",
              "\n",
              "      sex         remote city_residence city_work company_size supervisor   \n",
              "0  Άντρας     Και τα δύο          Αθήνα     Αθήνα         501+        Όχι  \\\n",
              "1  Άντρας  Απομακρυσμένα          Αθήνα     Αθήνα    201 - 500        Όχι   \n",
              "\n",
              "    education relevant   salary  \n",
              "0  Bachelor's      Ναι  39361.0  \n",
              "1  Bachelor's      Ναι  30142.0  "
            ]
          },
          "execution_count": 33,
          "metadata": {},
          "output_type": "execute_result"
        }
      ],
      "source": [
        "df.columns = [\n",
        "    \"timestamp\",\n",
        "    \"devtype\",\n",
        "    \"languages\",\n",
        "    \"years_experience\",\n",
        "    \"personal_projects\",\n",
        "    \"sex\",\n",
        "    \"remote\",\n",
        "    \"city_residence\",\n",
        "    \"city_work\",\n",
        "    \"company_size\",\n",
        "    \"supervisor\",\n",
        "    \"education\",\n",
        "    \"relevant\",\n",
        "    \"salary\",\n",
        "]\n",
        "\n",
        "# Remove the timestamp as it is not relevant\n",
        "df = df.drop(columns=[\"timestamp\"])\n",
        "\n",
        "pd.options.mode.chained_assignment = None\n",
        "\n",
        "dataset_size = len(df)\n",
        "print(\"The dataset contains {} salary entries\".format(dataset_size))\n",
        "df.head(2)\n"
      ]
    },
    {
      "cell_type": "markdown",
      "metadata": {
        "id": "BasxDZwQmEhS"
      },
      "source": [
        "## Remove entries that contain very rare developer types or languages\n",
        "Entries that occur under 5 times are considered rare."
      ]
    },
    {
      "cell_type": "code",
      "execution_count": 34,
      "metadata": {
        "id": "3Oqupvawe4Mo"
      },
      "outputs": [],
      "source": [
        "UNK = \"unk\"\n",
        "\n",
        "\n",
        "def categorize_clean_columns(df, col_name, threshold):\n",
        "    df[col_name] = df[col_name].map(lambda x: x.replace(\" \", \"\").split(\",\"))\n",
        "    c = Counter([item for sublist in df[col_name].values for item in sublist])\n",
        "\n",
        "    map_to_unk = set([el for el in c.elements() if c[el] <= threshold])\n",
        "\n",
        "    def map_devtype_unk(arr):\n",
        "        def x_or_unk(x):\n",
        "            if x in map_to_unk:\n",
        "                return UNK\n",
        "            return x\n",
        "\n",
        "        return [x_or_unk(x) for x in arr]\n",
        "\n",
        "    df[col_name] = df[col_name].map(lambda x: map_devtype_unk(x))\n",
        "\n",
        "    def is_sole_unknown(arr):\n",
        "        return arr[0] == UNK and len(arr) == 1\n",
        "\n",
        "    return df[df[col_name].map(is_sole_unknown) == False]\n"
      ]
    },
    {
      "cell_type": "code",
      "execution_count": 35,
      "metadata": {
        "id": "hV5PbxCy1TfA"
      },
      "outputs": [],
      "source": [
        "def fix_devtype(dev_types):\n",
        "    return list(filter(lambda value: value != UNK, dev_types))\n",
        "\n",
        "\n",
        "def fix_languages(languages):\n",
        "    for i in range(len(languages)):\n",
        "        if languages[i] == \"Typescript\":\n",
        "            languages[i] = \"TypeScript\"\n",
        "        languages[i] = languages[i].strip()\n",
        "    return list(filter(lambda value: value != UNK, languages))\n"
      ]
    },
    {
      "cell_type": "code",
      "execution_count": 36,
      "metadata": {
        "id": "8g-DYWIni0y2"
      },
      "outputs": [
        {
          "name": "stdout",
          "output_type": "stream",
          "text": [
            "After removing rare entries, the dataset contains 737 entries.\n",
            "This is 70 less than the initial dataset.\n"
          ]
        }
      ],
      "source": [
        "df = categorize_clean_columns(df, \"devtype\", 5)\n",
        "df = categorize_clean_columns(df, \"languages\", 5)\n",
        "\n",
        "df[\"languages\"] = df[\"languages\"].map(lambda x: fix_languages(x))\n",
        "df[\"devtype\"] = df[\"devtype\"].map(lambda x: fix_devtype(x))\n",
        "\n",
        "df = df[df[\"languages\"].map(lambda d: len(d)) > 0]\n",
        "df[df[\"devtype\"].map(lambda d: len(d)) > 0]\n",
        "\n",
        "print(\"After removing rare entries, the dataset contains {} entries.\".format(len(df)))\n",
        "print(\"This is {} less than the initial dataset.\".format(dataset_size - len(df)))\n"
      ]
    },
    {
      "cell_type": "markdown",
      "metadata": {
        "id": "Yw5o6JNzw4tt"
      },
      "source": [
        "## Fix Salary\n",
        "Normalize the salary input. Remove €/$ signs, commas and period signs.\n",
        "For values under 4000, consider the user gave a montly salary by mistake, and calculate the yearly salary by multiplying by 14 salaries.  "
      ]
    },
    {
      "cell_type": "code",
      "execution_count": 37,
      "metadata": {
        "id": "pE5kbqqzmhLC"
      },
      "outputs": [
        {
          "data": {
            "text/html": [
              "<div>\n",
              "<style scoped>\n",
              "    .dataframe tbody tr th:only-of-type {\n",
              "        vertical-align: middle;\n",
              "    }\n",
              "\n",
              "    .dataframe tbody tr th {\n",
              "        vertical-align: top;\n",
              "    }\n",
              "\n",
              "    .dataframe thead th {\n",
              "        text-align: right;\n",
              "    }\n",
              "</style>\n",
              "<table border=\"1\" class=\"dataframe\">\n",
              "  <thead>\n",
              "    <tr style=\"text-align: right;\">\n",
              "      <th></th>\n",
              "      <th>devtype</th>\n",
              "      <th>languages</th>\n",
              "      <th>years_experience</th>\n",
              "      <th>personal_projects</th>\n",
              "      <th>sex</th>\n",
              "      <th>remote</th>\n",
              "      <th>city_residence</th>\n",
              "      <th>city_work</th>\n",
              "      <th>company_size</th>\n",
              "      <th>supervisor</th>\n",
              "      <th>education</th>\n",
              "      <th>relevant</th>\n",
              "      <th>salary</th>\n",
              "    </tr>\n",
              "  </thead>\n",
              "  <tbody>\n",
              "    <tr>\n",
              "      <th>0</th>\n",
              "      <td>[Backend, Frontend]</td>\n",
              "      <td>[JavaScript, PHP]</td>\n",
              "      <td>13</td>\n",
              "      <td>Ναι</td>\n",
              "      <td>Άντρας</td>\n",
              "      <td>Και τα δύο</td>\n",
              "      <td>Αθήνα</td>\n",
              "      <td>Αθήνα</td>\n",
              "      <td>501+</td>\n",
              "      <td>Όχι</td>\n",
              "      <td>Bachelor's</td>\n",
              "      <td>Ναι</td>\n",
              "      <td>39361</td>\n",
              "    </tr>\n",
              "    <tr>\n",
              "      <th>1</th>\n",
              "      <td>[Backend, Frontend]</td>\n",
              "      <td>[JavaScript]</td>\n",
              "      <td>7</td>\n",
              "      <td>Ναι</td>\n",
              "      <td>Άντρας</td>\n",
              "      <td>Απομακρυσμένα</td>\n",
              "      <td>Αθήνα</td>\n",
              "      <td>Αθήνα</td>\n",
              "      <td>201 - 500</td>\n",
              "      <td>Όχι</td>\n",
              "      <td>Bachelor's</td>\n",
              "      <td>Ναι</td>\n",
              "      <td>30142</td>\n",
              "    </tr>\n",
              "    <tr>\n",
              "      <th>2</th>\n",
              "      <td>[Backend, Frontend, BI]</td>\n",
              "      <td>[Python, JavaScript, PHP]</td>\n",
              "      <td>1</td>\n",
              "      <td>Όχι</td>\n",
              "      <td>Άντρας</td>\n",
              "      <td>Απομακρυσμένα</td>\n",
              "      <td>Κέρκυρα</td>\n",
              "      <td>Κέρκυρα</td>\n",
              "      <td>1 - 10</td>\n",
              "      <td>Όχι</td>\n",
              "      <td>Bachelor's</td>\n",
              "      <td>Ναι</td>\n",
              "      <td>8450</td>\n",
              "    </tr>\n",
              "    <tr>\n",
              "      <th>3</th>\n",
              "      <td>[Backend]</td>\n",
              "      <td>[C#, JavaScript]</td>\n",
              "      <td>2</td>\n",
              "      <td>Όχι</td>\n",
              "      <td>Άντρας</td>\n",
              "      <td>Απομακρυσμένα</td>\n",
              "      <td>Edinburgh</td>\n",
              "      <td>Edinburgh</td>\n",
              "      <td>501+</td>\n",
              "      <td>Όχι</td>\n",
              "      <td>Master</td>\n",
              "      <td>Ναι</td>\n",
              "      <td>30551</td>\n",
              "    </tr>\n",
              "    <tr>\n",
              "      <th>4</th>\n",
              "      <td>[Mobileapps]</td>\n",
              "      <td>[Kotlin]</td>\n",
              "      <td>3</td>\n",
              "      <td>Ναι</td>\n",
              "      <td>Άντρας</td>\n",
              "      <td>Απομακρυσμένα</td>\n",
              "      <td>Αθήνα</td>\n",
              "      <td>Αθήνα</td>\n",
              "      <td>51 - 100</td>\n",
              "      <td>Ναι</td>\n",
              "      <td>Bachelor's</td>\n",
              "      <td>Ναι</td>\n",
              "      <td>20351</td>\n",
              "    </tr>\n",
              "  </tbody>\n",
              "</table>\n",
              "</div>"
            ],
            "text/plain": [
              "                   devtype                  languages  years_experience   \n",
              "0      [Backend, Frontend]          [JavaScript, PHP]                13  \\\n",
              "1      [Backend, Frontend]               [JavaScript]                 7   \n",
              "2  [Backend, Frontend, BI]  [Python, JavaScript, PHP]                 1   \n",
              "3                [Backend]           [C#, JavaScript]                 2   \n",
              "4             [Mobileapps]                   [Kotlin]                 3   \n",
              "\n",
              "  personal_projects     sex         remote city_residence  city_work   \n",
              "0               Ναι  Άντρας     Και τα δύο          Αθήνα      Αθήνα  \\\n",
              "1               Ναι  Άντρας  Απομακρυσμένα          Αθήνα      Αθήνα   \n",
              "2               Όχι  Άντρας  Απομακρυσμένα        Κέρκυρα    Κέρκυρα   \n",
              "3               Όχι  Άντρας  Απομακρυσμένα      Edinburgh  Edinburgh   \n",
              "4               Ναι  Άντρας  Απομακρυσμένα          Αθήνα      Αθήνα   \n",
              "\n",
              "  company_size supervisor   education relevant  salary  \n",
              "0         501+        Όχι  Bachelor's      Ναι   39361  \n",
              "1    201 - 500        Όχι  Bachelor's      Ναι   30142  \n",
              "2       1 - 10        Όχι  Bachelor's      Ναι    8450  \n",
              "3         501+        Όχι      Master      Ναι   30551  \n",
              "4     51 - 100        Ναι  Bachelor's      Ναι   20351  "
            ]
          },
          "execution_count": 37,
          "metadata": {},
          "output_type": "execute_result"
        }
      ],
      "source": [
        "def fix_salary(salary):\n",
        "    salary = salary.replace(\".\", \"\")\n",
        "    salary = salary.replace(\",\", \"\")\n",
        "    salary = salary.replace(\"€\", \"\")\n",
        "    salary = salary.replace(\"$\", \"\")\n",
        "    salary = int(salary)\n",
        "    if salary < 4000:\n",
        "        salary = salary * 14\n",
        "\n",
        "    return salary\n",
        "\n",
        "\n",
        "df[\"salary\"] = df[\"salary\"].map(lambda x: fix_salary(str(int(x)))).astype(\"int32\")\n",
        "df.head(5)\n"
      ]
    },
    {
      "cell_type": "markdown",
      "metadata": {
        "id": "ddsh8w5_yh7k"
      },
      "source": [
        "## Consider only results from Greece\n",
        "Using geopy, use the given city names to obtain the country of each response.\n",
        "Reject all values not relevant to Greece due to low sample size."
      ]
    },
    {
      "cell_type": "code",
      "execution_count": 38,
      "metadata": {
        "id": "oUCaylBYotjf"
      },
      "outputs": [
        {
          "name": "stderr",
          "output_type": "stream",
          "text": [
            "Formatting City Names: 100%|██████████| 83/83 [00:41<00:00,  2.00it/s]\n"
          ]
        },
        {
          "data": {
            "text/html": [
              "<div>\n",
              "<style scoped>\n",
              "    .dataframe tbody tr th:only-of-type {\n",
              "        vertical-align: middle;\n",
              "    }\n",
              "\n",
              "    .dataframe tbody tr th {\n",
              "        vertical-align: top;\n",
              "    }\n",
              "\n",
              "    .dataframe thead th {\n",
              "        text-align: right;\n",
              "    }\n",
              "</style>\n",
              "<table border=\"1\" class=\"dataframe\">\n",
              "  <thead>\n",
              "    <tr style=\"text-align: right;\">\n",
              "      <th></th>\n",
              "      <th>devtype</th>\n",
              "      <th>languages</th>\n",
              "      <th>years_experience</th>\n",
              "      <th>personal_projects</th>\n",
              "      <th>sex</th>\n",
              "      <th>remote</th>\n",
              "      <th>company_size</th>\n",
              "      <th>supervisor</th>\n",
              "      <th>education</th>\n",
              "      <th>relevant</th>\n",
              "      <th>salary</th>\n",
              "    </tr>\n",
              "  </thead>\n",
              "  <tbody>\n",
              "    <tr>\n",
              "      <th>0</th>\n",
              "      <td>[Backend, Frontend]</td>\n",
              "      <td>[JavaScript, PHP]</td>\n",
              "      <td>13</td>\n",
              "      <td>Ναι</td>\n",
              "      <td>Άντρας</td>\n",
              "      <td>Και τα δύο</td>\n",
              "      <td>501+</td>\n",
              "      <td>Όχι</td>\n",
              "      <td>Bachelor's</td>\n",
              "      <td>Ναι</td>\n",
              "      <td>39361</td>\n",
              "    </tr>\n",
              "    <tr>\n",
              "      <th>1</th>\n",
              "      <td>[Backend, Frontend]</td>\n",
              "      <td>[JavaScript]</td>\n",
              "      <td>7</td>\n",
              "      <td>Ναι</td>\n",
              "      <td>Άντρας</td>\n",
              "      <td>Απομακρυσμένα</td>\n",
              "      <td>201 - 500</td>\n",
              "      <td>Όχι</td>\n",
              "      <td>Bachelor's</td>\n",
              "      <td>Ναι</td>\n",
              "      <td>30142</td>\n",
              "    </tr>\n",
              "  </tbody>\n",
              "</table>\n",
              "</div>"
            ],
            "text/plain": [
              "               devtype          languages  years_experience personal_projects   \n",
              "0  [Backend, Frontend]  [JavaScript, PHP]                13               Ναι  \\\n",
              "1  [Backend, Frontend]       [JavaScript]                 7               Ναι   \n",
              "\n",
              "      sex         remote company_size supervisor   education relevant  salary  \n",
              "0  Άντρας     Και τα δύο         501+        Όχι  Bachelor's      Ναι   39361  \n",
              "1  Άντρας  Απομακρυσμένα    201 - 500        Όχι  Bachelor's      Ναι   30142  "
            ]
          },
          "execution_count": 38,
          "metadata": {},
          "output_type": "execute_result"
        }
      ],
      "source": [
        "cities_residence, cities_work = pd.unique(df[\"city_residence\"].values), pd.unique(df[\"city_work\"].values)\n",
        "\n",
        "geo_locator = Nominatim(user_agent=\"test\")\n",
        "\n",
        "with tqdm(total=len(cities_residence), desc=\"Formatting City Names\") as city_progressbar:\n",
        "    for city in cities_residence:\n",
        "        try:\n",
        "            country = geo_locator.geocode(city).address.split(\",\")[-1].strip()\n",
        "            df[\"city_residence\"] = df[\"city_residence\"].replace(city, country)\n",
        "\n",
        "        except AttributeError:\n",
        "            df[\"city_residence\"] = df[\"city_residence\"].replace(city, \"UNK\")\n",
        "        city_progressbar.update(1)\n",
        "\n",
        "df = df[df.city_residence == \"Ελλάς\"]\n",
        "\n",
        "df = df.drop(columns=[\"city_residence\", \"city_work\"])\n",
        "df.head(2)\n"
      ]
    },
    {
      "cell_type": "markdown",
      "metadata": {
        "id": "WGqSrT3zzPQl"
      },
      "source": [
        "## Replace NA values\n",
        "Replace NA values regarding relevant projects with \"No\""
      ]
    },
    {
      "cell_type": "code",
      "execution_count": 39,
      "metadata": {
        "id": "7tTAeQUGeE5X"
      },
      "outputs": [],
      "source": [
        "df[\"relevant\"] = df[\"relevant\"].fillna(\"Όχι\")\n"
      ]
    },
    {
      "cell_type": "markdown",
      "metadata": {
        "id": "rw0-1Sgxzei4"
      },
      "source": [
        "# Define Feature Columns"
      ]
    },
    {
      "cell_type": "code",
      "execution_count": 40,
      "metadata": {
        "id": "ZMfzC-xtfj7I"
      },
      "outputs": [],
      "source": [
        "category_columns = [\n",
        "    \"company_size\",\n",
        "    \"remote\",\n",
        "    \"supervisor\",\n",
        "    \"personal_projects\",\n",
        "    \"sex\",\n",
        "    \"education\",\n",
        "    \"relevant\",\n",
        "]\n",
        "\n",
        "for col in category_columns:\n",
        "    df[f\"{col}_xf\"] = df[col].astype(\"category\")\n",
        "\n",
        "df = df.drop(columns=category_columns)\n"
      ]
    },
    {
      "cell_type": "code",
      "execution_count": 41,
      "metadata": {
        "id": "_e7GFD_hgY89"
      },
      "outputs": [
        {
          "name": "stdout",
          "output_type": "stream",
          "text": [
            "{'AI/ML', 'BI', 'Frontend', 'Embedded', 'Mobileapps', 'Cybersecurity', 'Backend', 'Desktopapps', 'DevOps', 'Gaming'}\n",
            "{'TypeScript', 'Go', 'C', 'Java', 'Ruby', 'SQL', 'PHP', 'Swift', 'C#', 'Kotlin', 'Bash', 'Python', 'C++', 'JavaScript'}\n"
          ]
        }
      ],
      "source": [
        "multi_category_columns = [\"devtype\", \"languages\"]\n",
        "\n",
        "\n",
        "def col_title(col, word):\n",
        "    return f\"{col}_{word}\"\n",
        "\n",
        "\n",
        "for col in multi_category_columns:\n",
        "    vocab = set([item for sublist in df[col].values for item in sublist])\n",
        "    for word in vocab:\n",
        "        df[col_title(col, word)] = 0\n",
        "        df[col_title(col, word)] = df[col_title(col, word)].astype(\"int32\")\n",
        "    print(vocab)\n",
        "\n",
        "for index, row in df.iterrows():\n",
        "    for col in multi_category_columns:\n",
        "        words = row[col]\n",
        "        for word in words:\n",
        "            df.loc[index, col_title(col, word)] = 1\n",
        "\n",
        "bad_tf_scope_names = [(\"languages_C#\", \"languages_Csharp\"), (\"languages_C++\", \"languages_Cpp\")]\n",
        "for before, after in bad_tf_scope_names:\n",
        "    df[after] = df[before]\n",
        "    df = df.drop(columns=[before])\n",
        "\n",
        "df = df.drop(columns=multi_category_columns)\n"
      ]
    },
    {
      "cell_type": "markdown",
      "metadata": {
        "id": "lEhwFrJ52J-O"
      },
      "source": [
        "## Split the dataset into training and validation sets"
      ]
    },
    {
      "cell_type": "code",
      "execution_count": 42,
      "metadata": {
        "id": "CL8C644Pgs2X"
      },
      "outputs": [
        {
          "name": "stdout",
          "output_type": "stream",
          "text": [
            "544 train examples\n",
            "136 validation examples\n"
          ]
        }
      ],
      "source": [
        "train, val = train_test_split(df, test_size=0.2)\n",
        "print(len(train), \"train examples\")\n",
        "print(len(val), \"validation examples\")\n"
      ]
    },
    {
      "cell_type": "code",
      "execution_count": 43,
      "metadata": {
        "id": "FbjuD0nGg2lz"
      },
      "outputs": [],
      "source": [
        "def df_to_dataset(df, shuffle=True, batch_size=32):\n",
        "    df = df.copy()\n",
        "    labels = df.pop(\"salary\")\n",
        "    ds = tf.data.Dataset.from_tensor_slices((dict(df), labels))\n",
        "    if shuffle:\n",
        "        ds = ds.shuffle(buffer_size=len(df))\n",
        "    ds = ds.batch(batch_size)\n",
        "    return ds\n",
        "\n",
        "\n",
        "train_ds = df_to_dataset(train, batch_size=32)\n",
        "eval_ds = df_to_dataset(train, batch_size=32, shuffle=True)\n"
      ]
    },
    {
      "cell_type": "code",
      "execution_count": 44,
      "metadata": {
        "id": "ky-qm-mwg9Vg"
      },
      "outputs": [
        {
          "name": "stdout",
          "output_type": "stream",
          "text": [
            "Every feature: ['years_experience', 'company_size_xf', 'remote_xf', 'supervisor_xf', 'personal_projects_xf', 'sex_xf', 'education_xf', 'relevant_xf', 'devtype_AI/ML', 'devtype_BI', 'devtype_Frontend', 'devtype_Embedded', 'devtype_Mobileapps', 'devtype_Cybersecurity', 'devtype_Backend', 'devtype_Desktopapps', 'devtype_DevOps', 'devtype_Gaming', 'languages_TypeScript', 'languages_Go', 'languages_C', 'languages_Java', 'languages_Ruby', 'languages_SQL', 'languages_PHP', 'languages_Swift', 'languages_Kotlin', 'languages_Bash', 'languages_Python', 'languages_JavaScript', 'languages_Csharp', 'languages_Cpp']\n"
          ]
        },
        {
          "name": "stderr",
          "output_type": "stream",
          "text": [
            "2023-04-15 17:26:23.869859: I tensorflow/core/common_runtime/executor.cc:1197] [/device:CPU:0] (DEBUG INFO) Executor start aborting (this does not indicate an error and you can ignore this message): INVALID_ARGUMENT: You must feed a value for placeholder tensor 'Placeholder/_13' with dtype int32 and shape [544]\n",
            "\t [[{{node Placeholder/_13}}]]\n",
            "2023-04-15 17:26:23.870857: I tensorflow/core/common_runtime/executor.cc:1197] [/device:CPU:0] (DEBUG INFO) Executor start aborting (this does not indicate an error and you can ignore this message): INVALID_ARGUMENT: You must feed a value for placeholder tensor 'Placeholder/_14' with dtype int32 and shape [544]\n",
            "\t [[{{node Placeholder/_14}}]]\n"
          ]
        }
      ],
      "source": [
        "for feature_batch, label_batch in train_ds.take(1):\n",
        "    feature_column_keys = list(feature_batch.keys())\n",
        "    print(\"Every feature:\", feature_column_keys)\n"
      ]
    },
    {
      "cell_type": "markdown",
      "metadata": {
        "id": "HD49BSqe2VVo"
      },
      "source": [
        "## Encode features into columns"
      ]
    },
    {
      "cell_type": "code",
      "execution_count": 45,
      "metadata": {
        "id": "oTKmYnRuhALW"
      },
      "outputs": [
        {
          "name": "stdout",
          "output_type": "stream",
          "text": [
            "WARNING:tensorflow:From /tmp/ipykernel_13396/2855572759.py:9: numeric_column (from tensorflow.python.feature_column.feature_column_v2) is deprecated and will be removed in a future version.\n",
            "Instructions for updating:\n",
            "Use Keras preprocessing layers instead, either directly or via the `tf.keras.utils.FeatureSpace` utility. Each of `tf.feature_column.*` has a functional equivalent in `tf.keras.layers` for feature preprocessing when training a Keras model.\n",
            "WARNING:tensorflow:From /tmp/ipykernel_13396/2855572759.py:12: categorical_column_with_vocabulary_list (from tensorflow.python.feature_column.feature_column_v2) is deprecated and will be removed in a future version.\n",
            "Instructions for updating:\n",
            "Use Keras preprocessing layers instead, either directly or via the `tf.keras.utils.FeatureSpace` utility. Each of `tf.feature_column.*` has a functional equivalent in `tf.keras.layers` for feature preprocessing when training a Keras model.\n",
            "WARNING:tensorflow:From /tmp/ipykernel_13396/2855572759.py:16: indicator_column (from tensorflow.python.feature_column.feature_column_v2) is deprecated and will be removed in a future version.\n",
            "Instructions for updating:\n",
            "Use Keras preprocessing layers instead, either directly or via the `tf.keras.utils.FeatureSpace` utility. Each of `tf.feature_column.*` has a functional equivalent in `tf.keras.layers` for feature preprocessing when training a Keras model.\n",
            "[NumericColumn(key='years_experience', shape=(1,), default_value=None, dtype=tf.float32, normalizer_fn=None), NumericColumn(key='devtype_AI/ML', shape=(1,), default_value=None, dtype=tf.float32, normalizer_fn=None), NumericColumn(key='devtype_BI', shape=(1,), default_value=None, dtype=tf.float32, normalizer_fn=None), NumericColumn(key='devtype_Frontend', shape=(1,), default_value=None, dtype=tf.float32, normalizer_fn=None), NumericColumn(key='devtype_Embedded', shape=(1,), default_value=None, dtype=tf.float32, normalizer_fn=None), NumericColumn(key='devtype_Mobileapps', shape=(1,), default_value=None, dtype=tf.float32, normalizer_fn=None), NumericColumn(key='devtype_Cybersecurity', shape=(1,), default_value=None, dtype=tf.float32, normalizer_fn=None), NumericColumn(key='devtype_Backend', shape=(1,), default_value=None, dtype=tf.float32, normalizer_fn=None), NumericColumn(key='devtype_Desktopapps', shape=(1,), default_value=None, dtype=tf.float32, normalizer_fn=None), NumericColumn(key='devtype_DevOps', shape=(1,), default_value=None, dtype=tf.float32, normalizer_fn=None), NumericColumn(key='devtype_Gaming', shape=(1,), default_value=None, dtype=tf.float32, normalizer_fn=None), NumericColumn(key='languages_TypeScript', shape=(1,), default_value=None, dtype=tf.float32, normalizer_fn=None), NumericColumn(key='languages_Go', shape=(1,), default_value=None, dtype=tf.float32, normalizer_fn=None), NumericColumn(key='languages_C', shape=(1,), default_value=None, dtype=tf.float32, normalizer_fn=None), NumericColumn(key='languages_Java', shape=(1,), default_value=None, dtype=tf.float32, normalizer_fn=None), NumericColumn(key='languages_Ruby', shape=(1,), default_value=None, dtype=tf.float32, normalizer_fn=None), NumericColumn(key='languages_SQL', shape=(1,), default_value=None, dtype=tf.float32, normalizer_fn=None), NumericColumn(key='languages_PHP', shape=(1,), default_value=None, dtype=tf.float32, normalizer_fn=None), NumericColumn(key='languages_Swift', shape=(1,), default_value=None, dtype=tf.float32, normalizer_fn=None), NumericColumn(key='languages_Kotlin', shape=(1,), default_value=None, dtype=tf.float32, normalizer_fn=None), NumericColumn(key='languages_Bash', shape=(1,), default_value=None, dtype=tf.float32, normalizer_fn=None), NumericColumn(key='languages_Python', shape=(1,), default_value=None, dtype=tf.float32, normalizer_fn=None), NumericColumn(key='languages_JavaScript', shape=(1,), default_value=None, dtype=tf.float32, normalizer_fn=None), NumericColumn(key='languages_Csharp', shape=(1,), default_value=None, dtype=tf.float32, normalizer_fn=None), NumericColumn(key='languages_Cpp', shape=(1,), default_value=None, dtype=tf.float32, normalizer_fn=None), IndicatorColumn(categorical_column=VocabularyListCategoricalColumn(key='company_size_xf', vocabulary_list=('501+', '201 - 500', '1 - 10', '51 - 100', '11 - 50', '101 - 200'), dtype=tf.string, default_value=-1, num_oov_buckets=0)), IndicatorColumn(categorical_column=VocabularyListCategoricalColumn(key='remote_xf', vocabulary_list=('Και τα δύο', 'Απομακρυσμένα', 'Στον χώρο του εργοδότη'), dtype=tf.string, default_value=-1, num_oov_buckets=0)), IndicatorColumn(categorical_column=VocabularyListCategoricalColumn(key='supervisor_xf', vocabulary_list=('Όχι', 'Ναι'), dtype=tf.string, default_value=-1, num_oov_buckets=0)), IndicatorColumn(categorical_column=VocabularyListCategoricalColumn(key='personal_projects_xf', vocabulary_list=('Ναι', 'Όχι'), dtype=tf.string, default_value=-1, num_oov_buckets=0)), IndicatorColumn(categorical_column=VocabularyListCategoricalColumn(key='sex_xf', vocabulary_list=('Άντρας', 'Γυναίκα', 'Συκής :)'), dtype=tf.string, default_value=-1, num_oov_buckets=0)), IndicatorColumn(categorical_column=VocabularyListCategoricalColumn(key='education_xf', vocabulary_list=(\"Bachelor's\", 'Λύκειο', 'Master', 'ΙΕΚ', 'Χωρίς Δευτεροβάθμια Εκπαίδευση', 'PhD'), dtype=tf.string, default_value=-1, num_oov_buckets=0)), IndicatorColumn(categorical_column=VocabularyListCategoricalColumn(key='relevant_xf', vocabulary_list=('Ναι', 'Όχι', 'ΟΧΙ, σπούδασα Μηχανολόγος Μηχανικός', 'ΣΕΜΦΕ', 'Έμμεσα', 'Σπουδάζω Μηχανικος Βιομηχανικης Σχεδιασης και Παραγωγης, ειναι σχολη εφαρμοργων αρα εν μερη σχετιζεται.', 'Ηλεκτρονικός', 'Διοίκηση Επιχειρήσεων', 'Mathematics', 'ΧΗΜΕΙΑ', 'MATHEMATICS ', 'Φυσικής', 'Στατιστική', 'Economics', 'Παιδαγωγικά ', 'Μηχανολόγος Μηχανικός', 'Φυσική', 'Ηλεκτρολόγος Μηχανικός', 'Μηχανικών Παραγωγής και Διοικησης', 'civil engineering', 'Ηλεκτρολογία', 'History & Philosophy of Science', 'Οικονομικά', 'ΌΧΙ', 'Νευροεπιστήμη', 'ΗΛΕΚΤΡΟΝΙΚΟΣ ΜΗΧΑΝΙΚΟΣ', 'Επιστήμη και Τεχνολογία Υλικών', 'Αρχιτεκτονική', 'Χημικός Μηχανικός', 'Μαθηματικό', 'Business Administration', 'είμαι ακόμα φοιτητής', 'Διοίκηση επιχειρήσεων', 'Τεχνολογία Τροφίμων', 'Πολιτικός μηχανικός - Master πληροφορική ', 'Μηχανολόγων & Αεροναυπηγών Μηχανικών', 'Ηλεκτρονικός μηχανικός', 'Βιομηχανική Διοίκηση', 'ΟΙΚΟΝΟΜΙΚΉ ΚΑΙ ΠΕΡΙΦΕΡΕΙΑΚΗ ΑΝΆΠΤΥΞΗ ', 'Μεταπτυχιακο ναι', 'Chemical Engineering', 'Φυσικό', 'Physics (BS) / Business Analytics (MSc)', 'Μηχανολόγος μηχανικός ', 'Πολιτικος μηχανικος ΑΠΘ', 'Μαθηματικός', 'ΤΕΙ Αυτοματισμου', 'Διοίκηση επιχειρήσεων ', 'Φωτογραφία ', 'Hmmy', 'Ναι αλλά είμαι ακόμα φοιτητής', 'Ναυπηγός Μηχανολόγος Μηχανικός', 'Τεχνικός Υπολογιστών', 'Μαθηματικά', 'Παιδαγωγικο', 'Bioinformatics ', 'ΟΧΙ', 'Business administration', 'Music Technology', 'Στατιστική και Ασφαλιστική Επιστήμη ', 'οικονομικά ', 'Πολιτικός Μηχανικός', 'Agriculture engineering ', 'Non related', 'Business Administration, λίγα μαθήματα είχε για IT', 'OIKONOMIKA', 'BA OF FINE ARTS', 'Πολιτικός Μηχανικός ', 'Naval Architect'), dtype=tf.string, default_value=-1, num_oov_buckets=0))]\n"
          ]
        }
      ],
      "source": [
        "feature_columns = []\n",
        "\n",
        "numeric_features = [\n",
        "    x for x in feature_column_keys if (\"devtype_\" in x or \"languages_\" in x or \"years_experience\" in x)\n",
        "]\n",
        "categorical_features = [x for x in feature_column_keys if \"_xf\" in x]\n",
        "\n",
        "for feature in numeric_features:\n",
        "    feature_columns.append(feature_column.numeric_column(feature))\n",
        "\n",
        "for feature in categorical_features:\n",
        "    categorical_column = feature_column.categorical_column_with_vocabulary_list(\n",
        "        feature, pd.unique(df[feature].values)\n",
        "    )\n",
        "\n",
        "    feature_columns.append(feature_column.indicator_column(categorical_column))\n",
        "\n",
        "print(feature_columns)\n"
      ]
    },
    {
      "cell_type": "markdown",
      "metadata": {
        "id": "ClxgUGOR2eE9"
      },
      "source": [
        "# Train the model"
      ]
    },
    {
      "cell_type": "code",
      "execution_count": 46,
      "metadata": {
        "id": "AcKwFaXjhB8M"
      },
      "outputs": [
        {
          "name": "stdout",
          "output_type": "stream",
          "text": [
            "<_BatchDataset element_spec=({'years_experience': TensorSpec(shape=(None,), dtype=tf.int64, name=None), 'company_size_xf': TensorSpec(shape=(None,), dtype=tf.string, name=None), 'remote_xf': TensorSpec(shape=(None,), dtype=tf.string, name=None), 'supervisor_xf': TensorSpec(shape=(None,), dtype=tf.string, name=None), 'personal_projects_xf': TensorSpec(shape=(None,), dtype=tf.string, name=None), 'sex_xf': TensorSpec(shape=(None,), dtype=tf.string, name=None), 'education_xf': TensorSpec(shape=(None,), dtype=tf.string, name=None), 'relevant_xf': TensorSpec(shape=(None,), dtype=tf.string, name=None), 'devtype_AI/ML': TensorSpec(shape=(None,), dtype=tf.int32, name=None), 'devtype_BI': TensorSpec(shape=(None,), dtype=tf.int32, name=None), 'devtype_Frontend': TensorSpec(shape=(None,), dtype=tf.int32, name=None), 'devtype_Embedded': TensorSpec(shape=(None,), dtype=tf.int32, name=None), 'devtype_Mobileapps': TensorSpec(shape=(None,), dtype=tf.int32, name=None), 'devtype_Cybersecurity': TensorSpec(shape=(None,), dtype=tf.int32, name=None), 'devtype_Backend': TensorSpec(shape=(None,), dtype=tf.int32, name=None), 'devtype_Desktopapps': TensorSpec(shape=(None,), dtype=tf.int32, name=None), 'devtype_DevOps': TensorSpec(shape=(None,), dtype=tf.int32, name=None), 'devtype_Gaming': TensorSpec(shape=(None,), dtype=tf.int32, name=None), 'languages_TypeScript': TensorSpec(shape=(None,), dtype=tf.int32, name=None), 'languages_Go': TensorSpec(shape=(None,), dtype=tf.int32, name=None), 'languages_C': TensorSpec(shape=(None,), dtype=tf.int32, name=None), 'languages_Java': TensorSpec(shape=(None,), dtype=tf.int32, name=None), 'languages_Ruby': TensorSpec(shape=(None,), dtype=tf.int32, name=None), 'languages_SQL': TensorSpec(shape=(None,), dtype=tf.int32, name=None), 'languages_PHP': TensorSpec(shape=(None,), dtype=tf.int32, name=None), 'languages_Swift': TensorSpec(shape=(None,), dtype=tf.int32, name=None), 'languages_Kotlin': TensorSpec(shape=(None,), dtype=tf.int32, name=None), 'languages_Bash': TensorSpec(shape=(None,), dtype=tf.int32, name=None), 'languages_Python': TensorSpec(shape=(None,), dtype=tf.int32, name=None), 'languages_JavaScript': TensorSpec(shape=(None,), dtype=tf.int32, name=None), 'languages_Csharp': TensorSpec(shape=(None,), dtype=tf.int32, name=None), 'languages_Cpp': TensorSpec(shape=(None,), dtype=tf.int32, name=None)}, TensorSpec(shape=(None,), dtype=tf.int32, name=None))>\n",
            "WARNING:tensorflow:From /home/giorgos/Documents/dev-salary-estimator/.venv/lib/python3.10/site-packages/keras/feature_column/base_feature_layer.py:129: serialize_feature_column (from tensorflow.python.feature_column.serialization) is deprecated and will be removed in a future version.\n",
            "Instructions for updating:\n",
            "Use Keras preprocessing layers instead, either directly or via the `tf.keras.utils.FeatureSpace` utility. Each of `tf.feature_column.*` has a functional equivalent in `tf.keras.layers` for feature preprocessing when training a Keras model.\n",
            "Epoch 1/100\n",
            "WARNING:tensorflow:Layers in a Sequential model should only have a single input tensor. Received: inputs={'years_experience': <tf.Tensor 'IteratorGetNext:31' shape=(None,) dtype=int64>, 'company_size_xf': <tf.Tensor 'IteratorGetNext:0' shape=(None,) dtype=string>, 'remote_xf': <tf.Tensor 'IteratorGetNext:28' shape=(None,) dtype=string>, 'supervisor_xf': <tf.Tensor 'IteratorGetNext:30' shape=(None,) dtype=string>, 'personal_projects_xf': <tf.Tensor 'IteratorGetNext:26' shape=(None,) dtype=string>, 'sex_xf': <tf.Tensor 'IteratorGetNext:29' shape=(None,) dtype=string>, 'education_xf': <tf.Tensor 'IteratorGetNext:11' shape=(None,) dtype=string>, 'relevant_xf': <tf.Tensor 'IteratorGetNext:27' shape=(None,) dtype=string>, 'devtype_AI/ML': <tf.Tensor 'IteratorGetNext:1' shape=(None,) dtype=int32>, 'devtype_BI': <tf.Tensor 'IteratorGetNext:2' shape=(None,) dtype=int32>, 'devtype_Frontend': <tf.Tensor 'IteratorGetNext:8' shape=(None,) dtype=int32>, 'devtype_Embedded': <tf.Tensor 'IteratorGetNext:7' shape=(None,) dtype=int32>, 'devtype_Mobileapps': <tf.Tensor 'IteratorGetNext:10' shape=(None,) dtype=int32>, 'devtype_Cybersecurity': <tf.Tensor 'IteratorGetNext:4' shape=(None,) dtype=int32>, 'devtype_Backend': <tf.Tensor 'IteratorGetNext:3' shape=(None,) dtype=int32>, 'devtype_Desktopapps': <tf.Tensor 'IteratorGetNext:5' shape=(None,) dtype=int32>, 'devtype_DevOps': <tf.Tensor 'IteratorGetNext:6' shape=(None,) dtype=int32>, 'devtype_Gaming': <tf.Tensor 'IteratorGetNext:9' shape=(None,) dtype=int32>, 'languages_TypeScript': <tf.Tensor 'IteratorGetNext:25' shape=(None,) dtype=int32>, 'languages_Go': <tf.Tensor 'IteratorGetNext:16' shape=(None,) dtype=int32>, 'languages_C': <tf.Tensor 'IteratorGetNext:13' shape=(None,) dtype=int32>, 'languages_Java': <tf.Tensor 'IteratorGetNext:17' shape=(None,) dtype=int32>, 'languages_Ruby': <tf.Tensor 'IteratorGetNext:22' shape=(None,) dtype=int32>, 'languages_SQL': <tf.Tensor 'IteratorGetNext:23' shape=(None,) dtype=int32>, 'languages_PHP': <tf.Tensor 'IteratorGetNext:20' shape=(None,) dtype=int32>, 'languages_Swift': <tf.Tensor 'IteratorGetNext:24' shape=(None,) dtype=int32>, 'languages_Kotlin': <tf.Tensor 'IteratorGetNext:19' shape=(None,) dtype=int32>, 'languages_Bash': <tf.Tensor 'IteratorGetNext:12' shape=(None,) dtype=int32>, 'languages_Python': <tf.Tensor 'IteratorGetNext:21' shape=(None,) dtype=int32>, 'languages_JavaScript': <tf.Tensor 'IteratorGetNext:18' shape=(None,) dtype=int32>, 'languages_Csharp': <tf.Tensor 'IteratorGetNext:15' shape=(None,) dtype=int32>, 'languages_Cpp': <tf.Tensor 'IteratorGetNext:14' shape=(None,) dtype=int32>}. Consider rewriting this model with the Functional API.\n"
          ]
        },
        {
          "name": "stderr",
          "output_type": "stream",
          "text": [
            "2023-04-15 17:26:24.217719: I tensorflow/core/common_runtime/executor.cc:1197] [/device:CPU:0] (DEBUG INFO) Executor start aborting (this does not indicate an error and you can ignore this message): INVALID_ARGUMENT: You must feed a value for placeholder tensor 'Placeholder/_11' with dtype string and shape [544]\n",
            "\t [[{{node Placeholder/_11}}]]\n",
            "2023-04-15 17:26:24.219145: I tensorflow/core/common_runtime/executor.cc:1197] [/device:CPU:0] (DEBUG INFO) Executor start aborting (this does not indicate an error and you can ignore this message): INVALID_ARGUMENT: You must feed a value for placeholder tensor 'Placeholder/_28' with dtype string and shape [544]\n",
            "\t [[{{node Placeholder/_28}}]]\n"
          ]
        },
        {
          "name": "stdout",
          "output_type": "stream",
          "text": [
            "WARNING:tensorflow:Layers in a Sequential model should only have a single input tensor. Received: inputs={'years_experience': <tf.Tensor 'IteratorGetNext:31' shape=(None,) dtype=int64>, 'company_size_xf': <tf.Tensor 'IteratorGetNext:0' shape=(None,) dtype=string>, 'remote_xf': <tf.Tensor 'IteratorGetNext:28' shape=(None,) dtype=string>, 'supervisor_xf': <tf.Tensor 'IteratorGetNext:30' shape=(None,) dtype=string>, 'personal_projects_xf': <tf.Tensor 'IteratorGetNext:26' shape=(None,) dtype=string>, 'sex_xf': <tf.Tensor 'IteratorGetNext:29' shape=(None,) dtype=string>, 'education_xf': <tf.Tensor 'IteratorGetNext:11' shape=(None,) dtype=string>, 'relevant_xf': <tf.Tensor 'IteratorGetNext:27' shape=(None,) dtype=string>, 'devtype_AI/ML': <tf.Tensor 'IteratorGetNext:1' shape=(None,) dtype=int32>, 'devtype_BI': <tf.Tensor 'IteratorGetNext:2' shape=(None,) dtype=int32>, 'devtype_Frontend': <tf.Tensor 'IteratorGetNext:8' shape=(None,) dtype=int32>, 'devtype_Embedded': <tf.Tensor 'IteratorGetNext:7' shape=(None,) dtype=int32>, 'devtype_Mobileapps': <tf.Tensor 'IteratorGetNext:10' shape=(None,) dtype=int32>, 'devtype_Cybersecurity': <tf.Tensor 'IteratorGetNext:4' shape=(None,) dtype=int32>, 'devtype_Backend': <tf.Tensor 'IteratorGetNext:3' shape=(None,) dtype=int32>, 'devtype_Desktopapps': <tf.Tensor 'IteratorGetNext:5' shape=(None,) dtype=int32>, 'devtype_DevOps': <tf.Tensor 'IteratorGetNext:6' shape=(None,) dtype=int32>, 'devtype_Gaming': <tf.Tensor 'IteratorGetNext:9' shape=(None,) dtype=int32>, 'languages_TypeScript': <tf.Tensor 'IteratorGetNext:25' shape=(None,) dtype=int32>, 'languages_Go': <tf.Tensor 'IteratorGetNext:16' shape=(None,) dtype=int32>, 'languages_C': <tf.Tensor 'IteratorGetNext:13' shape=(None,) dtype=int32>, 'languages_Java': <tf.Tensor 'IteratorGetNext:17' shape=(None,) dtype=int32>, 'languages_Ruby': <tf.Tensor 'IteratorGetNext:22' shape=(None,) dtype=int32>, 'languages_SQL': <tf.Tensor 'IteratorGetNext:23' shape=(None,) dtype=int32>, 'languages_PHP': <tf.Tensor 'IteratorGetNext:20' shape=(None,) dtype=int32>, 'languages_Swift': <tf.Tensor 'IteratorGetNext:24' shape=(None,) dtype=int32>, 'languages_Kotlin': <tf.Tensor 'IteratorGetNext:19' shape=(None,) dtype=int32>, 'languages_Bash': <tf.Tensor 'IteratorGetNext:12' shape=(None,) dtype=int32>, 'languages_Python': <tf.Tensor 'IteratorGetNext:21' shape=(None,) dtype=int32>, 'languages_JavaScript': <tf.Tensor 'IteratorGetNext:18' shape=(None,) dtype=int32>, 'languages_Csharp': <tf.Tensor 'IteratorGetNext:15' shape=(None,) dtype=int32>, 'languages_Cpp': <tf.Tensor 'IteratorGetNext:14' shape=(None,) dtype=int32>}. Consider rewriting this model with the Functional API.\n",
            " 1/17 [>.............................] - ETA: 9s - loss: 64293.7656 - mae: 64293.7656WARNING:tensorflow:Layers in a Sequential model should only have a single input tensor. Received: inputs={'years_experience': <tf.Tensor 'IteratorGetNext:31' shape=(None,) dtype=int64>, 'company_size_xf': <tf.Tensor 'IteratorGetNext:0' shape=(None,) dtype=string>, 'remote_xf': <tf.Tensor 'IteratorGetNext:28' shape=(None,) dtype=string>, 'supervisor_xf': <tf.Tensor 'IteratorGetNext:30' shape=(None,) dtype=string>, 'personal_projects_xf': <tf.Tensor 'IteratorGetNext:26' shape=(None,) dtype=string>, 'sex_xf': <tf.Tensor 'IteratorGetNext:29' shape=(None,) dtype=string>, 'education_xf': <tf.Tensor 'IteratorGetNext:11' shape=(None,) dtype=string>, 'relevant_xf': <tf.Tensor 'IteratorGetNext:27' shape=(None,) dtype=string>, 'devtype_AI/ML': <tf.Tensor 'IteratorGetNext:1' shape=(None,) dtype=int32>, 'devtype_BI': <tf.Tensor 'IteratorGetNext:2' shape=(None,) dtype=int32>, 'devtype_Frontend': <tf.Tensor 'IteratorGetNext:8' shape=(None,) dtype=int32>, 'devtype_Embedded': <tf.Tensor 'IteratorGetNext:7' shape=(None,) dtype=int32>, 'devtype_Mobileapps': <tf.Tensor 'IteratorGetNext:10' shape=(None,) dtype=int32>, 'devtype_Cybersecurity': <tf.Tensor 'IteratorGetNext:4' shape=(None,) dtype=int32>, 'devtype_Backend': <tf.Tensor 'IteratorGetNext:3' shape=(None,) dtype=int32>, 'devtype_Desktopapps': <tf.Tensor 'IteratorGetNext:5' shape=(None,) dtype=int32>, 'devtype_DevOps': <tf.Tensor 'IteratorGetNext:6' shape=(None,) dtype=int32>, 'devtype_Gaming': <tf.Tensor 'IteratorGetNext:9' shape=(None,) dtype=int32>, 'languages_TypeScript': <tf.Tensor 'IteratorGetNext:25' shape=(None,) dtype=int32>, 'languages_Go': <tf.Tensor 'IteratorGetNext:16' shape=(None,) dtype=int32>, 'languages_C': <tf.Tensor 'IteratorGetNext:13' shape=(None,) dtype=int32>, 'languages_Java': <tf.Tensor 'IteratorGetNext:17' shape=(None,) dtype=int32>, 'languages_Ruby': <tf.Tensor 'IteratorGetNext:22' shape=(None,) dtype=int32>, 'languages_SQL': <tf.Tensor 'IteratorGetNext:23' shape=(None,) dtype=int32>, 'languages_PHP': <tf.Tensor 'IteratorGetNext:20' shape=(None,) dtype=int32>, 'languages_Swift': <tf.Tensor 'IteratorGetNext:24' shape=(None,) dtype=int32>, 'languages_Kotlin': <tf.Tensor 'IteratorGetNext:19' shape=(None,) dtype=int32>, 'languages_Bash': <tf.Tensor 'IteratorGetNext:12' shape=(None,) dtype=int32>, 'languages_Python': <tf.Tensor 'IteratorGetNext:21' shape=(None,) dtype=int32>, 'languages_JavaScript': <tf.Tensor 'IteratorGetNext:18' shape=(None,) dtype=int32>, 'languages_Csharp': <tf.Tensor 'IteratorGetNext:15' shape=(None,) dtype=int32>, 'languages_Cpp': <tf.Tensor 'IteratorGetNext:14' shape=(None,) dtype=int32>}. Consider rewriting this model with the Functional API.\n"
          ]
        },
        {
          "name": "stderr",
          "output_type": "stream",
          "text": [
            "2023-04-15 17:26:24.869309: I tensorflow/core/common_runtime/executor.cc:1197] [/device:CPU:0] (DEBUG INFO) Executor start aborting (this does not indicate an error and you can ignore this message): INVALID_ARGUMENT: You must feed a value for placeholder tensor 'Placeholder/_0' with dtype string and shape [544]\n",
            "\t [[{{node Placeholder/_0}}]]\n",
            "2023-04-15 17:26:24.870012: I tensorflow/core/common_runtime/executor.cc:1197] [/device:CPU:0] (DEBUG INFO) Executor start aborting (this does not indicate an error and you can ignore this message): INVALID_ARGUMENT: You must feed a value for placeholder tensor 'Placeholder/_1' with dtype int32 and shape [544]\n",
            "\t [[{{node Placeholder/_1}}]]\n"
          ]
        },
        {
          "name": "stdout",
          "output_type": "stream",
          "text": [
            "17/17 [==============================] - 1s 22ms/step - loss: 23444.5410 - mae: 23444.5410 - val_loss: 23419.1094 - val_mae: 23419.1094\n",
            "Epoch 2/100\n",
            "17/17 [==============================] - 0s 4ms/step - loss: 21967.9922 - mae: 21967.9922 - val_loss: 14531.2598 - val_mae: 14531.2598\n",
            "Epoch 3/100\n",
            "17/17 [==============================] - 0s 4ms/step - loss: 13050.8037 - mae: 13050.8037 - val_loss: 10291.1533 - val_mae: 10291.1533\n",
            "Epoch 4/100\n",
            "17/17 [==============================] - 0s 3ms/step - loss: 10713.2949 - mae: 10713.2949 - val_loss: 9843.1416 - val_mae: 9843.1416\n",
            "Epoch 5/100\n",
            "17/17 [==============================] - 0s 3ms/step - loss: 9855.7910 - mae: 9855.7910 - val_loss: 9583.9248 - val_mae: 9583.9248\n",
            "Epoch 6/100\n",
            "17/17 [==============================] - 0s 3ms/step - loss: 9682.5713 - mae: 9682.5713 - val_loss: 9416.1484 - val_mae: 9416.1484\n",
            "Epoch 7/100\n",
            "17/17 [==============================] - 0s 3ms/step - loss: 9496.6201 - mae: 9496.6201 - val_loss: 9354.3184 - val_mae: 9354.3184\n",
            "Epoch 8/100\n",
            "17/17 [==============================] - 0s 3ms/step - loss: 9482.8916 - mae: 9482.8916 - val_loss: 10152.6719 - val_mae: 10152.6719\n",
            "Epoch 9/100\n",
            "17/17 [==============================] - 0s 4ms/step - loss: 9664.9697 - mae: 9664.9697 - val_loss: 9333.8428 - val_mae: 9333.8428\n",
            "Epoch 10/100\n",
            "17/17 [==============================] - 0s 4ms/step - loss: 9411.4102 - mae: 9411.4102 - val_loss: 9273.1943 - val_mae: 9273.1943\n",
            "Epoch 11/100\n",
            "17/17 [==============================] - 0s 4ms/step - loss: 9539.1211 - mae: 9539.1211 - val_loss: 9251.7969 - val_mae: 9251.7969\n",
            "Epoch 12/100\n",
            "17/17 [==============================] - 0s 4ms/step - loss: 9736.0117 - mae: 9736.0117 - val_loss: 9253.3213 - val_mae: 9253.3213\n",
            "Epoch 13/100\n",
            "17/17 [==============================] - 0s 4ms/step - loss: 9553.8467 - mae: 9553.8467 - val_loss: 9337.9170 - val_mae: 9337.9170\n"
          ]
        },
        {
          "data": {
            "text/plain": [
              "<keras.callbacks.History at 0x7f42f06fcdf0>"
            ]
          },
          "execution_count": 46,
          "metadata": {},
          "output_type": "execute_result"
        }
      ],
      "source": [
        "feature_layer = tf.keras.layers.DenseFeatures(feature_columns)\n",
        "\n",
        "model = tf.keras.Sequential([feature_layer, layers.Dense(8, activation=\"relu\"), layers.Dense(1)])\n",
        "\n",
        "model.compile(optimizer=tf.keras.optimizers.SGD(momentum=0.9), loss=\"mae\", metrics=[\"mae\"])\n",
        "\n",
        "callbacks = [\n",
        "    tf.keras.callbacks.EarlyStopping(patience=2),\n",
        "    tf.keras.callbacks.ModelCheckpoint(filepath=\"model.{epoch:02d}-{val_loss:.2f}.h5\"),\n",
        "    tf.keras.callbacks.TensorBoard(log_dir=\"./logs\"),\n",
        "]\n",
        "print(train_ds)\n",
        "model.fit(train_ds, validation_data=eval_ds, epochs=100, callbacks=callbacks)\n"
      ]
    },
    {
      "cell_type": "markdown",
      "metadata": {
        "id": "83SIIyqL2gzs"
      },
      "source": [
        "# Try your values"
      ]
    },
    {
      "cell_type": "code",
      "execution_count": 48,
      "metadata": {
        "id": "sOCTrzYphmL8"
      },
      "outputs": [
        {
          "name": "stdout",
          "output_type": "stream",
          "text": [
            "WARNING:tensorflow:Layers in a Sequential model should only have a single input tensor. Received: inputs={'years_experience': [<tf.Tensor: shape=(), dtype=int32, numpy=1>], 'company_size_xf': ['11-50'], 'education_xf': [\"Bachelor's\"], 'relevant_xf': ['Ναι'], 'personal_projects_xf': ['Ναι'], 'remote_xf': ['Και τα δύο'], 'supervisor_xf': ['Ναι'], 'sex_xf': ['Άντρας'], 'devtype_Backend': [<tf.Tensor: shape=(), dtype=int32, numpy=1>], 'devtype_Desktopapps': [<tf.Tensor: shape=(), dtype=int32, numpy=0>], 'devtype_DevOps': [<tf.Tensor: shape=(), dtype=int32, numpy=0>], 'devtype_AI/ML': [<tf.Tensor: shape=(), dtype=int32, numpy=0>], 'devtype_BI': [<tf.Tensor: shape=(), dtype=int32, numpy=0>], 'devtype_Cybersecurity': [<tf.Tensor: shape=(), dtype=int32, numpy=0>], 'devtype_Embedded': [<tf.Tensor: shape=(), dtype=int32, numpy=0>], 'devtype_Gaming': [<tf.Tensor: shape=(), dtype=int32, numpy=0>], 'devtype_Frontend': [<tf.Tensor: shape=(), dtype=int32, numpy=1>], 'devtype_Mobileapps': [<tf.Tensor: shape=(), dtype=int32, numpy=0>], 'languages_C': [<tf.Tensor: shape=(), dtype=int32, numpy=0>], 'languages_SQL': [<tf.Tensor: shape=(), dtype=int32, numpy=0>], 'languages_PHP': [<tf.Tensor: shape=(), dtype=int32, numpy=0>], 'languages_JavaScript': [<tf.Tensor: shape=(), dtype=int32, numpy=1>], 'languages_Kotlin': [<tf.Tensor: shape=(), dtype=int32, numpy=0>], 'languages_TypeScript': [<tf.Tensor: shape=(), dtype=int32, numpy=0>], 'languages_Python': [<tf.Tensor: shape=(), dtype=int32, numpy=1>], 'languages_Ruby': [<tf.Tensor: shape=(), dtype=int32, numpy=0>], 'languages_Bash': [<tf.Tensor: shape=(), dtype=int32, numpy=0>], 'languages_Go': [<tf.Tensor: shape=(), dtype=int32, numpy=0>], 'languages_Java': [<tf.Tensor: shape=(), dtype=int32, numpy=0>], 'languages_Swift': [<tf.Tensor: shape=(), dtype=int32, numpy=0>], 'languages_Csharp': [<tf.Tensor: shape=(), dtype=int32, numpy=0>], 'languages_Cpp': [<tf.Tensor: shape=(), dtype=int32, numpy=0>]}. Consider rewriting this model with the Functional API.\n"
          ]
        },
        {
          "data": {
            "text/plain": [
              "'Βγάζεις: 15461.072265625 ευρώ το χρόνο'"
            ]
          },
          "execution_count": 48,
          "metadata": {},
          "output_type": "execute_result"
        }
      ],
      "source": [
        "input = {\n",
        "    'years_experience': 0.5,\n",
        "    'company_size_xf': '11-50',\n",
        "    'education_xf': \"Bachelor's\",\n",
        "    'relevant_xf': \"Ναι\",\n",
        "    'personal_projects_xf': 'Ναι',\n",
        "    'remote_xf': 'Και τα δύο',\n",
        "    'supervisor_xf': 'Ναι',\n",
        "    'sex_xf': 'Άντρας',\n",
        "    'devtype_Backend': 1 ,              \n",
        "    'devtype_Desktopapps': 0,         \n",
        "    'devtype_DevOps': 0,            \n",
        "    'devtype_AI/ML': 0 ,       \n",
        "    'devtype_BI': 0 ,\n",
        "    'devtype_Cybersecurity': 0,\n",
        "    'devtype_Embedded': 0,\n",
        "    'devtype_Gaming': 0,                     \n",
        "    'devtype_Frontend': 1,        \n",
        "    'devtype_Mobileapps': 0,           \n",
        "    'languages_C': 0 ,\n",
        "    'languages_SQL': 0,              \n",
        "    'languages_PHP': 0 ,             \n",
        "    'languages_JavaScript': 1 ,         \n",
        "    'languages_Kotlin' : 0 ,\n",
        "    'languages_TypeScript' : 0,              \n",
        "    'languages_Python': 1 ,            \n",
        "    'languages_Ruby': 0 ,               \n",
        "    'languages_Bash': 0,             \n",
        "    'languages_Go': 0 ,             \n",
        "    'languages_Java': 0 ,            \n",
        "    'languages_Swift': 0 ,            \n",
        "    'languages_Csharp': 0 ,         \n",
        "    'languages_Cpp': 0 , \n",
        "}\n",
        "\n",
        "input = {k: [v] for k, v in input.items()}\n",
        "\n",
        "prediction = model(input).numpy()[0][0]\n",
        "f'Βγάζεις: {prediction} ευρώ το χρόνο'"
      ]
    }
  ],
  "metadata": {
    "colab": {
      "authorship_tag": "ABX9TyMQMuEgU0LiwxVj0etuaxr4",
      "include_colab_link": true,
      "provenance": []
    },
    "kernelspec": {
      "display_name": "Python 3",
      "name": "python3"
    },
    "language_info": {
      "name": "python"
    }
  },
  "nbformat": 4,
  "nbformat_minor": 0
}
